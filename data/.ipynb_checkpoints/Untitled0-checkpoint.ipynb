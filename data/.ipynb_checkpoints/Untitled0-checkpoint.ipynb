{
 "metadata": {
  "name": "",
  "signature": "sha256:51f22e659edb85e93e05f5b67561cab5b901c1820a2b69ca9e242a3ee3b1ac45"
 },
 "nbformat": 3,
 "nbformat_minor": 0,
 "worksheets": []
}