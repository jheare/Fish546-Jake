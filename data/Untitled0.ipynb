{
 "metadata": {
  "name": "",
  "signature": "sha256:1055bd4b461c09de1cad3a87909e4068243ffe3d914b451f335ca702eab27ed9"
 },
 "nbformat": 3,
 "nbformat_minor": 0,
 "worksheets": [
  {
   "cells": [
    {
     "cell_type": "code",
     "collapsed": false,
     "input": [
      "ls\n"
     ],
     "language": "python",
     "metadata": {},
     "outputs": [
      {
       "output_type": "stream",
       "stream": "stdout",
       "text": [
        "96_SbfI_RAD_adapter_sequences - By Row.csv\r\n",
        "Untitled0.ipynb\r\n",
        "barcodesnew.txt\r\n",
        "decradbarcodes1.TSV\r\n",
        "decradbarcodes1.csv\r\n",
        "decradbarcodes1.tab\r\n",
        "decradbarcodes1.txt\r\n",
        "jhtest.txt\r\n",
        "process_radtags.log\r\n",
        "srtest\r\n"
       ]
      }
     ],
     "prompt_number": 1
    },
    {
     "cell_type": "code",
     "collapsed": false,
     "input": [
      "!head decradbarcodes1.txt"
     ],
     "language": "python",
     "metadata": {},
     "outputs": [
      {
       "output_type": "stream",
       "stream": "stdout",
       "text": [
        "AAACGG\tHL01\r\n",
        "AACGTT\tHL09\r\n",
        "AACTGA\tHL17\r\n",
        "AAGACG\tHL25\r\n",
        "AAGCTA\tNF01\r\n",
        "AATATC\tNF09\r\n",
        "AATGAG\tNF17\r\n",
        "ACAAGA\tNF25\r\n",
        "ACAGCG\tSN01\r\n",
        "ACATAC\tSN09\r\n"
       ]
      }
     ],
     "prompt_number": 5
    },
    {
     "cell_type": "code",
     "collapsed": false,
     "input": [
      "!sed 's/      /\\t\\t"
     ],
     "language": "python",
     "metadata": {},
     "outputs": [
      {
       "output_type": "stream",
       "stream": "stdout",
       "text": [
        "AAACGG\tHL01\r\n",
        "AACGTT\tHL09\r\n",
        "AACTGA\tHL17\r\n",
        "AAGACG\tHL25\r\n",
        "AAGCTA\tNF01\r\n",
        "AATATC\tNF09\r\n",
        "AATGAG\tNF17\r\n",
        "ACAAGA\tNF25\r\n",
        "ACAGCG\tSN01\r\n",
        "ACATAC\tSN09\r\n",
        "ACCATG\tSN17\r\n",
        "ACCCCC\tSN25\r\n",
        "ACTCTT\tHL02\r\n",
        "ACTGGC\tHL10\r\n",
        "AGCCAT\tHL18\r\n",
        "AGCGCA\tHL26\r\n",
        "AGGGTC\tNF02\r\n",
        "AGGTGT\tNF10\r\n",
        "AGTAGG\tNF18\r\n",
        "AGTTAA\tNF26\r\n",
        "ATAGTA\tSN02\r\n",
        "ATCAAA\tSN10\r\n",
        "ATGCAC\tSN18\r\n",
        "ATGTTG\tSN26\r\n",
        "ATTCCG\tHL03\r\n",
        "CAAAAA\tHL11\r\n",
        "CAATCG\tHL19\r\n",
        "CACCTC\tHL27\r\n",
        "CAGGCA\tNF03\r\n",
        "CATACT\tNF11\r\n",
        "CCATTT\tNF19\r\n",
        "CCCGGT\tNF27\r\n",
        "CCCTAA\tSN03\r\n",
        "CCGAGG\tSN11\r\n",
        "CCGCAT\tSN19\r\n",
        "CCTAAC\tSN27\r\n",
        "CGAGGC\tHL04\r\n",
        "CGCAGA\tHL12\r\n",
        "CGCGTG\tHL20\r\n",
        "CGGTCC\tHL28\r\n",
        "CGTCTA\tNF04\r\n",
        "CGTGAT\tNF12\r\n",
        "CTACAG\tNF20\r\n",
        "CTCGCC\tNF28\r\n",
        "CTGCGA\tSN04\r\n",
        "CTGGTT\tSN12\r\n",
        "CTTATG\tSN20\r\n",
        "CTTTGC\tSN28\r\n",
        "GAAATG\tHL05\r\n",
        "GAACCA\tHL13\r\n",
        "GACGAC\tHL21\r\n",
        "GACTCT\tHL29\r\n",
        "GAGAGA\tNF05\r\n",
        "GATCGT\tNF13\r\n",
        "GCAGAT\tNF21\r\n",
        "GCATGG\tNF29\r\n",
        "GCCGTA\tSN05\r\n",
        "GCGACC\tSN13\r\n",
        "GCGCTG\tSN21\r\n",
        "GCTCAA\tSN29\r\n",
        "GGACTT\tHL06\r\n",
        "GGCAAG\tHL14\r\n",
        "GGGCGC\tHL22\r\n",
        "GGGGCG\tHL30\r\n",
        "GGTACA\tNF06\r\n",
        "GGTTTG\tNF14\r\n",
        "GTAAGT\tNF22\r\n",
        "GTATCC\tNF30\r\n",
        "GTCATC\tSN06\r\n",
        "GTGCCT\tSN14\r\n",
        "GTGTAA\tSN22\r\n",
        "GTTGGA\tSN30\r\n",
        "TAAGCT\tHL07\r\n",
        "TAATTC\tHL15\r\n",
        "TACACA\tHL23\r\n",
        "TACGGG\tHL31\r\n",
        "TAGTAT\tNF07\r\n",
        "TATCAC\tNF15\r\n",
        "TCAAAG\tNF23\r\n",
        "TCCTGC\tNF31\r\n",
        "TCGATT\tSN07\r\n",
        "TCGCCA\tSN15\r\n",
        "TCGGAC\tSN23\r\n",
        "TCTCGG\tSN31\r\n",
        "TCTTCT\tHL08\r\n",
        "TGAACC\tHL16\r\n",
        "TGACAA\tHL24\r\n",
        "TGCCCG\tHL32\r\n",
        "TGCTTA\tNF08\r\n",
        "TGGGGA\tNF16\r\n",
        "TTATGA\tNF24\r\n",
        "TTCCGT\tNF32\r\n",
        "TTCTAG\tSN08\r\n",
        "TTGAGC\tSN16\r\n",
        "TTTAAT\tSN24\r\n",
        "TTTGTC\tSN32\r\n"
       ]
      }
     ],
     "prompt_number": 31
    },
    {
     "cell_type": "code",
     "collapsed": false,
     "input": [
      "!awk '{print $1, \"\\t\", \"\\t\", $2}' decradbarcodes1.txt > decradbarcodes3.txt"
     ],
     "language": "python",
     "metadata": {},
     "outputs": [],
     "prompt_number": 35
    },
    {
     "cell_type": "code",
     "collapsed": false,
     "input": [
      "!head decradbarcodes3.txt"
     ],
     "language": "python",
     "metadata": {},
     "outputs": [
      {
       "output_type": "stream",
       "stream": "stdout",
       "text": [
        "AAACGG \t \t HL01\r\n",
        "AACGTT \t \t HL09\r\n",
        "AACTGA \t \t HL17\r\n",
        "AAGACG \t \t HL25\r\n",
        "AAGCTA \t \t NF01\r\n",
        "AATATC \t \t NF09\r\n",
        "AATGAG \t \t NF17\r\n",
        "ACAAGA \t \t NF25\r\n",
        "ACAGCG \t \t SN01\r\n",
        "ACATAC \t \t SN09\r\n"
       ]
      }
     ],
     "prompt_number": 36
    },
    {
     "cell_type": "code",
     "collapsed": false,
     "input": [],
     "language": "python",
     "metadata": {},
     "outputs": []
    }
   ],
   "metadata": {}
  }
 ]
}