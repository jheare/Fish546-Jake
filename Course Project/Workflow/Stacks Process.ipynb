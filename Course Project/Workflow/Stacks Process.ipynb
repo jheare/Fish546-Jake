{
 "metadata": {
  "name": "",
  "signature": "sha256:3908cb641fe4ea7565dee0d8f175e54afa9dcc41bb6d421a9ed50aba1e6eb4be"
 },
 "nbformat": 3,
 "nbformat_minor": 0,
 "worksheets": [
  {
   "cells": [
    {
     "cell_type": "heading",
     "level": 1,
     "metadata": {},
     "source": [
      "Piecemeal Run of the denovo map pipeline"
     ]
    },
    {
     "cell_type": "markdown",
     "metadata": {},
     "source": [
      "To investigate snp calling that is used in the denovo map pipeline I'm running each portion of the pipeline individually. First I have to adjust myself in the the right directory. "
     ]
    },
    {
     "cell_type": "code",
     "collapsed": false,
     "input": [
      "pwd"
     ],
     "language": "python",
     "metadata": {},
     "outputs": [
      {
       "metadata": {},
       "output_type": "pyout",
       "prompt_number": 1,
       "text": [
        "u'/Users/srlab/Fish546-Jake/nb'"
       ]
      }
     ],
     "prompt_number": 1
    },
    {
     "cell_type": "code",
     "collapsed": false,
     "input": [
      "cd ../"
     ],
     "language": "python",
     "metadata": {},
     "outputs": [
      {
       "output_type": "stream",
       "stream": "stdout",
       "text": [
        "/Users/srlab/Fish546-Jake\n"
       ]
      }
     ],
     "prompt_number": 2
    },
    {
     "cell_type": "markdown",
     "metadata": {},
     "source": [
      "Next I need to make a directory for all the data to funneled into from each step I'm calling it ustacks"
     ]
    },
    {
     "cell_type": "code",
     "collapsed": false,
     "input": [
      "mkdir ../ustacks"
     ],
     "language": "python",
     "metadata": {},
     "outputs": [],
     "prompt_number": 7
    },
    {
     "cell_type": "markdown",
     "metadata": {},
     "source": [
      "Here I need to move the process_radtags.log file so that its doesn't interfere with anything."
     ]
    },
    {
     "cell_type": "code",
     "collapsed": false,
     "input": [
      "mv ../samples/process_radtags.log ./data/"
     ],
     "language": "python",
     "metadata": {},
     "outputs": [],
     "prompt_number": 10
    },
    {
     "cell_type": "heading",
     "level": 2,
     "metadata": {},
     "source": [
      "USTACKS"
     ]
    },
    {
     "cell_type": "markdown",
     "metadata": {},
     "source": [
      "ustacks will call all of the snps and other information found in the reads from each fastq file. Giving us generic information about each sample."
     ]
    },
    {
     "cell_type": "markdown",
     "metadata": {},
     "source": [
      "I'm running the single ustacks command for each file and replacing the input file name as appropriate."
     ]
    },
    {
     "cell_type": "code",
     "collapsed": false,
     "input": [
      "!ustacks -t fastq -f ../samples/sample_CACCTC.fq -o ../ustacks -i 1 -d -r -m 3 -p 15"
     ],
     "language": "python",
     "metadata": {},
     "outputs": [
      {
       "output_type": "stream",
       "stream": "stdout",
       "text": [
        "Min depth of coverage to create a stack: 3\r\n",
        "Max distance allowed between stacks: 2\r\n",
        "Max distance allowed to align secondary reads: 4\r\n",
        "Max number of stacks allowed per de novo locus: 3\r\n",
        "Deleveraging algorithm: enabled\r\n",
        "Removal algorithm: enabled\r\n",
        "Model type: SNP\r\n",
        "Alpha significance level for model: 0.05\r\n"
       ]
      },
      {
       "output_type": "stream",
       "stream": "stdout",
       "text": [
        "Parsing ../samples/sample_CACCTC.fq\r\n",
        "  Loading RAD-Tag 0       \r"
       ]
      },
      {
       "output_type": "stream",
       "stream": "stdout",
       "text": [
        "  Loading RAD-Tag 10000       \r"
       ]
      },
      {
       "output_type": "stream",
       "stream": "stdout",
       "text": [
        "  Loading RAD-Tag 20000       \r"
       ]
      },
      {
       "output_type": "stream",
       "stream": "stdout",
       "text": [
        "  Loading RAD-Tag 30000       \r"
       ]
      },
      {
       "output_type": "stream",
       "stream": "stdout",
       "text": [
        "  Loading RAD-Tag 40000       \r"
       ]
      },
      {
       "output_type": "stream",
       "stream": "stdout",
       "text": [
        "  Loading RAD-Tag 50000       \r"
       ]
      },
      {
       "output_type": "stream",
       "stream": "stdout",
       "text": [
        "  Loading RAD-Tag 60000       \r"
       ]
      },
      {
       "output_type": "stream",
       "stream": "stdout",
       "text": [
        "  Loading RAD-Tag 70000       \r"
       ]
      },
      {
       "output_type": "stream",
       "stream": "stdout",
       "text": [
        "  Loading RAD-Tag 80000       \r"
       ]
      },
      {
       "output_type": "stream",
       "stream": "stdout",
       "text": [
        "  Loading RAD-Tag 90000       \r"
       ]
      },
      {
       "output_type": "stream",
       "stream": "stdout",
       "text": [
        "Loaded 93066 RAD-Tags; inserted 24936 elements into the RAD-Tags hash map.\r\n",
        "  0 reads contained uncalled nucleotides that were modified.\r\n"
       ]
      },
      {
       "output_type": "stream",
       "stream": "stdout",
       "text": [
        "  Mean coverage depth is 9; Std Dev: 16.0454 Max: 901\r\n",
        "Coverage mean: 9; stdev: 16.0454\r\n",
        "Deleveraging trigger: 25; Removal trigger: 41\r\n",
        "Calculating distance for removing repetitive stacks.\r\n",
        "  Distance allowed between stacks: 1\r\n",
        "  Using a k-mer length of 47\r\n",
        "  Number of kmers per sequence: 49\r\n",
        "  Miniumum number of k-mers to define a match: 2\r\n"
       ]
      },
      {
       "output_type": "stream",
       "stream": "stdout",
       "text": [
        "Removing repetitive stacks.\r\n"
       ]
      },
      {
       "output_type": "stream",
       "stream": "stdout",
       "text": [
        "  Removed 244 stacks.\r\n",
        "  8421 stacks remain for merging.\r\n",
        "Calculating distance between stacks...\r\n",
        "  Distance allowed between stacks: 2\r\n",
        "  Using a k-mer length of 31\r\n",
        "  Number of kmers per sequence: 65\r\n",
        "  Miniumum number of k-mers to define a match: 3\r\n"
       ]
      },
      {
       "output_type": "stream",
       "stream": "stdout",
       "text": [
        "Merging stacks, maximum allowed distance: 2 nucleotide(s)\r\n"
       ]
      },
      {
       "output_type": "stream",
       "stream": "stdout",
       "text": [
        "  8421 stacks merged into 7586 stacks; deleveraged 55 stacks; removed 35 stacks.\r\n"
       ]
      },
      {
       "output_type": "stream",
       "stream": "stdout",
       "text": [
        "  Mean merged coverage depth is 9.77419; Std Dev: 21.343; Max: 920\r\n",
        "Merging remainder radtags\r\n",
        "  18919 remainder sequences left to merge.\r\n",
        "  Distance allowed between stacks: 4\r\n",
        "  Using a k-mer length of 19\r\n",
        "  Number of kmers per sequence: 77\r\n",
        "  Miniumum number of k-mers to define a match: 1\r\n"
       ]
      },
      {
       "output_type": "stream",
       "stream": "stdout",
       "text": [
        "  Matched 5602 remainder reads; unable to match 13317 remainder reads.\r\n"
       ]
      },
      {
       "output_type": "stream",
       "stream": "stdout",
       "text": [
        "Number of utilized reads: 79749\r\n",
        "Writing results\r\n",
        "  Refetching sequencing IDs from ../samples/sample_CACCTC.fq... "
       ]
      },
      {
       "output_type": "stream",
       "stream": "stdout",
       "text": [
        "read 93066 sequence IDs.\r\n"
       ]
      }
     ],
     "prompt_number": 14
    },
    {
     "cell_type": "code",
     "collapsed": false,
     "input": [
      "!ustacks -t fastq -f ../samples/sample_CCCTAA.fq -o ../ustacks -i 2 -d -r -m 3 -p 15"
     ],
     "language": "python",
     "metadata": {},
     "outputs": [
      {
       "output_type": "stream",
       "stream": "stdout",
       "text": [
        "Min depth of coverage to create a stack: 3\r\n",
        "Max distance allowed between stacks: 2\r\n",
        "Max distance allowed to align secondary reads: 4\r\n",
        "Max number of stacks allowed per de novo locus: 3\r\n",
        "Deleveraging algorithm: enabled\r\n",
        "Removal algorithm: enabled\r\n",
        "Model type: SNP\r\n",
        "Alpha significance level for model: 0.05\r\n",
        "Parsing ../samples/sample_CCCTAA.fq\r\n",
        "  Loading RAD-Tag 0       \r"
       ]
      },
      {
       "output_type": "stream",
       "stream": "stdout",
       "text": [
        "  Loading RAD-Tag 10000       \r"
       ]
      },
      {
       "output_type": "stream",
       "stream": "stdout",
       "text": [
        "  Loading RAD-Tag 20000       \r"
       ]
      },
      {
       "output_type": "stream",
       "stream": "stdout",
       "text": [
        "  Loading RAD-Tag 30000       \r"
       ]
      },
      {
       "output_type": "stream",
       "stream": "stdout",
       "text": [
        "  Loading RAD-Tag 40000       \r"
       ]
      },
      {
       "output_type": "stream",
       "stream": "stdout",
       "text": [
        "  Loading RAD-Tag 50000       \r"
       ]
      },
      {
       "output_type": "stream",
       "stream": "stdout",
       "text": [
        "  Loading RAD-Tag 60000       \r"
       ]
      },
      {
       "output_type": "stream",
       "stream": "stdout",
       "text": [
        "  Loading RAD-Tag 70000       \r"
       ]
      },
      {
       "output_type": "stream",
       "stream": "stdout",
       "text": [
        "  Loading RAD-Tag 80000       \r"
       ]
      },
      {
       "output_type": "stream",
       "stream": "stdout",
       "text": [
        "  Loading RAD-Tag 90000       \r"
       ]
      },
      {
       "output_type": "stream",
       "stream": "stdout",
       "text": [
        "  Loading RAD-Tag 100000       \r"
       ]
      },
      {
       "output_type": "stream",
       "stream": "stdout",
       "text": [
        "  Loading RAD-Tag 110000       \r"
       ]
      },
      {
       "output_type": "stream",
       "stream": "stdout",
       "text": [
        "  Loading RAD-Tag 120000       \r"
       ]
      },
      {
       "output_type": "stream",
       "stream": "stdout",
       "text": [
        "  Loading RAD-Tag 130000       \r"
       ]
      },
      {
       "output_type": "stream",
       "stream": "stdout",
       "text": [
        "  Loading RAD-Tag 140000       \r"
       ]
      },
      {
       "output_type": "stream",
       "stream": "stdout",
       "text": [
        "  Loading RAD-Tag 150000       \r",
        "  Loading RAD-Tag 160000       \r"
       ]
      },
      {
       "output_type": "stream",
       "stream": "stdout",
       "text": [
        "  Loading RAD-Tag 170000       \r",
        "  Loading RAD-Tag 180000       \r"
       ]
      },
      {
       "output_type": "stream",
       "stream": "stdout",
       "text": [
        "Loaded 184308 RAD-Tags; inserted 39431 elements into the RAD-Tags hash map.\r\n",
        "  0 reads contained uncalled nucleotides that were modified.\r\n"
       ]
      },
      {
       "output_type": "stream",
       "stream": "stdout",
       "text": [
        "  Mean coverage depth is 13; Std Dev: 41.9606 Max: 3766\r\n",
        "Coverage mean: 13; stdev: 41.9606\r\n",
        "Deleveraging trigger: 55; Removal trigger: 97\r\n",
        "Calculating distance for removing repetitive stacks.\r\n",
        "  Distance allowed between stacks: 1\r\n",
        "  Using a k-mer length of 47\r\n",
        "  Number of kmers per sequence: 49\r\n",
        "  Miniumum number of k-mers to define a match: 2\r\n"
       ]
      },
      {
       "output_type": "stream",
       "stream": "stdout",
       "text": [
        "Removing repetitive stacks.\r\n"
       ]
      },
      {
       "output_type": "stream",
       "stream": "stdout",
       "text": [
        "  Removed 367 stacks.\r\n",
        "  11166 stacks remain for merging.\r\n",
        "Calculating distance between stacks...\r\n",
        "  Distance allowed between stacks: 2\r\n",
        "  Using a k-mer length of 31\r\n",
        "  Number of kmers per sequence: 65\r\n",
        "  Miniumum number of k-mers to define a match: 3\r\n"
       ]
      },
      {
       "output_type": "stream",
       "stream": "stdout",
       "text": [
        "Merging stacks, maximum allowed distance: 2 nucleotide(s)\r\n"
       ]
      },
      {
       "output_type": "stream",
       "stream": "stdout",
       "text": [
        "  11166 stacks merged into 9815 stacks; deleveraged 85 stacks; removed 59 stacks.\r\n"
       ]
      },
      {
       "output_type": "stream",
       "stream": "stdout",
       "text": [
        "  Mean merged coverage depth is 15.5762; Std Dev: 54.4303; Max: 3953\r\n",
        "Merging remainder radtags\r\n",
        "  31428 remainder sequences left to merge.\r\n",
        "  Distance allowed between stacks: 4\r\n",
        "  Using a k-mer length of 19\r\n",
        "  Number of kmers per sequence: 77\r\n",
        "  Miniumum number of k-mers to define a match: 1\r\n"
       ]
      },
      {
       "output_type": "stream",
       "stream": "stdout",
       "text": [
        "  Matched 9941 remainder reads; unable to match 21487 remainder reads.\r\n"
       ]
      },
      {
       "output_type": "stream",
       "stream": "stdout",
       "text": [
        "Number of utilized reads: 162821\r\n"
       ]
      },
      {
       "output_type": "stream",
       "stream": "stdout",
       "text": [
        "Writing results\r\n",
        "  Refetching sequencing IDs from ../samples/sample_CCCTAA.fq... "
       ]
      },
      {
       "output_type": "stream",
       "stream": "stdout",
       "text": [
        "read 184308 sequence IDs.\r\n"
       ]
      }
     ],
     "prompt_number": 15
    },
    {
     "cell_type": "code",
     "collapsed": false,
     "input": [
      "!ustacks -t fastq -f ../samples/sample_GCTCAA.fq -o ../ustacks -i 3 -d -r -m 3 -p 15"
     ],
     "language": "python",
     "metadata": {},
     "outputs": [
      {
       "output_type": "stream",
       "stream": "stdout",
       "text": [
        "Min depth of coverage to create a stack: 3\r\n",
        "Max distance allowed between stacks: 2\r\n",
        "Max distance allowed to align secondary reads: 4\r\n",
        "Max number of stacks allowed per de novo locus: 3\r\n",
        "Deleveraging algorithm: enabled\r\n",
        "Removal algorithm: enabled\r\n",
        "Model type: SNP\r\n",
        "Alpha significance level for model: 0.05\r\n",
        "Parsing ../samples/sample_GCTCAA.fq\r\n",
        "  Loading RAD-Tag 0       \r"
       ]
      },
      {
       "output_type": "stream",
       "stream": "stdout",
       "text": [
        "  Loading RAD-Tag 10000       \r"
       ]
      },
      {
       "output_type": "stream",
       "stream": "stdout",
       "text": [
        "  Loading RAD-Tag 20000       \r"
       ]
      },
      {
       "output_type": "stream",
       "stream": "stdout",
       "text": [
        "  Loading RAD-Tag 30000       \r"
       ]
      },
      {
       "output_type": "stream",
       "stream": "stdout",
       "text": [
        "  Loading RAD-Tag 40000       \r"
       ]
      },
      {
       "output_type": "stream",
       "stream": "stdout",
       "text": [
        "  Loading RAD-Tag 50000       \r"
       ]
      },
      {
       "output_type": "stream",
       "stream": "stdout",
       "text": [
        "  Loading RAD-Tag 60000       \r"
       ]
      },
      {
       "output_type": "stream",
       "stream": "stdout",
       "text": [
        "  Loading RAD-Tag 70000       \r"
       ]
      },
      {
       "output_type": "stream",
       "stream": "stdout",
       "text": [
        "  Loading RAD-Tag 80000       \r"
       ]
      },
      {
       "output_type": "stream",
       "stream": "stdout",
       "text": [
        "  Loading RAD-Tag 90000       \r"
       ]
      },
      {
       "output_type": "stream",
       "stream": "stdout",
       "text": [
        "  Loading RAD-Tag 100000       \r"
       ]
      },
      {
       "output_type": "stream",
       "stream": "stdout",
       "text": [
        "  Loading RAD-Tag 110000       \r"
       ]
      },
      {
       "output_type": "stream",
       "stream": "stdout",
       "text": [
        "  Loading RAD-Tag 120000       \r"
       ]
      },
      {
       "output_type": "stream",
       "stream": "stdout",
       "text": [
        "  Loading RAD-Tag 130000       \r"
       ]
      },
      {
       "output_type": "stream",
       "stream": "stdout",
       "text": [
        "  Loading RAD-Tag 140000       \r"
       ]
      },
      {
       "output_type": "stream",
       "stream": "stdout",
       "text": [
        "  Loading RAD-Tag 150000       \r"
       ]
      },
      {
       "output_type": "stream",
       "stream": "stdout",
       "text": [
        "  Loading RAD-Tag 160000       \r"
       ]
      },
      {
       "output_type": "stream",
       "stream": "stdout",
       "text": [
        "  Loading RAD-Tag 170000       \r"
       ]
      },
      {
       "output_type": "stream",
       "stream": "stdout",
       "text": [
        "  Loading RAD-Tag 180000       \r"
       ]
      },
      {
       "output_type": "stream",
       "stream": "stdout",
       "text": [
        "  Loading RAD-Tag 190000       \r",
        "  Loading RAD-Tag 200000       \r"
       ]
      },
      {
       "output_type": "stream",
       "stream": "stdout",
       "text": [
        "  Loading RAD-Tag 210000       \r"
       ]
      },
      {
       "output_type": "stream",
       "stream": "stdout",
       "text": [
        "  Loading RAD-Tag 220000       \r"
       ]
      },
      {
       "output_type": "stream",
       "stream": "stdout",
       "text": [
        "  Loading RAD-Tag 230000       \r"
       ]
      },
      {
       "output_type": "stream",
       "stream": "stdout",
       "text": [
        "  Loading RAD-Tag 240000       \r"
       ]
      },
      {
       "output_type": "stream",
       "stream": "stdout",
       "text": [
        "  Loading RAD-Tag 250000       \r"
       ]
      },
      {
       "output_type": "stream",
       "stream": "stdout",
       "text": [
        "  Loading RAD-Tag 260000       \r"
       ]
      },
      {
       "output_type": "stream",
       "stream": "stdout",
       "text": [
        "  Loading RAD-Tag 270000       \r"
       ]
      },
      {
       "output_type": "stream",
       "stream": "stdout",
       "text": [
        "  Loading RAD-Tag 280000       \r"
       ]
      },
      {
       "output_type": "stream",
       "stream": "stdout",
       "text": [
        "  Loading RAD-Tag 290000       \r"
       ]
      },
      {
       "output_type": "stream",
       "stream": "stdout",
       "text": [
        "  Loading RAD-Tag 300000       \r"
       ]
      },
      {
       "output_type": "stream",
       "stream": "stdout",
       "text": [
        "  Loading RAD-Tag 310000       \r"
       ]
      },
      {
       "output_type": "stream",
       "stream": "stdout",
       "text": [
        "  Loading RAD-Tag 320000       \r",
        "  Loading RAD-Tag 330000       \r"
       ]
      },
      {
       "output_type": "stream",
       "stream": "stdout",
       "text": [
        "  Loading RAD-Tag 340000       \r"
       ]
      },
      {
       "output_type": "stream",
       "stream": "stdout",
       "text": [
        "  Loading RAD-Tag 350000       \r"
       ]
      },
      {
       "output_type": "stream",
       "stream": "stdout",
       "text": [
        "  Loading RAD-Tag 360000       \r"
       ]
      },
      {
       "output_type": "stream",
       "stream": "stdout",
       "text": [
        "  Loading RAD-Tag 370000       \r"
       ]
      },
      {
       "output_type": "stream",
       "stream": "stdout",
       "text": [
        "  Loading RAD-Tag 380000       \r",
        "  Loading RAD-Tag 390000       \r"
       ]
      },
      {
       "output_type": "stream",
       "stream": "stdout",
       "text": [
        "  Loading RAD-Tag 400000       \r"
       ]
      },
      {
       "output_type": "stream",
       "stream": "stdout",
       "text": [
        "  Loading RAD-Tag 410000       \r"
       ]
      },
      {
       "output_type": "stream",
       "stream": "stdout",
       "text": [
        "  Loading RAD-Tag 420000       \r"
       ]
      },
      {
       "output_type": "stream",
       "stream": "stdout",
       "text": [
        "  Loading RAD-Tag 430000       \r"
       ]
      },
      {
       "output_type": "stream",
       "stream": "stdout",
       "text": [
        "  Loading RAD-Tag 440000       \r",
        "Loaded 444475 RAD-Tags; inserted 60053 elements into the RAD-Tags hash map.\r\n",
        "  0 reads contained uncalled nucleotides that were modified.\r\n"
       ]
      },
      {
       "output_type": "stream",
       "stream": "stdout",
       "text": [
        "  Mean coverage depth is 30; Std Dev: 81.9673 Max: 4679\r\n",
        "Coverage mean: 30; stdev: 81.9673\r\n",
        "Deleveraging trigger: 112; Removal trigger: 194\r\n"
       ]
      },
      {
       "output_type": "stream",
       "stream": "stdout",
       "text": [
        "Calculating distance for removing repetitive stacks.\r\n",
        "  Distance allowed between stacks: 1\r\n",
        "  Using a k-mer length of 47\r\n",
        "  Number of kmers per sequence: 49\r\n",
        "  Miniumum number of k-mers to define a match: 2\r\n"
       ]
      },
      {
       "output_type": "stream",
       "stream": "stdout",
       "text": [
        "Removing repetitive stacks.\r\n"
       ]
      },
      {
       "output_type": "stream",
       "stream": "stdout",
       "text": [
        "  Removed 485 stacks.\r\n",
        "  12847 stacks remain for merging.\r\n",
        "Calculating distance between stacks...\r\n",
        "  Distance allowed between stacks: 2\r\n",
        "  Using a k-mer length of 31\r\n",
        "  Number of kmers per sequence: 65\r\n",
        "  Miniumum number of k-mers to define a match: 3\r\n"
       ]
      },
      {
       "output_type": "stream",
       "stream": "stdout",
       "text": [
        "Merging stacks, maximum allowed distance: 2 nucleotide(s)\r\n"
       ]
      },
      {
       "output_type": "stream",
       "stream": "stdout",
       "text": [
        "  12847 stacks merged into 11114 stacks; deleveraged 97 stacks; removed 77 stacks.\r\n"
       ]
      },
      {
       "output_type": "stream",
       "stream": "stdout",
       "text": [
        "  Mean merged coverage depth is 35.3757; Std Dev: 110.388; Max: 5418\r\n",
        "Merging remainder radtags\r\n"
       ]
      },
      {
       "output_type": "stream",
       "stream": "stdout",
       "text": [
        "  51309 remainder sequences left to merge.\r\n",
        "  Distance allowed between stacks: 4\r\n",
        "  Using a k-mer length of 19\r\n",
        "  Number of kmers per sequence: 77\r\n",
        "  Miniumum number of k-mers to define a match: 1\r\n"
       ]
      },
      {
       "output_type": "stream",
       "stream": "stdout",
       "text": [
        "  Matched 22417 remainder reads; unable to match 28892 remainder reads.\r\n"
       ]
      },
      {
       "output_type": "stream",
       "stream": "stdout",
       "text": [
        "Number of utilized reads: 415583\r\n",
        "Writing results\r\n",
        "  Refetching sequencing IDs from ../samples/sample_GCTCAA.fq... "
       ]
      },
      {
       "output_type": "stream",
       "stream": "stdout",
       "text": [
        "read 444475 sequence IDs.\r\n"
       ]
      }
     ],
     "prompt_number": 16
    },
    {
     "cell_type": "code",
     "collapsed": false,
     "input": [
      "!ustacks -t fastq -f ../samples/sample_GTGTAA.fq -o ../ustacks -i 4 -d -r -m 3 -p 15"
     ],
     "language": "python",
     "metadata": {},
     "outputs": [
      {
       "output_type": "stream",
       "stream": "stdout",
       "text": [
        "Min depth of coverage to create a stack: 3\r\n",
        "Max distance allowed between stacks: 2\r\n",
        "Max distance allowed to align secondary reads: 4\r\n",
        "Max number of stacks allowed per de novo locus: 3\r\n",
        "Deleveraging algorithm: enabled\r\n",
        "Removal algorithm: enabled\r\n",
        "Model type: SNP\r\n",
        "Alpha significance level for model: 0.05\r\n",
        "Parsing ../samples/sample_GTGTAA.fq\r\n",
        "  Loading RAD-Tag 0       \r"
       ]
      },
      {
       "output_type": "stream",
       "stream": "stdout",
       "text": [
        "  Loading RAD-Tag 10000       \r"
       ]
      },
      {
       "output_type": "stream",
       "stream": "stdout",
       "text": [
        "  Loading RAD-Tag 20000       \r"
       ]
      },
      {
       "output_type": "stream",
       "stream": "stdout",
       "text": [
        "  Loading RAD-Tag 30000       \r"
       ]
      },
      {
       "output_type": "stream",
       "stream": "stdout",
       "text": [
        "  Loading RAD-Tag 40000       \r"
       ]
      },
      {
       "output_type": "stream",
       "stream": "stdout",
       "text": [
        "  Loading RAD-Tag 50000       \r"
       ]
      },
      {
       "output_type": "stream",
       "stream": "stdout",
       "text": [
        "  Loading RAD-Tag 60000       \r"
       ]
      },
      {
       "output_type": "stream",
       "stream": "stdout",
       "text": [
        "  Loading RAD-Tag 70000       \r"
       ]
      },
      {
       "output_type": "stream",
       "stream": "stdout",
       "text": [
        "  Loading RAD-Tag 80000       \r"
       ]
      },
      {
       "output_type": "stream",
       "stream": "stdout",
       "text": [
        "  Loading RAD-Tag 90000       \r"
       ]
      },
      {
       "output_type": "stream",
       "stream": "stdout",
       "text": [
        "  Loading RAD-Tag 100000       \r"
       ]
      },
      {
       "output_type": "stream",
       "stream": "stdout",
       "text": [
        "  Loading RAD-Tag 110000       \r"
       ]
      },
      {
       "output_type": "stream",
       "stream": "stdout",
       "text": [
        "  Loading RAD-Tag 120000       \r"
       ]
      },
      {
       "output_type": "stream",
       "stream": "stdout",
       "text": [
        "  Loading RAD-Tag 130000       \r"
       ]
      },
      {
       "output_type": "stream",
       "stream": "stdout",
       "text": [
        "  Loading RAD-Tag 140000       \r"
       ]
      },
      {
       "output_type": "stream",
       "stream": "stdout",
       "text": [
        "  Loading RAD-Tag 150000       \r"
       ]
      },
      {
       "output_type": "stream",
       "stream": "stdout",
       "text": [
        "  Loading RAD-Tag 160000       \r"
       ]
      },
      {
       "output_type": "stream",
       "stream": "stdout",
       "text": [
        "  Loading RAD-Tag 170000       \r"
       ]
      },
      {
       "output_type": "stream",
       "stream": "stdout",
       "text": [
        "  Loading RAD-Tag 180000       \r"
       ]
      },
      {
       "output_type": "stream",
       "stream": "stdout",
       "text": [
        "  Loading RAD-Tag 190000       \r"
       ]
      },
      {
       "output_type": "stream",
       "stream": "stdout",
       "text": [
        "  Loading RAD-Tag 200000       \r"
       ]
      },
      {
       "output_type": "stream",
       "stream": "stdout",
       "text": [
        "  Loading RAD-Tag 210000       \r"
       ]
      },
      {
       "output_type": "stream",
       "stream": "stdout",
       "text": [
        "  Loading RAD-Tag 220000       \r"
       ]
      },
      {
       "output_type": "stream",
       "stream": "stdout",
       "text": [
        "  Loading RAD-Tag 230000       \r"
       ]
      },
      {
       "output_type": "stream",
       "stream": "stdout",
       "text": [
        "  Loading RAD-Tag 240000       \r"
       ]
      },
      {
       "output_type": "stream",
       "stream": "stdout",
       "text": [
        "  Loading RAD-Tag 250000       \r"
       ]
      },
      {
       "output_type": "stream",
       "stream": "stdout",
       "text": [
        "  Loading RAD-Tag 260000       \r"
       ]
      },
      {
       "output_type": "stream",
       "stream": "stdout",
       "text": [
        "  Loading RAD-Tag 270000       \r",
        "  Loading RAD-Tag 280000       \r"
       ]
      },
      {
       "output_type": "stream",
       "stream": "stdout",
       "text": [
        "  Loading RAD-Tag 290000       \r"
       ]
      },
      {
       "output_type": "stream",
       "stream": "stdout",
       "text": [
        "  Loading RAD-Tag 300000       \r"
       ]
      },
      {
       "output_type": "stream",
       "stream": "stdout",
       "text": [
        "  Loading RAD-Tag 310000       \r"
       ]
      },
      {
       "output_type": "stream",
       "stream": "stdout",
       "text": [
        "  Loading RAD-Tag 320000       \r"
       ]
      },
      {
       "output_type": "stream",
       "stream": "stdout",
       "text": [
        "  Loading RAD-Tag 330000       \r"
       ]
      },
      {
       "output_type": "stream",
       "stream": "stdout",
       "text": [
        "  Loading RAD-Tag 340000       \r"
       ]
      },
      {
       "output_type": "stream",
       "stream": "stdout",
       "text": [
        "  Loading RAD-Tag 350000       \r"
       ]
      },
      {
       "output_type": "stream",
       "stream": "stdout",
       "text": [
        "  Loading RAD-Tag 360000       \r"
       ]
      },
      {
       "output_type": "stream",
       "stream": "stdout",
       "text": [
        "  Loading RAD-Tag 370000       \r"
       ]
      },
      {
       "output_type": "stream",
       "stream": "stdout",
       "text": [
        "  Loading RAD-Tag 380000       \r"
       ]
      },
      {
       "output_type": "stream",
       "stream": "stdout",
       "text": [
        "  Loading RAD-Tag 390000       \r"
       ]
      },
      {
       "output_type": "stream",
       "stream": "stdout",
       "text": [
        "  Loading RAD-Tag 400000       \r"
       ]
      },
      {
       "output_type": "stream",
       "stream": "stdout",
       "text": [
        "  Loading RAD-Tag 410000       \r"
       ]
      },
      {
       "output_type": "stream",
       "stream": "stdout",
       "text": [
        "  Loading RAD-Tag 420000       \r"
       ]
      },
      {
       "output_type": "stream",
       "stream": "stdout",
       "text": [
        "  Loading RAD-Tag 430000       \r"
       ]
      },
      {
       "output_type": "stream",
       "stream": "stdout",
       "text": [
        "  Loading RAD-Tag 440000       \r"
       ]
      },
      {
       "output_type": "stream",
       "stream": "stdout",
       "text": [
        "  Loading RAD-Tag 450000       \r"
       ]
      },
      {
       "output_type": "stream",
       "stream": "stdout",
       "text": [
        "  Loading RAD-Tag 460000       \r"
       ]
      },
      {
       "output_type": "stream",
       "stream": "stdout",
       "text": [
        "  Loading RAD-Tag 470000       \r"
       ]
      },
      {
       "output_type": "stream",
       "stream": "stdout",
       "text": [
        "Loaded 477928 RAD-Tags; inserted 62751 elements into the RAD-Tags hash map.\r\n",
        "  0 reads contained uncalled nucleotides that were modified.\r\n"
       ]
      },
      {
       "output_type": "stream",
       "stream": "stdout",
       "text": [
        "  Mean coverage depth is 31; Std Dev: 100.854 Max: 6045\r\n",
        "Coverage mean: 31; stdev: 100.854\r\n",
        "Deleveraging trigger: 132; Removal trigger: 233\r\n"
       ]
      },
      {
       "output_type": "stream",
       "stream": "stdout",
       "text": [
        "Calculating distance for removing repetitive stacks.\r\n",
        "  Distance allowed between stacks: 1\r\n",
        "  Using a k-mer length of 47\r\n",
        "  Number of kmers per sequence: 49\r\n",
        "  Miniumum number of k-mers to define a match: 2\r\n"
       ]
      },
      {
       "output_type": "stream",
       "stream": "stdout",
       "text": [
        "Removing repetitive stacks.\r\n",
        "  Removed 472 stacks.\r\n"
       ]
      },
      {
       "output_type": "stream",
       "stream": "stdout",
       "text": [
        "  13236 stacks remain for merging.\r\n",
        "Calculating distance between stacks...\r\n",
        "  Distance allowed between stacks: 2\r\n",
        "  Using a k-mer length of 31\r\n",
        "  Number of kmers per sequence: 65\r\n",
        "  Miniumum number of k-mers to define a match: 3\r\n"
       ]
      },
      {
       "output_type": "stream",
       "stream": "stdout",
       "text": [
        "Merging stacks, maximum allowed distance: 2 nucleotide(s)\r\n"
       ]
      },
      {
       "output_type": "stream",
       "stream": "stdout",
       "text": [
        "  13236 stacks merged into 11332 stacks; deleveraged 117 stacks; removed 87 stacks.\r\n"
       ]
      },
      {
       "output_type": "stream",
       "stream": "stdout",
       "text": [
        "  Mean merged coverage depth is 37.4178; Std Dev: 132.4; Max: 6388\r\n",
        "Merging remainder radtags\r\n",
        "  53909 remainder sequences left to merge.\r\n",
        "  Distance allowed between stacks: 4\r\n",
        "  Using a k-mer length of 19\r\n",
        "  Number of kmers per sequence: 77\r\n",
        "  Miniumum number of k-mers to define a match: 1\r\n"
       ]
      },
      {
       "output_type": "stream",
       "stream": "stdout",
       "text": [
        "  Matched 23659 remainder reads; unable to match 30250 remainder reads.\r\n"
       ]
      },
      {
       "output_type": "stream",
       "stream": "stdout",
       "text": [
        "Number of utilized reads: 447678\r\n",
        "Writing results\r\n",
        "  Refetching sequencing IDs from ../samples/sample_GTGTAA.fq... "
       ]
      },
      {
       "output_type": "stream",
       "stream": "stdout",
       "text": [
        "read 477928 sequence IDs.\r\n"
       ]
      }
     ],
     "prompt_number": 17
    },
    {
     "cell_type": "code",
     "collapsed": false,
     "input": [
      "!ustacks -t fastq -f ../samples/sample_ACATAC.fq -o ../ustacks -i 5 -d -r -m 3 -p 15"
     ],
     "language": "python",
     "metadata": {},
     "outputs": [
      {
       "output_type": "stream",
       "stream": "stdout",
       "text": [
        "Min depth of coverage to create a stack: 3\r\n",
        "Max distance allowed between stacks: 2\r\n",
        "Max distance allowed to align secondary reads: 4\r\n",
        "Max number of stacks allowed per de novo locus: 3\r\n",
        "Deleveraging algorithm: enabled\r\n",
        "Removal algorithm: enabled\r\n",
        "Model type: SNP\r\n",
        "Alpha significance level for model: 0.05\r\n",
        "Parsing ../samples/sample_ACATAC.fq\r\n",
        "  Loading RAD-Tag 0       \r"
       ]
      },
      {
       "output_type": "stream",
       "stream": "stdout",
       "text": [
        "  Loading RAD-Tag 10000       \r"
       ]
      },
      {
       "output_type": "stream",
       "stream": "stdout",
       "text": [
        "  Loading RAD-Tag 20000       \r"
       ]
      },
      {
       "output_type": "stream",
       "stream": "stdout",
       "text": [
        "  Loading RAD-Tag 30000       \r"
       ]
      },
      {
       "output_type": "stream",
       "stream": "stdout",
       "text": [
        "  Loading RAD-Tag 40000       \r"
       ]
      },
      {
       "output_type": "stream",
       "stream": "stdout",
       "text": [
        "  Loading RAD-Tag 50000       \r"
       ]
      },
      {
       "output_type": "stream",
       "stream": "stdout",
       "text": [
        "  Loading RAD-Tag 60000       \r",
        "  Loading RAD-Tag 70000       \r"
       ]
      },
      {
       "output_type": "stream",
       "stream": "stdout",
       "text": [
        "  Loading RAD-Tag 80000       \r"
       ]
      },
      {
       "output_type": "stream",
       "stream": "stdout",
       "text": [
        "  Loading RAD-Tag 90000       \r"
       ]
      },
      {
       "output_type": "stream",
       "stream": "stdout",
       "text": [
        "  Loading RAD-Tag 100000       \r"
       ]
      },
      {
       "output_type": "stream",
       "stream": "stdout",
       "text": [
        "  Loading RAD-Tag 110000       \r"
       ]
      },
      {
       "output_type": "stream",
       "stream": "stdout",
       "text": [
        "  Loading RAD-Tag 120000       \r"
       ]
      },
      {
       "output_type": "stream",
       "stream": "stdout",
       "text": [
        "  Loading RAD-Tag 130000       \r"
       ]
      },
      {
       "output_type": "stream",
       "stream": "stdout",
       "text": [
        "  Loading RAD-Tag 140000       \r"
       ]
      },
      {
       "output_type": "stream",
       "stream": "stdout",
       "text": [
        "  Loading RAD-Tag 150000       \r"
       ]
      },
      {
       "output_type": "stream",
       "stream": "stdout",
       "text": [
        "  Loading RAD-Tag 160000       \r"
       ]
      },
      {
       "output_type": "stream",
       "stream": "stdout",
       "text": [
        "  Loading RAD-Tag 170000       \r"
       ]
      },
      {
       "output_type": "stream",
       "stream": "stdout",
       "text": [
        "  Loading RAD-Tag 180000       \r"
       ]
      },
      {
       "output_type": "stream",
       "stream": "stdout",
       "text": [
        "  Loading RAD-Tag 190000       \r"
       ]
      },
      {
       "output_type": "stream",
       "stream": "stdout",
       "text": [
        "  Loading RAD-Tag 200000       \r"
       ]
      },
      {
       "output_type": "stream",
       "stream": "stdout",
       "text": [
        "  Loading RAD-Tag 210000       \r"
       ]
      },
      {
       "output_type": "stream",
       "stream": "stdout",
       "text": [
        "  Loading RAD-Tag 220000       \r"
       ]
      },
      {
       "output_type": "stream",
       "stream": "stdout",
       "text": [
        "  Loading RAD-Tag 230000       \r"
       ]
      },
      {
       "output_type": "stream",
       "stream": "stdout",
       "text": [
        "  Loading RAD-Tag 240000       \r"
       ]
      },
      {
       "output_type": "stream",
       "stream": "stdout",
       "text": [
        "  Loading RAD-Tag 250000       \r"
       ]
      },
      {
       "output_type": "stream",
       "stream": "stdout",
       "text": [
        "  Loading RAD-Tag 260000       \r"
       ]
      },
      {
       "output_type": "stream",
       "stream": "stdout",
       "text": [
        "  Loading RAD-Tag 270000       \r"
       ]
      },
      {
       "output_type": "stream",
       "stream": "stdout",
       "text": [
        "  Loading RAD-Tag 280000       \r"
       ]
      },
      {
       "output_type": "stream",
       "stream": "stdout",
       "text": [
        "  Loading RAD-Tag 290000       \r"
       ]
      },
      {
       "output_type": "stream",
       "stream": "stdout",
       "text": [
        "  Loading RAD-Tag 300000       \r"
       ]
      },
      {
       "output_type": "stream",
       "stream": "stdout",
       "text": [
        "  Loading RAD-Tag 310000       \r"
       ]
      },
      {
       "output_type": "stream",
       "stream": "stdout",
       "text": [
        "  Loading RAD-Tag 320000       \r"
       ]
      },
      {
       "output_type": "stream",
       "stream": "stdout",
       "text": [
        "  Loading RAD-Tag 330000       \r",
        "  Loading RAD-Tag 340000       \r"
       ]
      },
      {
       "output_type": "stream",
       "stream": "stdout",
       "text": [
        "  Loading RAD-Tag 350000       \r"
       ]
      },
      {
       "output_type": "stream",
       "stream": "stdout",
       "text": [
        "  Loading RAD-Tag 360000       \r"
       ]
      },
      {
       "output_type": "stream",
       "stream": "stdout",
       "text": [
        "  Loading RAD-Tag 370000       \r"
       ]
      },
      {
       "output_type": "stream",
       "stream": "stdout",
       "text": [
        "  Loading RAD-Tag 380000       \r"
       ]
      },
      {
       "output_type": "stream",
       "stream": "stdout",
       "text": [
        "  Loading RAD-Tag 390000       \r"
       ]
      },
      {
       "output_type": "stream",
       "stream": "stdout",
       "text": [
        "  Loading RAD-Tag 400000       \r"
       ]
      },
      {
       "output_type": "stream",
       "stream": "stdout",
       "text": [
        "  Loading RAD-Tag 410000       \r"
       ]
      },
      {
       "output_type": "stream",
       "stream": "stdout",
       "text": [
        "  Loading RAD-Tag 420000       \r"
       ]
      },
      {
       "output_type": "stream",
       "stream": "stdout",
       "text": [
        "  Loading RAD-Tag 430000       \r"
       ]
      },
      {
       "output_type": "stream",
       "stream": "stdout",
       "text": [
        "  Loading RAD-Tag 440000       \r"
       ]
      },
      {
       "output_type": "stream",
       "stream": "stdout",
       "text": [
        "  Loading RAD-Tag 450000       \r"
       ]
      },
      {
       "output_type": "stream",
       "stream": "stdout",
       "text": [
        "  Loading RAD-Tag 460000       \r",
        "  Loading RAD-Tag 470000       \r"
       ]
      },
      {
       "output_type": "stream",
       "stream": "stdout",
       "text": [
        "  Loading RAD-Tag 480000       \r"
       ]
      },
      {
       "output_type": "stream",
       "stream": "stdout",
       "text": [
        "  Loading RAD-Tag 490000       \r"
       ]
      },
      {
       "output_type": "stream",
       "stream": "stdout",
       "text": [
        "  Loading RAD-Tag 500000       \r"
       ]
      },
      {
       "output_type": "stream",
       "stream": "stdout",
       "text": [
        "  Loading RAD-Tag 510000       \r"
       ]
      },
      {
       "output_type": "stream",
       "stream": "stdout",
       "text": [
        "  Loading RAD-Tag 520000       \r"
       ]
      },
      {
       "output_type": "stream",
       "stream": "stdout",
       "text": [
        "  Loading RAD-Tag 530000       \r"
       ]
      },
      {
       "output_type": "stream",
       "stream": "stdout",
       "text": [
        "  Loading RAD-Tag 540000       \r",
        "  Loading RAD-Tag 550000       \r"
       ]
      },
      {
       "output_type": "stream",
       "stream": "stdout",
       "text": [
        "  Loading RAD-Tag 560000       \r"
       ]
      },
      {
       "output_type": "stream",
       "stream": "stdout",
       "text": [
        "  Loading RAD-Tag 570000       \r"
       ]
      },
      {
       "output_type": "stream",
       "stream": "stdout",
       "text": [
        "  Loading RAD-Tag 580000       \r"
       ]
      },
      {
       "output_type": "stream",
       "stream": "stdout",
       "text": [
        "  Loading RAD-Tag 590000       \r"
       ]
      },
      {
       "output_type": "stream",
       "stream": "stdout",
       "text": [
        "  Loading RAD-Tag 600000       \r"
       ]
      },
      {
       "output_type": "stream",
       "stream": "stdout",
       "text": [
        "  Loading RAD-Tag 610000       \r"
       ]
      },
      {
       "output_type": "stream",
       "stream": "stdout",
       "text": [
        "  Loading RAD-Tag 620000       \r"
       ]
      },
      {
       "output_type": "stream",
       "stream": "stdout",
       "text": [
        "  Loading RAD-Tag 630000       \r"
       ]
      },
      {
       "output_type": "stream",
       "stream": "stdout",
       "text": [
        "  Loading RAD-Tag 640000       \r"
       ]
      },
      {
       "output_type": "stream",
       "stream": "stdout",
       "text": [
        "  Loading RAD-Tag 650000       \r"
       ]
      },
      {
       "output_type": "stream",
       "stream": "stdout",
       "text": [
        "  Loading RAD-Tag 660000       \r"
       ]
      },
      {
       "output_type": "stream",
       "stream": "stdout",
       "text": [
        "Loaded 669167 RAD-Tags; inserted 94601 elements into the RAD-Tags hash map.\r\n",
        "  0 reads contained uncalled nucleotides that were modified.\r\n"
       ]
      },
      {
       "output_type": "stream",
       "stream": "stdout",
       "text": [
        "  Mean coverage depth is 40; Std Dev: 84.3736 Max: 5739\r\n",
        "Coverage mean: 40; stdev: 84.3736\r\n",
        "Deleveraging trigger: 124; Removal trigger: 209\r\n"
       ]
      },
      {
       "output_type": "stream",
       "stream": "stdout",
       "text": [
        "Calculating distance for removing repetitive stacks.\r\n",
        "  Distance allowed between stacks: 1\r\n",
        "  Using a k-mer length of 47\r\n",
        "  Number of kmers per sequence: 49\r\n",
        "  Miniumum number of k-mers to define a match: 2\r\n"
       ]
      },
      {
       "output_type": "stream",
       "stream": "stdout",
       "text": [
        "Removing repetitive stacks.\r\n",
        "  Removed 383 stacks.\r\n"
       ]
      },
      {
       "output_type": "stream",
       "stream": "stdout",
       "text": [
        "  14093 stacks remain for merging.\r\n",
        "Calculating distance between stacks...\r\n",
        "  Distance allowed between stacks: 2\r\n",
        "  Using a k-mer length of 31\r\n",
        "  Number of kmers per sequence: 65\r\n",
        "  Miniumum number of k-mers to define a match: 3\r\n"
       ]
      },
      {
       "output_type": "stream",
       "stream": "stdout",
       "text": [
        "Merging stacks, maximum allowed distance: 2 nucleotide(s)\r\n"
       ]
      },
      {
       "output_type": "stream",
       "stream": "stdout",
       "text": [
        "  14093 stacks merged into 12052 stacks; deleveraged 105 stacks; removed 94 stacks.\r\n"
       ]
      },
      {
       "output_type": "stream",
       "stream": "stdout",
       "text": [
        "  Mean merged coverage depth is 48.1594; Std Dev: 113.335; Max: 6320\r\n",
        "Merging remainder radtags\r\n",
        "  88750 remainder sequences left to merge.\r\n",
        "  Distance allowed between stacks: 4\r\n",
        "  Using a k-mer length of 19\r\n",
        "  Number of kmers per sequence: 77\r\n",
        "  Miniumum number of k-mers to define a match: 1\r\n"
       ]
      },
      {
       "output_type": "stream",
       "stream": "stdout",
       "text": [
        "  Matched 34879 remainder reads; unable to match 53871 remainder reads.\r\n"
       ]
      },
      {
       "output_type": "stream",
       "stream": "stdout",
       "text": [
        "Number of utilized reads: 615296\r\n",
        "Writing results\r\n",
        "  Refetching sequencing IDs from ../samples/sample_ACATAC.fq... "
       ]
      },
      {
       "output_type": "stream",
       "stream": "stdout",
       "text": [
        "read 669167 sequence IDs.\r\n"
       ]
      }
     ],
     "prompt_number": 18
    },
    {
     "cell_type": "code",
     "collapsed": false,
     "input": [
      "!ustacks -t fastq -f ../samples/sample_ACCATG.fq -o ../ustacks -i 6 -d -r -m 3 -p 15"
     ],
     "language": "python",
     "metadata": {},
     "outputs": [
      {
       "output_type": "stream",
       "stream": "stdout",
       "text": [
        "Min depth of coverage to create a stack: 3\r\n",
        "Max distance allowed between stacks: 2\r\n",
        "Max distance allowed to align secondary reads: 4\r\n",
        "Max number of stacks allowed per de novo locus: 3\r\n",
        "Deleveraging algorithm: enabled\r\n",
        "Removal algorithm: enabled\r\n",
        "Model type: SNP\r\n",
        "Alpha significance level for model: 0.05\r\n",
        "Parsing ../samples/sample_ACCATG.fq\r\n",
        "  Loading RAD-Tag 0       \r"
       ]
      },
      {
       "output_type": "stream",
       "stream": "stdout",
       "text": [
        "  Loading RAD-Tag 10000       \r"
       ]
      },
      {
       "output_type": "stream",
       "stream": "stdout",
       "text": [
        "  Loading RAD-Tag 20000       \r"
       ]
      },
      {
       "output_type": "stream",
       "stream": "stdout",
       "text": [
        "  Loading RAD-Tag 30000       \r"
       ]
      },
      {
       "output_type": "stream",
       "stream": "stdout",
       "text": [
        "  Loading RAD-Tag 40000       \r"
       ]
      },
      {
       "output_type": "stream",
       "stream": "stdout",
       "text": [
        "  Loading RAD-Tag 50000       \r",
        "  Loading RAD-Tag 60000       \r"
       ]
      },
      {
       "output_type": "stream",
       "stream": "stdout",
       "text": [
        "  Loading RAD-Tag 70000       \r"
       ]
      },
      {
       "output_type": "stream",
       "stream": "stdout",
       "text": [
        "  Loading RAD-Tag 80000       \r"
       ]
      },
      {
       "output_type": "stream",
       "stream": "stdout",
       "text": [
        "  Loading RAD-Tag 90000       \r"
       ]
      },
      {
       "output_type": "stream",
       "stream": "stdout",
       "text": [
        "  Loading RAD-Tag 100000       \r"
       ]
      },
      {
       "output_type": "stream",
       "stream": "stdout",
       "text": [
        "  Loading RAD-Tag 110000       \r"
       ]
      },
      {
       "output_type": "stream",
       "stream": "stdout",
       "text": [
        "  Loading RAD-Tag 120000       \r"
       ]
      },
      {
       "output_type": "stream",
       "stream": "stdout",
       "text": [
        "  Loading RAD-Tag 130000       \r"
       ]
      },
      {
       "output_type": "stream",
       "stream": "stdout",
       "text": [
        "  Loading RAD-Tag 140000       \r"
       ]
      },
      {
       "output_type": "stream",
       "stream": "stdout",
       "text": [
        "  Loading RAD-Tag 150000       \r"
       ]
      },
      {
       "output_type": "stream",
       "stream": "stdout",
       "text": [
        "  Loading RAD-Tag 160000       \r"
       ]
      },
      {
       "output_type": "stream",
       "stream": "stdout",
       "text": [
        "  Loading RAD-Tag 170000       \r"
       ]
      },
      {
       "output_type": "stream",
       "stream": "stdout",
       "text": [
        "  Loading RAD-Tag 180000       \r"
       ]
      },
      {
       "output_type": "stream",
       "stream": "stdout",
       "text": [
        "  Loading RAD-Tag 190000       \r"
       ]
      },
      {
       "output_type": "stream",
       "stream": "stdout",
       "text": [
        "  Loading RAD-Tag 200000       \r"
       ]
      },
      {
       "output_type": "stream",
       "stream": "stdout",
       "text": [
        "  Loading RAD-Tag 210000       \r"
       ]
      },
      {
       "output_type": "stream",
       "stream": "stdout",
       "text": [
        "  Loading RAD-Tag 220000       \r"
       ]
      },
      {
       "output_type": "stream",
       "stream": "stdout",
       "text": [
        "  Loading RAD-Tag 230000       \r"
       ]
      },
      {
       "output_type": "stream",
       "stream": "stdout",
       "text": [
        "  Loading RAD-Tag 240000       \r"
       ]
      },
      {
       "output_type": "stream",
       "stream": "stdout",
       "text": [
        "  Loading RAD-Tag 250000       \r"
       ]
      },
      {
       "output_type": "stream",
       "stream": "stdout",
       "text": [
        "  Loading RAD-Tag 260000       \r"
       ]
      },
      {
       "output_type": "stream",
       "stream": "stdout",
       "text": [
        "  Loading RAD-Tag 270000       \r"
       ]
      },
      {
       "output_type": "stream",
       "stream": "stdout",
       "text": [
        "  Loading RAD-Tag 280000       \r"
       ]
      },
      {
       "output_type": "stream",
       "stream": "stdout",
       "text": [
        "  Loading RAD-Tag 290000       \r",
        "  Loading RAD-Tag 300000       \r"
       ]
      },
      {
       "output_type": "stream",
       "stream": "stdout",
       "text": [
        "  Loading RAD-Tag 310000       \r"
       ]
      },
      {
       "output_type": "stream",
       "stream": "stdout",
       "text": [
        "  Loading RAD-Tag 320000       \r"
       ]
      },
      {
       "output_type": "stream",
       "stream": "stdout",
       "text": [
        "  Loading RAD-Tag 330000       \r"
       ]
      },
      {
       "output_type": "stream",
       "stream": "stdout",
       "text": [
        "  Loading RAD-Tag 340000       \r"
       ]
      },
      {
       "output_type": "stream",
       "stream": "stdout",
       "text": [
        "  Loading RAD-Tag 350000       \r"
       ]
      },
      {
       "output_type": "stream",
       "stream": "stdout",
       "text": [
        "  Loading RAD-Tag 360000       \r"
       ]
      },
      {
       "output_type": "stream",
       "stream": "stdout",
       "text": [
        "  Loading RAD-Tag 370000       \r"
       ]
      },
      {
       "output_type": "stream",
       "stream": "stdout",
       "text": [
        "  Loading RAD-Tag 380000       \r"
       ]
      },
      {
       "output_type": "stream",
       "stream": "stdout",
       "text": [
        "  Loading RAD-Tag 390000       \r"
       ]
      },
      {
       "output_type": "stream",
       "stream": "stdout",
       "text": [
        "  Loading RAD-Tag 400000       \r",
        "  Loading RAD-Tag 410000       \r",
        "Loaded 413345 RAD-Tags; inserted 74223 elements into the RAD-Tags hash map.\r\n",
        "  0 reads contained uncalled nucleotides that were modified.\r\n"
       ]
      },
      {
       "output_type": "stream",
       "stream": "stdout",
       "text": [
        "  Mean coverage depth is 26; Std Dev: 98.5712 Max: 8051\r\n",
        "Coverage mean: 26; stdev: 98.5712\r\n",
        "Deleveraging trigger: 125; Removal trigger: 223\r\n",
        "Calculating distance for removing repetitive stacks.\r\n",
        "  Distance allowed between stacks: 1\r\n",
        "  Using a k-mer length of 47\r\n",
        "  Number of kmers per sequence: 49\r\n",
        "  Miniumum number of k-mers to define a match: 2\r\n"
       ]
      },
      {
       "output_type": "stream",
       "stream": "stdout",
       "text": [
        "Removing repetitive stacks.\r\n",
        "  Removed 520 stacks.\r\n"
       ]
      },
      {
       "output_type": "stream",
       "stream": "stdout",
       "text": [
        "  13038 stacks remain for merging.\r\n",
        "Calculating distance between stacks...\r\n",
        "  Distance allowed between stacks: 2\r\n",
        "  Using a k-mer length of 31\r\n",
        "  Number of kmers per sequence: 65\r\n",
        "  Miniumum number of k-mers to define a match: 3\r\n"
       ]
      },
      {
       "output_type": "stream",
       "stream": "stdout",
       "text": [
        "Merging stacks, maximum allowed distance: 2 nucleotide(s)\r\n"
       ]
      },
      {
       "output_type": "stream",
       "stream": "stdout",
       "text": [
        "  13038 stacks merged into 11248 stacks; deleveraged 112 stacks; removed 82 stacks.\r\n"
       ]
      },
      {
       "output_type": "stream",
       "stream": "stdout",
       "text": [
        "  Mean merged coverage depth is 30.7252; Std Dev: 128.328; Max: 8527\r\n",
        "Merging remainder radtags\r\n",
        "  67748 remainder sequences left to merge.\r\n",
        "  Distance allowed between stacks: 4\r\n",
        "  Using a k-mer length of "
       ]
      },
      {
       "output_type": "stream",
       "stream": "stdout",
       "text": [
        "19\r\n",
        "  Number of kmers per sequence: 77\r\n",
        "  Miniumum number of k-mers to define a match: 1\r\n"
       ]
      },
      {
       "output_type": "stream",
       "stream": "stdout",
       "text": [
        "  Matched 21644 remainder reads; unable to match 46104 remainder reads.\r\n"
       ]
      },
      {
       "output_type": "stream",
       "stream": "stdout",
       "text": [
        "Number of utilized reads: 367241\r\n",
        "Writing results\r\n",
        "  Refetching sequencing IDs from ../samples/sample_ACCATG.fq... "
       ]
      },
      {
       "output_type": "stream",
       "stream": "stdout",
       "text": [
        "read 413345 sequence IDs.\r\n"
       ]
      }
     ],
     "prompt_number": 19
    },
    {
     "cell_type": "code",
     "collapsed": false,
     "input": [
      "!ustacks -t fastq -f ../samples/sample_ACCCCC.fq -o ../ustacks -i 7 -d -r -m 3 -p 15"
     ],
     "language": "python",
     "metadata": {},
     "outputs": [
      {
       "output_type": "stream",
       "stream": "stdout",
       "text": [
        "Min depth of coverage to create a stack: 3\r\n",
        "Max distance allowed between stacks: 2\r\n",
        "Max distance allowed to align secondary reads: 4\r\n",
        "Max number of stacks allowed per de novo locus: 3\r\n",
        "Deleveraging algorithm: enabled\r\n",
        "Removal algorithm: enabled\r\n",
        "Model type: SNP\r\n",
        "Alpha significance level for model: 0.05\r\n",
        "Parsing ../samples/sample_ACCCCC.fq\r\n"
       ]
      },
      {
       "output_type": "stream",
       "stream": "stdout",
       "text": [
        "  Loading RAD-Tag 0       \r"
       ]
      },
      {
       "output_type": "stream",
       "stream": "stdout",
       "text": [
        "  Loading RAD-Tag 10000       \r"
       ]
      },
      {
       "output_type": "stream",
       "stream": "stdout",
       "text": [
        "  Loading RAD-Tag 20000       \r",
        "  Loading RAD-Tag 30000       \r"
       ]
      },
      {
       "output_type": "stream",
       "stream": "stdout",
       "text": [
        "  Loading RAD-Tag 40000       \r"
       ]
      },
      {
       "output_type": "stream",
       "stream": "stdout",
       "text": [
        "  Loading RAD-Tag 50000       \r"
       ]
      },
      {
       "output_type": "stream",
       "stream": "stdout",
       "text": [
        "  Loading RAD-Tag 60000       \r"
       ]
      },
      {
       "output_type": "stream",
       "stream": "stdout",
       "text": [
        "  Loading RAD-Tag 70000       \r"
       ]
      },
      {
       "output_type": "stream",
       "stream": "stdout",
       "text": [
        "  Loading RAD-Tag 80000       \r"
       ]
      },
      {
       "output_type": "stream",
       "stream": "stdout",
       "text": [
        "  Loading RAD-Tag 90000       \r"
       ]
      },
      {
       "output_type": "stream",
       "stream": "stdout",
       "text": [
        "  Loading RAD-Tag 100000       \r"
       ]
      },
      {
       "output_type": "stream",
       "stream": "stdout",
       "text": [
        "  Loading RAD-Tag 110000       \r"
       ]
      },
      {
       "output_type": "stream",
       "stream": "stdout",
       "text": [
        "  Loading RAD-Tag 120000       \r"
       ]
      },
      {
       "output_type": "stream",
       "stream": "stdout",
       "text": [
        "  Loading RAD-Tag 130000       \r"
       ]
      },
      {
       "output_type": "stream",
       "stream": "stdout",
       "text": [
        "  Loading RAD-Tag 140000       \r"
       ]
      },
      {
       "output_type": "stream",
       "stream": "stdout",
       "text": [
        "  Loading RAD-Tag 150000       \r"
       ]
      },
      {
       "output_type": "stream",
       "stream": "stdout",
       "text": [
        "  Loading RAD-Tag 160000       \r"
       ]
      },
      {
       "output_type": "stream",
       "stream": "stdout",
       "text": [
        "  Loading RAD-Tag 170000       \r"
       ]
      },
      {
       "output_type": "stream",
       "stream": "stdout",
       "text": [
        "  Loading RAD-Tag 180000       \r"
       ]
      },
      {
       "output_type": "stream",
       "stream": "stdout",
       "text": [
        "  Loading RAD-Tag 190000       \r"
       ]
      },
      {
       "output_type": "stream",
       "stream": "stdout",
       "text": [
        "  Loading RAD-Tag 200000       \r"
       ]
      },
      {
       "output_type": "stream",
       "stream": "stdout",
       "text": [
        "  Loading RAD-Tag 210000       \r"
       ]
      },
      {
       "output_type": "stream",
       "stream": "stdout",
       "text": [
        "  Loading RAD-Tag 220000       \r"
       ]
      },
      {
       "output_type": "stream",
       "stream": "stdout",
       "text": [
        "  Loading RAD-Tag 230000       \r"
       ]
      },
      {
       "output_type": "stream",
       "stream": "stdout",
       "text": [
        "  Loading RAD-Tag 240000       \r"
       ]
      },
      {
       "output_type": "stream",
       "stream": "stdout",
       "text": [
        "  Loading RAD-Tag 250000       \r"
       ]
      },
      {
       "output_type": "stream",
       "stream": "stdout",
       "text": [
        "  Loading RAD-Tag 260000       \r"
       ]
      },
      {
       "output_type": "stream",
       "stream": "stdout",
       "text": [
        "  Loading RAD-Tag 270000       \r"
       ]
      },
      {
       "output_type": "stream",
       "stream": "stdout",
       "text": [
        "  Loading RAD-Tag 280000       \r"
       ]
      },
      {
       "output_type": "stream",
       "stream": "stdout",
       "text": [
        "  Loading RAD-Tag 290000       \r"
       ]
      },
      {
       "output_type": "stream",
       "stream": "stdout",
       "text": [
        "  Loading RAD-Tag 300000       \r"
       ]
      },
      {
       "output_type": "stream",
       "stream": "stdout",
       "text": [
        "  Loading RAD-Tag 310000       \r"
       ]
      },
      {
       "output_type": "stream",
       "stream": "stdout",
       "text": [
        "  Loading RAD-Tag 320000       \r"
       ]
      },
      {
       "output_type": "stream",
       "stream": "stdout",
       "text": [
        "  Loading RAD-Tag 330000       \r"
       ]
      },
      {
       "output_type": "stream",
       "stream": "stdout",
       "text": [
        "  Loading RAD-Tag 340000       \r"
       ]
      },
      {
       "output_type": "stream",
       "stream": "stdout",
       "text": [
        "  Loading RAD-Tag 350000       \r"
       ]
      },
      {
       "output_type": "stream",
       "stream": "stdout",
       "text": [
        "  Loading RAD-Tag 360000       \r",
        "  Loading RAD-Tag 370000       \r"
       ]
      },
      {
       "output_type": "stream",
       "stream": "stdout",
       "text": [
        "  Loading RAD-Tag 380000       \r"
       ]
      },
      {
       "output_type": "stream",
       "stream": "stdout",
       "text": [
        "  Loading RAD-Tag 390000       \r"
       ]
      },
      {
       "output_type": "stream",
       "stream": "stdout",
       "text": [
        "  Loading RAD-Tag 400000       \r"
       ]
      },
      {
       "output_type": "stream",
       "stream": "stdout",
       "text": [
        "  Loading RAD-Tag 410000       \r"
       ]
      },
      {
       "output_type": "stream",
       "stream": "stdout",
       "text": [
        "  Loading RAD-Tag 420000       \r"
       ]
      },
      {
       "output_type": "stream",
       "stream": "stdout",
       "text": [
        "  Loading RAD-Tag 430000       \r"
       ]
      },
      {
       "output_type": "stream",
       "stream": "stdout",
       "text": [
        "  Loading RAD-Tag 440000       \r",
        "Loaded 441733 RAD-Tags; inserted 57835 elements into the RAD-Tags hash map.\r\n",
        "  0 reads contained uncalled nucleotides that were modified.\r\n"
       ]
      },
      {
       "output_type": "stream",
       "stream": "stdout",
       "text": [
        "  Mean coverage depth is 30; Std Dev: 98.8621 Max: 5575\r\n",
        "Coverage mean: 30; stdev: 98.8621\r\n",
        "Deleveraging trigger: 129; Removal trigger: 228\r\n"
       ]
      },
      {
       "output_type": "stream",
       "stream": "stdout",
       "text": [
        "Calculating distance for removing repetitive stacks.\r\n",
        "  Distance allowed between stacks: 1\r\n",
        "  Using a k-mer length of 47\r\n",
        "  Number of kmers per sequence: 49\r\n",
        "  Miniumum number of k-mers to define a match: 2\r\n"
       ]
      },
      {
       "output_type": "stream",
       "stream": "stdout",
       "text": [
        "Removing repetitive stacks.\r\n"
       ]
      },
      {
       "output_type": "stream",
       "stream": "stdout",
       "text": [
        "  Removed 439 stacks.\r\n",
        "  12856 stacks remain for merging.\r\n",
        "Calculating distance between stacks...\r\n",
        "  Distance allowed between stacks: 2\r\n",
        "  Using a k-mer length of 31\r\n",
        "  Number of kmers per sequence: 65\r\n",
        "  Miniumum number of k-mers to define a match: 3\r\n"
       ]
      },
      {
       "output_type": "stream",
       "stream": "stdout",
       "text": [
        "Merging stacks, maximum allowed distance: 2 nucleotide(s)\r\n"
       ]
      },
      {
       "output_type": "stream",
       "stream": "stdout",
       "text": [
        "  12856 stacks merged into 10999 stacks; deleveraged 105 stacks; removed 82 stacks.\r\n"
       ]
      },
      {
       "output_type": "stream",
       "stream": "stdout",
       "text": [
        "  Mean merged coverage depth is 35.7519; Std Dev: 154.377; Max: 12246\r\n",
        "Merging remainder radtags\r\n",
        "  48498 remainder sequences left to merge.\r\n",
        "  Distance allowed between stacks: 4\r\n",
        "  Using a k-mer length of 19\r\n",
        "  Number of kmers per sequence: 77\r\n",
        "  Miniumum number of k-mers to define a match: 1\r\n"
       ]
      },
      {
       "output_type": "stream",
       "stream": "stdout",
       "text": [
        "  Matched 23157 remainder reads; unable to match 25341 remainder reads.\r\n"
       ]
      },
      {
       "output_type": "stream",
       "stream": "stdout",
       "text": [
        "Number of utilized reads: 416392\r\n",
        "Writing results\r\n",
        "  Refetching sequencing IDs from ../samples/sample_ACCCCC.fq... "
       ]
      },
      {
       "output_type": "stream",
       "stream": "stdout",
       "text": [
        "read 441733 sequence IDs.\r\n"
       ]
      }
     ],
     "prompt_number": 20
    },
    {
     "cell_type": "code",
     "collapsed": false,
     "input": [
      "!ustacks -t fastq -f ../samples/sample_CAAAAA.fq -o ../ustacks -i 8 -d -r -m 3 -p 15"
     ],
     "language": "python",
     "metadata": {},
     "outputs": [
      {
       "output_type": "stream",
       "stream": "stdout",
       "text": [
        "Min depth of coverage to create a stack: 3\r\n",
        "Max distance allowed between stacks: 2\r\n",
        "Max distance allowed to align secondary reads: 4\r\n",
        "Max number of stacks allowed per de novo locus: 3\r\n",
        "Deleveraging algorithm: enabled\r\n",
        "Removal algorithm: enabled\r\n",
        "Model type: SNP\r\n",
        "Alpha significance level for model: 0.05\r\n",
        "Parsing ../samples/sample_CAAAAA.fq\r\n",
        "  Loading RAD-Tag 0       \r"
       ]
      },
      {
       "output_type": "stream",
       "stream": "stdout",
       "text": [
        "  Loading RAD-Tag 10000       \r"
       ]
      },
      {
       "output_type": "stream",
       "stream": "stdout",
       "text": [
        "  Loading RAD-Tag 20000       \r"
       ]
      },
      {
       "output_type": "stream",
       "stream": "stdout",
       "text": [
        "  Loading RAD-Tag 30000       \r"
       ]
      },
      {
       "output_type": "stream",
       "stream": "stdout",
       "text": [
        "  Loading RAD-Tag 40000       \r"
       ]
      },
      {
       "output_type": "stream",
       "stream": "stdout",
       "text": [
        "  Loading RAD-Tag 50000       \r"
       ]
      },
      {
       "output_type": "stream",
       "stream": "stdout",
       "text": [
        "Loaded 59363 RAD-Tags; inserted 23593 elements into the RAD-Tags hash map.\r\n",
        "  0 reads contained uncalled nucleotides that were modified.\r\n"
       ]
      },
      {
       "output_type": "stream",
       "stream": "stdout",
       "text": [
        "  Mean coverage depth is 7; Std Dev: 27.7148 Max: 1835\r\n",
        "Coverage mean: 7; stdev: 27.7148\r\n",
        "Deleveraging trigger: 35; Removal trigger: 62\r\n"
       ]
      },
      {
       "output_type": "stream",
       "stream": "stdout",
       "text": [
        "Calculating distance for removing repetitive stacks.\r\n",
        "  Distance allowed between stacks: 1\r\n",
        "  Using a k-mer length of 47\r\n",
        "  Number of kmers per sequence: 49\r\n",
        "  Miniumum number of k-mers to define a match: 2\r\n"
       ]
      },
      {
       "output_type": "stream",
       "stream": "stdout",
       "text": [
        "Removing repetitive stacks.\r\n",
        "  Removed 126 stacks.\r\n",
        "  5615 stacks remain for merging.\r\n",
        "Calculating distance between stacks...\r\n",
        "  Distance allowed between stacks: 2\r\n",
        "  Using a k-mer length of 31\r\n",
        "  Number of kmers per sequence: 65\r\n",
        "  Miniumum number of k-mers to define a match: 3\r\n"
       ]
      },
      {
       "output_type": "stream",
       "stream": "stdout",
       "text": [
        "Merging stacks, maximum allowed distance: 2 nucleotide(s)\r\n"
       ]
      },
      {
       "output_type": "stream",
       "stream": "stdout",
       "text": [
        "  5615 stacks merged into 5175 stacks; deleveraged 42 stacks; removed 22 stacks.\r\n"
       ]
      },
      {
       "output_type": "stream",
       "stream": "stdout",
       "text": [
        "  Mean merged coverage depth is 7.34319; Std Dev: 31.5243; Max: 1899\r\n",
        "Merging remainder radtags\r\n",
        "  21362 remainder sequences left to merge.\r\n",
        "  Distance allowed between stacks: 4\r\n",
        "  Using a k-mer length of 19\r\n",
        "  Number of kmers per sequence: 77\r\n",
        "  Miniumum number of k-mers to define a match: 1\r\n"
       ]
      },
      {
       "output_type": "stream",
       "stream": "stdout",
       "text": [
        "  Matched 3574 remainder reads; unable to match 17788 remainder reads.\r\n"
       ]
      },
      {
       "output_type": "stream",
       "stream": "stdout",
       "text": [
        "Number of utilized reads: 41575\r\n",
        "Writing results\r\n",
        "  Refetching sequencing IDs from ../samples/sample_CAAAAA.fq... "
       ]
      },
      {
       "output_type": "stream",
       "stream": "stdout",
       "text": [
        "read 59363 sequence IDs.\r\n"
       ]
      }
     ],
     "prompt_number": 21
    },
    {
     "cell_type": "code",
     "collapsed": false,
     "input": [
      "!ustacks -t fastq -f ../samples/sample_TACACA.fq -o ../ustacks -i 9 -d -r -m 3 -p 15"
     ],
     "language": "python",
     "metadata": {},
     "outputs": [
      {
       "output_type": "stream",
       "stream": "stdout",
       "text": [
        "Min depth of coverage to create a stack: 3\r\n",
        "Max distance allowed between stacks: 2\r\n",
        "Max distance allowed to align secondary reads: 4\r\n",
        "Max number of stacks allowed per de novo locus: 3\r\n",
        "Deleveraging algorithm: enabled\r\n",
        "Removal algorithm: enabled\r\n",
        "Model type: SNP\r\n",
        "Alpha significance level for model: 0.05\r\n",
        "Parsing ../samples/sample_TACACA.fq\r\n",
        "  Loading RAD-Tag 0       \r"
       ]
      },
      {
       "output_type": "stream",
       "stream": "stdout",
       "text": [
        "  Loading RAD-Tag 10000       \r"
       ]
      },
      {
       "output_type": "stream",
       "stream": "stdout",
       "text": [
        "  Loading RAD-Tag 20000       \r",
        "Loaded "
       ]
      },
      {
       "output_type": "stream",
       "stream": "stdout",
       "text": [
        "20918 RAD-Tags; inserted 14637 elements into the RAD-Tags hash map.\r\n",
        "  0 reads contained uncalled nucleotides that were modified.\r\n",
        "  Mean coverage depth is 5; Std Dev: 15.4895 Max: 311\r\n",
        "Coverage mean: 5; stdev: 15.4895\r\n",
        "Deleveraging trigger: 20; Removal trigger: 36\r\n",
        "Calculating distance for removing repetitive stacks.\r\n",
        "  Distance allowed between stacks: 1\r\n",
        "  Using a k-mer length of 47\r\n",
        "  Number of kmers per sequence: 49\r\n",
        "  Miniumum number of k-mers to define a match: 2\r\n"
       ]
      },
      {
       "output_type": "stream",
       "stream": "stdout",
       "text": [
        "Removing repetitive stacks.\r\n",
        "  Removed 34 stacks.\r\n",
        "  895 stacks remain for merging.\r\n",
        "Calculating distance between stacks...\r\n",
        "  Distance allowed between stacks: 2\r\n",
        "  Using a k-mer length of 31\r\n",
        "  Number of kmers per sequence: 65\r\n",
        "  Miniumum number of k-mers to define a match: 3\r\n"
       ]
      },
      {
       "output_type": "stream",
       "stream": "stdout",
       "text": [
        "Merging stacks, maximum allowed distance: 2 nucleotide(s)\r\n",
        "  895 stacks merged into 837 stacks; deleveraged 10 stacks; removed 5 stacks.\r\n",
        "  Mean merged coverage depth is 5.97252; Std Dev: 18.3384; Max: 314\r\n",
        "Merging remainder radtags\r\n",
        "  15919 remainder sequences left to merge.\r\n",
        "  Distance allowed between stacks: 4\r\n",
        "  Using a k-mer length of 19\r\n",
        "  Number of kmers per sequence: 77\r\n",
        "  Miniumum number of k-mers to define a match: 1\r\n"
       ]
      },
      {
       "output_type": "stream",
       "stream": "stdout",
       "text": [
        "  Matched 1153 remainder reads; unable to match 14766 remainder reads.\r\n"
       ]
      },
      {
       "output_type": "stream",
       "stream": "stdout",
       "text": [
        "Number of utilized reads: 6152\r\n",
        "Writing results\r\n",
        "  Refetching sequencing IDs from ../samples/sample_TACACA.fq... "
       ]
      },
      {
       "output_type": "stream",
       "stream": "stdout",
       "text": [
        "read 20918 sequence IDs.\r\n"
       ]
      }
     ],
     "prompt_number": 22
    },
    {
     "cell_type": "code",
     "collapsed": false,
     "input": [
      "!ustacks -t fastq -f ../samples/sample_CAGGCA.fq -o ../ustacks -i 10 -d -r -m 3 -p 15"
     ],
     "language": "python",
     "metadata": {},
     "outputs": [
      {
       "output_type": "stream",
       "stream": "stdout",
       "text": [
        "Min depth of coverage to create a stack: 3\r\n",
        "Max distance allowed between stacks: 2\r\n",
        "Max distance allowed to align secondary reads: 4\r\n",
        "Max number of stacks allowed per de novo locus: 3\r\n",
        "Deleveraging algorithm: enabled\r\n",
        "Removal algorithm: enabled\r\n",
        "Model type: SNP\r\n",
        "Alpha significance level for model: 0.05\r\n",
        "Parsing ../samples/sample_CAGGCA.fq\r\n",
        "  Loading RAD-Tag 0       \r"
       ]
      },
      {
       "output_type": "stream",
       "stream": "stdout",
       "text": [
        "  Loading RAD-Tag 10000       \r"
       ]
      },
      {
       "output_type": "stream",
       "stream": "stdout",
       "text": [
        "  Loading RAD-Tag 20000       \r"
       ]
      },
      {
       "output_type": "stream",
       "stream": "stdout",
       "text": [
        "  Loading RAD-Tag 30000       \r"
       ]
      },
      {
       "output_type": "stream",
       "stream": "stdout",
       "text": [
        "  Loading RAD-Tag 40000       \r"
       ]
      },
      {
       "output_type": "stream",
       "stream": "stdout",
       "text": [
        "  Loading RAD-Tag 50000       \r"
       ]
      },
      {
       "output_type": "stream",
       "stream": "stdout",
       "text": [
        "  Loading RAD-Tag 60000       \r"
       ]
      },
      {
       "output_type": "stream",
       "stream": "stdout",
       "text": [
        "  Loading RAD-Tag 70000       \r"
       ]
      },
      {
       "output_type": "stream",
       "stream": "stdout",
       "text": [
        "  Loading RAD-Tag 80000       \r"
       ]
      },
      {
       "output_type": "stream",
       "stream": "stdout",
       "text": [
        "  Loading RAD-Tag 90000       \r"
       ]
      },
      {
       "output_type": "stream",
       "stream": "stdout",
       "text": [
        "  Loading RAD-Tag 100000       \r"
       ]
      },
      {
       "output_type": "stream",
       "stream": "stdout",
       "text": [
        "  Loading RAD-Tag 110000       \r"
       ]
      },
      {
       "output_type": "stream",
       "stream": "stdout",
       "text": [
        "  Loading RAD-Tag 120000       \r",
        "Loaded 121809 RAD-Tags; inserted 31684 elements into the RAD-Tags hash map.\r\n",
        "  0 reads contained uncalled nucleotides that were modified.\r\n"
       ]
      },
      {
       "output_type": "stream",
       "stream": "stdout",
       "text": [
        "  Mean coverage depth is 11; Std Dev: 52.766 Max: 3934\r\n",
        "Coverage mean: 11; stdev: 52.766\r\n",
        "Deleveraging trigger: 64; Removal trigger: 117\r\n",
        "Calculating distance for removing repetitive stacks.\r\n",
        "  Distance allowed between stacks: 1\r\n",
        "  Using a k-mer length of 47\r\n",
        "  Number of kmers per sequence: 49\r\n",
        "  Miniumum number of k-mers to define a match: 2\r\n"
       ]
      },
      {
       "output_type": "stream",
       "stream": "stdout",
       "text": [
        "Removing repetitive stacks.\r\n",
        "  Removed 150 stacks.\r\n"
       ]
      },
      {
       "output_type": "stream",
       "stream": "stdout",
       "text": [
        "  8404 stacks remain for merging.\r\n",
        "Calculating distance between stacks...\r\n",
        "  Distance allowed between stacks: 2\r\n",
        "  Using a k-mer length of 31\r\n",
        "  Number of kmers per sequence: 65\r\n",
        "  Miniumum number of k-mers to define a match: 3\r\n"
       ]
      },
      {
       "output_type": "stream",
       "stream": "stdout",
       "text": [
        "Merging stacks, maximum allowed distance: 2 nucleotide(s)\r\n"
       ]
      },
      {
       "output_type": "stream",
       "stream": "stdout",
       "text": [
        "  8404 stacks merged into 7425 stacks; deleveraged 68 stacks; removed 44 stacks.\r\n"
       ]
      },
      {
       "output_type": "stream",
       "stream": "stdout",
       "text": [
        "  Mean merged coverage depth is 12.8119; Std Dev: 65.4695; Max: 4151\r\n",
        "Merging remainder radtags\r\n",
        "  26681 remainder sequences left to merge.\r\n",
        "  Distance allowed between stacks: 4\r\n",
        "  Using a k-mer length of 19\r\n",
        "  Number of kmers per sequence: 77\r\n",
        "  Miniumum number of k-mers to define a match: 1\r\n"
       ]
      },
      {
       "output_type": "stream",
       "stream": "stdout",
       "text": [
        "  Matched 6611 remainder reads; unable to match 20070 remainder reads.\r\n"
       ]
      },
      {
       "output_type": "stream",
       "stream": "stdout",
       "text": [
        "Number of utilized reads: 101739\r\n",
        "Writing results\r\n",
        "  Refetching sequencing IDs from ../samples/sample_CAGGCA.fq... "
       ]
      },
      {
       "output_type": "stream",
       "stream": "stdout",
       "text": [
        "read 121809 sequence IDs.\r\n"
       ]
      }
     ],
     "prompt_number": 23
    },
    {
     "cell_type": "heading",
     "level": 2,
     "metadata": {},
     "source": [
      "CSTACKS"
     ]
    },
    {
     "cell_type": "markdown",
     "metadata": {},
     "source": [
      "Now I need to create a catalog of all the snps called from each fastq file. Normally cstacks is used to create parentage catalogs to compare to the progeny. Since we're looking at different populations I've instead created a catalog of all samples so far. These are not broken down into populations but I have the information to do so if need be in the future. "
     ]
    },
    {
     "cell_type": "code",
     "collapsed": false,
     "input": [
      "!cstacks -b 1 -o ../ustacks -s ../ustacks/sample_CACCTC -s ../ustacks/sample_CCCTAA -s ../ustacks/sample_GCTCAA -s ../ustacks/sample_GTGTAA  \\\n",
      "-s ../ustacks/sample_ACATAC -s ../ustacks/sample_ACCATG -s ../ustacks/sample_ACCCCC -s ../ustacks/sample_CAAAAA -s ../ustacks/sample_TACACA \\\n",
      "-s ../ustacks/sample_CAGGCA -p 15"
     ],
     "language": "python",
     "metadata": {},
     "outputs": [
      {
       "output_type": "stream",
       "stream": "stdout",
       "text": [
        "Number of mismatches allowed between stacks: 0\r\n",
        "Loci matched based on sequence identity.\r\n",
        "Constructing catalog from 10 samples.\r\n",
        "Initializing new catalog...\r\n",
        "  Parsing ../ustacks/sample_CACCTC.tags.tsv\r\n"
       ]
      },
      {
       "output_type": "stream",
       "stream": "stdout",
       "text": [
        "  Parsing ../ustacks/sample_CACCTC.snps.tsv\r\n",
        "  Parsing ../ustacks/sample_CACCTC.alleles.tsv\r\n",
        "Processing sample 2\r\n",
        "  Parsing ../ustacks/sample_CCCTAA.tags.tsv\r\n"
       ]
      },
      {
       "output_type": "stream",
       "stream": "stdout",
       "text": [
        "  Parsing ../ustacks/sample_CCCTAA.snps.tsv\r\n",
        "  Parsing ../ustacks/sample_CCCTAA.alleles.tsv\r\n",
        "Searching for sequence matches...\r\n",
        "  Number of kmers per sequence: 1\r\n",
        "  Miniumum number of k-mers to define a match: 1\r\n"
       ]
      },
      {
       "output_type": "stream",
       "stream": "stdout",
       "text": [
        "  7498 loci in the catalog, 8272 kmers in the catalog hash.\r\n",
        "Merging matches into catalog...\r\n",
        "  11 loci matched more than one catalog locus and were excluded.\r\n"
       ]
      },
      {
       "output_type": "stream",
       "stream": "stdout",
       "text": [
        "Processing sample 3\r\n",
        "  Parsing ../ustacks/sample_GCTCAA.tags.tsv\r\n"
       ]
      },
      {
       "output_type": "stream",
       "stream": "stdout",
       "text": [
        "  Parsing ../ustacks/sample_GCTCAA.snps.tsv\r\n"
       ]
      },
      {
       "output_type": "stream",
       "stream": "stdout",
       "text": [
        "  Parsing ../ustacks/sample_GCTCAA.alleles.tsv\r\n",
        "Searching for sequence matches...\r\n",
        "  Number of kmers per sequence: 1\r\n",
        "  Miniumum number of k-mers to define a match: 1\r\n"
       ]
      },
      {
       "output_type": "stream",
       "stream": "stdout",
       "text": [
        "  12854 loci in the catalog, 14643 kmers in the catalog hash.\r\n"
       ]
      },
      {
       "output_type": "stream",
       "stream": "stdout",
       "text": [
        "Merging matches into catalog...\r\n"
       ]
      },
      {
       "output_type": "stream",
       "stream": "stdout",
       "text": [
        "  109 loci matched more than one catalog locus and were excluded.\r\n"
       ]
      },
      {
       "output_type": "stream",
       "stream": "stdout",
       "text": [
        "Processing sample 4\r\n"
       ]
      },
      {
       "output_type": "stream",
       "stream": "stdout",
       "text": [
        "  Parsing ../ustacks/sample_GTGTAA.tags.tsv\r\n"
       ]
      },
      {
       "output_type": "stream",
       "stream": "stdout",
       "text": [
        "  Parsing ../ustacks/sample_GTGTAA.snps.tsv\r\n",
        "  Parsing ../ustacks/sample_GTGTAA.alleles.tsv\r\n"
       ]
      },
      {
       "output_type": "stream",
       "stream": "stdout",
       "text": [
        "Searching for sequence matches...\r\n",
        "  Number of kmers per sequence: 1\r\n",
        "  Miniumum number of k-mers to define a match: 1\r\n"
       ]
      },
      {
       "output_type": "stream",
       "stream": "stdout",
       "text": [
        "  17020 loci in the catalog, 19707 kmers in the catalog hash.\r\n"
       ]
      },
      {
       "output_type": "stream",
       "stream": "stdout",
       "text": [
        "Merging matches into catalog...\r\n"
       ]
      },
      {
       "output_type": "stream",
       "stream": "stdout",
       "text": [
        "  222 loci matched more than one catalog locus and were excluded.\r\n"
       ]
      },
      {
       "output_type": "stream",
       "stream": "stdout",
       "text": [
        "Processing sample 5\r\n",
        "  Parsing ../ustacks/sample_ACATAC.tags.tsv\r\n"
       ]
      },
      {
       "output_type": "stream",
       "stream": "stdout",
       "text": [
        "  Parsing ../ustacks/sample_ACATAC.snps.tsv\r\n",
        "  Parsing ../ustacks/sample_ACATAC.alleles.tsv\r\n"
       ]
      },
      {
       "output_type": "stream",
       "stream": "stdout",
       "text": [
        "Searching for sequence matches...\r\n",
        "  Number of kmers per sequence: 1\r\n",
        "  Miniumum number of k-mers to define a match: 1\r\n"
       ]
      },
      {
       "output_type": "stream",
       "stream": "stdout",
       "text": [
        "  19839 loci in the catalog, 23182 kmers in the catalog hash.\r\n"
       ]
      },
      {
       "output_type": "stream",
       "stream": "stdout",
       "text": [
        "Merging matches into catalog...\r\n"
       ]
      },
      {
       "output_type": "stream",
       "stream": "stdout",
       "text": [
        "  232 loci matched more than one catalog locus and were excluded.\r\n"
       ]
      },
      {
       "output_type": "stream",
       "stream": "stdout",
       "text": [
        "Processing sample 6\r\n",
        "  Parsing ../ustacks/sample_ACCATG.tags.tsv\r\n"
       ]
      },
      {
       "output_type": "stream",
       "stream": "stdout",
       "text": [
        "  Parsing ../ustacks/sample_ACCATG.snps.tsv\r\n"
       ]
      },
      {
       "output_type": "stream",
       "stream": "stdout",
       "text": [
        "  Parsing ../ustacks/sample_ACCATG.alleles.tsv\r\n",
        "Searching for sequence matches...\r\n",
        "  Number of kmers per sequence: 1\r\n",
        "  Miniumum number of k-mers to define a match: 1\r\n"
       ]
      },
      {
       "output_type": "stream",
       "stream": "stdout",
       "text": [
        "  23268 loci in the catalog, 27289 kmers in the catalog hash.\r\n"
       ]
      },
      {
       "output_type": "stream",
       "stream": "stdout",
       "text": [
        "Merging matches into catalog...\r\n"
       ]
      },
      {
       "output_type": "stream",
       "stream": "stdout",
       "text": [
        "  266 loci matched more than one catalog locus and were excluded.\r\n"
       ]
      },
      {
       "output_type": "stream",
       "stream": "stdout",
       "text": [
        "Processing sample 7\r\n",
        "  Parsing ../ustacks/sample_ACCCCC.tags.tsv\r\n"
       ]
      },
      {
       "output_type": "stream",
       "stream": "stdout",
       "text": [
        "  Parsing ../ustacks/sample_ACCCCC.snps.tsv\r\n",
        "  Parsing ../ustacks/sample_ACCCCC.alleles.tsv\r\n",
        "Searching for sequence matches...\r\n",
        "  Number of kmers per sequence: 1\r\n",
        "  Miniumum number of k-mers to define a match: 1\r\n"
       ]
      },
      {
       "output_type": "stream",
       "stream": "stdout",
       "text": [
        "  25401 loci in the catalog, 29922 kmers in the catalog hash.\r\n"
       ]
      },
      {
       "output_type": "stream",
       "stream": "stdout",
       "text": [
        "Merging matches into catalog...\r\n",
        "  318 loci matched more than one catalog locus and were excluded.\r\n"
       ]
      },
      {
       "output_type": "stream",
       "stream": "stdout",
       "text": [
        "Processing sample 8\r\n",
        "  Parsing ../ustacks/sample_CAAAAA.tags.tsv\r\n"
       ]
      },
      {
       "output_type": "stream",
       "stream": "stdout",
       "text": [
        "  Parsing ../ustacks/sample_CAAAAA.snps.tsv\r\n",
        "  Parsing ../ustacks/sample_CAAAAA.alleles.tsv\r\n",
        "Searching for sequence matches...\r\n",
        "  Number of kmers per sequence: 1\r\n",
        "  Miniumum number of k-mers to define a match: 1\r\n"
       ]
      },
      {
       "output_type": "stream",
       "stream": "stdout",
       "text": [
        "  26427 loci in the catalog, 31231 kmers in the catalog hash.\r\n",
        "Merging matches into catalog...\r\n"
       ]
      },
      {
       "output_type": "stream",
       "stream": "stdout",
       "text": [
        "  92 loci matched more than one catalog locus and were excluded.\r\n"
       ]
      },
      {
       "output_type": "stream",
       "stream": "stdout",
       "text": [
        "Processing sample 9\r\n",
        "  Parsing ../ustacks/sample_TACACA.tags.tsv\r\n"
       ]
      },
      {
       "output_type": "stream",
       "stream": "stdout",
       "text": [
        "  Parsing ../ustacks/sample_TACACA.snps.tsv\r\n"
       ]
      },
      {
       "output_type": "stream",
       "stream": "stdout",
       "text": [
        "  Parsing ../ustacks/sample_TACACA.alleles.tsv\r\n",
        "Searching for sequence matches...\r\n",
        "  Number of kmers per sequence: 1\r\n",
        "  Miniumum number of k-mers to define a match: 1\r\n"
       ]
      },
      {
       "output_type": "stream",
       "stream": "stdout",
       "text": [
        "  27106 loci in the catalog, 32044 kmers in the catalog hash.\r\n"
       ]
      },
      {
       "output_type": "stream",
       "stream": "stdout",
       "text": [
        "Merging matches into catalog...\r\n"
       ]
      },
      {
       "output_type": "stream",
       "stream": "stdout",
       "text": [
        "  11 loci matched more than one catalog locus and were excluded.\r\n"
       ]
      },
      {
       "output_type": "stream",
       "stream": "stdout",
       "text": [
        "Processing sample 10\r\n",
        "  Parsing ../ustacks/sample_CAGGCA.tags.tsv\r\n"
       ]
      },
      {
       "output_type": "stream",
       "stream": "stdout",
       "text": [
        "  Parsing ../ustacks/sample_CAGGCA.snps.tsv\r\n",
        "  Parsing ../ustacks/sample_CAGGCA.alleles.tsv\r\n",
        "Searching for sequence matches...\r\n",
        "  Number of kmers per sequence: 1\r\n",
        "  Miniumum number of k-mers to define a match: 1\r\n"
       ]
      },
      {
       "output_type": "stream",
       "stream": "stdout",
       "text": [
        "  27481 loci in the catalog, 32481 kmers in the catalog hash.\r\n"
       ]
      },
      {
       "output_type": "stream",
       "stream": "stdout",
       "text": [
        "Merging matches into catalog...\r\n"
       ]
      },
      {
       "output_type": "stream",
       "stream": "stdout",
       "text": [
        "  165 loci matched more than one catalog locus and were excluded.\r\n"
       ]
      },
      {
       "output_type": "stream",
       "stream": "stdout",
       "text": [
        "Writing catalog...\r\n"
       ]
      }
     ],
     "prompt_number": 24
    },
    {
     "cell_type": "heading",
     "level": 2,
     "metadata": {},
     "source": [
      "SSTACKS"
     ]
    },
    {
     "cell_type": "markdown",
     "metadata": {},
     "source": [
      "sstacks compares each file with the catalogs. Again this is used for comparing progeny to parents but we'll compare each sample to the population catalog."
     ]
    },
    {
     "cell_type": "code",
     "collapsed": false,
     "input": [
      "!sstacks -b 1 -c ../ustacks/batch_1 -s ../ustacks/sample_CACCTC -o ../ustacks -p 15"
     ],
     "language": "python",
     "metadata": {},
     "outputs": [
      {
       "output_type": "stream",
       "stream": "stdout",
       "text": [
        "  Parsing ../ustacks/batch_1.catalog.tags.tsv\r\n"
       ]
      },
      {
       "output_type": "stream",
       "stream": "stdout",
       "text": [
        "  Parsing ../ustacks/batch_1.catalog.snps.tsv\r\n"
       ]
      },
      {
       "output_type": "stream",
       "stream": "stdout",
       "text": [
        "  Parsing ../ustacks/batch_1.catalog.alleles.tsv\r\n"
       ]
      },
      {
       "output_type": "stream",
       "stream": "stdout",
       "text": [
        "  Parsing ../ustacks/sample_CACCTC.tags.tsv\r\n"
       ]
      },
      {
       "output_type": "stream",
       "stream": "stdout",
       "text": [
        "  Parsing ../ustacks/sample_CACCTC.snps.tsv\r\n",
        "  Parsing ../ustacks/sample_CACCTC.alleles.tsv\r\n"
       ]
      },
      {
       "output_type": "stream",
       "stream": "stdout",
       "text": [
        "Searching for sequence matches...\r\n"
       ]
      },
      {
       "output_type": "stream",
       "stream": "stdout",
       "text": [
        "7498"
       ]
      },
      {
       "output_type": "stream",
       "stream": "stdout",
       "text": [
        " stacks compared against the catalog containing 28771 loci.\r\n",
        "  7498 matching loci, 4 contained no verified haplotypes.\r\n",
        "  4 loci matched more than one catalog locus and were excluded.\r\n",
        "  0 loci contained SNPs unaccounted for in the catalog and were excluded.\r\n",
        "  8274 total haplotypes examined from matching loci, 8265 verified.\r\n",
        "Outputing to file ../ustacks/sample_CACCTC.matches.tsv\r\n"
       ]
      }
     ],
     "prompt_number": 25
    },
    {
     "cell_type": "code",
     "collapsed": false,
     "input": [
      "!sstacks -b 1 -c ../ustacks/batch_1 -s ../ustacks/sample_CCCTAA -o ../ustacks -p 15"
     ],
     "language": "python",
     "metadata": {},
     "outputs": [
      {
       "output_type": "stream",
       "stream": "stdout",
       "text": [
        "  Parsing ../ustacks/batch_1.catalog.tags.tsv\r\n"
       ]
      },
      {
       "output_type": "stream",
       "stream": "stdout",
       "text": [
        "  Parsing ../ustacks/batch_1.catalog.snps.tsv\r\n",
        "  Parsing ../ustacks/batch_1.catalog.alleles.tsv\r\n"
       ]
      },
      {
       "output_type": "stream",
       "stream": "stdout",
       "text": [
        "  Parsing ../ustacks/sample_CCCTAA.tags.tsv\r\n"
       ]
      },
      {
       "output_type": "stream",
       "stream": "stdout",
       "text": [
        "  Parsing ../ustacks/sample_CCCTAA.snps.tsv\r\n",
        "  Parsing ../ustacks/sample_CCCTAA.alleles.tsv\r\n"
       ]
      },
      {
       "output_type": "stream",
       "stream": "stdout",
       "text": [
        "Searching for sequence matches...\r\n"
       ]
      },
      {
       "output_type": "stream",
       "stream": "stdout",
       "text": [
        "9721 stacks compared against the catalog containing 28771 loci.\r\n",
        "  9721 matching loci, 11 contained no verified haplotypes.\r\n",
        "  11 loci matched more than one catalog locus and were excluded.\r\n",
        "  0 loci contained SNPs unaccounted for in the catalog and were excluded.\r\n",
        "  10873 total haplotypes examined from matching loci, 10849 verified.\r\n",
        "Outputing to file ../ustacks/sample_CCCTAA.matches.tsv\r\n"
       ]
      }
     ],
     "prompt_number": 26
    },
    {
     "cell_type": "code",
     "collapsed": false,
     "input": [
      "!sstacks -b 1 -c ../ustacks/batch_1 -s ../ustacks/sample_GCTCAA -o ../ustacks -p 15"
     ],
     "language": "python",
     "metadata": {},
     "outputs": [
      {
       "output_type": "stream",
       "stream": "stdout",
       "text": [
        "  Parsing ../ustacks/batch_1.catalog.tags.tsv\r\n"
       ]
      },
      {
       "output_type": "stream",
       "stream": "stdout",
       "text": [
        "  Parsing ../ustacks/batch_1.catalog.snps.tsv\r\n"
       ]
      },
      {
       "output_type": "stream",
       "stream": "stdout",
       "text": [
        "  Parsing ../ustacks/batch_1.catalog.alleles.tsv\r\n"
       ]
      },
      {
       "output_type": "stream",
       "stream": "stdout",
       "text": [
        "  Parsing ../ustacks/sample_GCTCAA.tags.tsv\r\n"
       ]
      },
      {
       "output_type": "stream",
       "stream": "stdout",
       "text": [
        "  Parsing ../ustacks/sample_GCTCAA.snps.tsv\r\n",
        "  Parsing ../ustacks/sample_GCTCAA.alleles.tsv\r\n"
       ]
      },
      {
       "output_type": "stream",
       "stream": "stdout",
       "text": [
        "Searching for sequence matches...\r\n"
       ]
      },
      {
       "output_type": "stream",
       "stream": "stdout",
       "text": [
        "10983 stacks compared against the catalog containing 28771 loci.\r\n",
        "  10983 matching loci, 113 contained no verified haplotypes.\r\n",
        "  113 loci matched more than one catalog locus and were excluded.\r\n",
        "  0 loci contained SNPs unaccounted for in the catalog and were excluded.\r\n",
        "  12330 total haplotypes examined from matching loci, 12094 verified.\r\n"
       ]
      },
      {
       "output_type": "stream",
       "stream": "stdout",
       "text": [
        "Outputing to file ../ustacks/sample_GCTCAA.matches.tsv\r\n"
       ]
      }
     ],
     "prompt_number": 27
    },
    {
     "cell_type": "code",
     "collapsed": false,
     "input": [
      "!sstacks -b 1 -c ../ustacks/batch_1 -s ../ustacks/sample_GTGTAA -o ../ustacks -p 15"
     ],
     "language": "python",
     "metadata": {},
     "outputs": [
      {
       "output_type": "stream",
       "stream": "stdout",
       "text": [
        "  Parsing ../ustacks/batch_1.catalog.tags.tsv\r\n"
       ]
      },
      {
       "output_type": "stream",
       "stream": "stdout",
       "text": [
        "  Parsing ../ustacks/batch_1.catalog.snps.tsv\r\n"
       ]
      },
      {
       "output_type": "stream",
       "stream": "stdout",
       "text": [
        "  Parsing ../ustacks/batch_1.catalog.alleles.tsv\r\n"
       ]
      },
      {
       "output_type": "stream",
       "stream": "stdout",
       "text": [
        "  Parsing ../ustacks/sample_GTGTAA.tags.tsv\r\n"
       ]
      },
      {
       "output_type": "stream",
       "stream": "stdout",
       "text": [
        "  Parsing ../ustacks/sample_GTGTAA.snps.tsv\r\n",
        "  Parsing ../ustacks/sample_GTGTAA.alleles.tsv\r\n",
        "Searching for sequence matches...\r\n"
       ]
      },
      {
       "output_type": "stream",
       "stream": "stdout",
       "text": [
        "11200 stacks compared against the catalog containing 28771 loci.\r\n",
        "  11200 matching loci, 222 contained no verified haplotypes.\r\n",
        "  222 loci matched more than one catalog locus and were excluded.\r\n",
        "  0 loci contained SNPs unaccounted for in the catalog and were excluded.\r\n",
        "  12608 total haplotypes examined from matching loci, 12133 verified.\r\n",
        "Outputing to file ../ustacks/sample_GTGTAA.matches.tsv\r\n"
       ]
      }
     ],
     "prompt_number": 28
    },
    {
     "cell_type": "code",
     "collapsed": false,
     "input": [
      "!sstacks -b 1 -c ../ustacks/batch_1 -s ../ustacks/sample_ACATAC -o ../ustacks -p 15"
     ],
     "language": "python",
     "metadata": {},
     "outputs": [
      {
       "output_type": "stream",
       "stream": "stdout",
       "text": [
        "  Parsing ../ustacks/batch_1.catalog.tags.tsv\r\n"
       ]
      },
      {
       "output_type": "stream",
       "stream": "stdout",
       "text": [
        "  Parsing ../ustacks/batch_1.catalog.snps.tsv\r\n"
       ]
      },
      {
       "output_type": "stream",
       "stream": "stdout",
       "text": [
        "  Parsing ../ustacks/batch_1.catalog.alleles.tsv\r\n"
       ]
      },
      {
       "output_type": "stream",
       "stream": "stdout",
       "text": [
        "  Parsing ../ustacks/sample_ACATAC.tags.tsv\r\n"
       ]
      },
      {
       "output_type": "stream",
       "stream": "stdout",
       "text": [
        "  Parsing ../ustacks/sample_ACATAC.snps.tsv\r\n"
       ]
      },
      {
       "output_type": "stream",
       "stream": "stdout",
       "text": [
        "  Parsing ../ustacks/sample_ACATAC.alleles.tsv\r\n",
        "Searching for sequence matches...\r\n"
       ]
      },
      {
       "output_type": "stream",
       "stream": "stdout",
       "text": [
        "11884 stacks compared against the catalog containing 28771 loci.\r\n",
        "  11884 matching loci, 232 contained no verified haplotypes.\r\n",
        "  232 loci matched more than one catalog locus and were excluded.\r\n",
        "  0 loci contained SNPs unaccounted for in the catalog and were excluded.\r\n",
        "  13346 total haplotypes examined from matching loci, 12858 verified.\r\n"
       ]
      },
      {
       "output_type": "stream",
       "stream": "stdout",
       "text": [
        "Outputing to file ../ustacks/sample_ACATAC.matches.tsv\r\n"
       ]
      }
     ],
     "prompt_number": 29
    },
    {
     "cell_type": "code",
     "collapsed": false,
     "input": [
      "!sstacks -b 1 -c ../ustacks/batch_1 -s ../ustacks/sample_ACCATG -o ../ustacks -p 15"
     ],
     "language": "python",
     "metadata": {},
     "outputs": [
      {
       "output_type": "stream",
       "stream": "stdout",
       "text": [
        "  Parsing ../ustacks/batch_1.catalog.tags.tsv\r\n"
       ]
      },
      {
       "output_type": "stream",
       "stream": "stdout",
       "text": [
        "  Parsing ../ustacks/batch_1.catalog.snps.tsv\r\n"
       ]
      },
      {
       "output_type": "stream",
       "stream": "stdout",
       "text": [
        "  Parsing ../ustacks/batch_1.catalog.alleles.tsv\r\n"
       ]
      },
      {
       "output_type": "stream",
       "stream": "stdout",
       "text": [
        "  Parsing ../ustacks/sample_ACCATG.tags.tsv\r\n"
       ]
      },
      {
       "output_type": "stream",
       "stream": "stdout",
       "text": [
        "  Parsing ../ustacks/sample_ACCATG.snps.tsv\r\n",
        "  Parsing ../ustacks/sample_ACCATG.alleles.tsv\r\n",
        "Searching for sequence matches...\r\n"
       ]
      },
      {
       "output_type": "stream",
       "stream": "stdout",
       "text": [
        "11123 stacks compared against the catalog containing 28771 loci.\r\n",
        "  11123 matching loci, 266 contained no verified haplotypes.\r\n",
        "  266 loci matched more than one catalog locus and were excluded.\r\n",
        "  0 loci contained SNPs unaccounted for in the catalog and were excluded.\r\n",
        "  12517 total haplotypes examined from matching loci, 11963 verified.\r\n",
        "Outputing to file ../ustacks/sample_ACCATG.matches.tsv\r\n"
       ]
      }
     ],
     "prompt_number": 30
    },
    {
     "cell_type": "code",
     "collapsed": false,
     "input": [
      "!sstacks -b 1 -c ../ustacks/batch_1 -s ../ustacks/sample_ACCCCC -o ../ustacks -p 15"
     ],
     "language": "python",
     "metadata": {},
     "outputs": [
      {
       "output_type": "stream",
       "stream": "stdout",
       "text": [
        "  Parsing ../ustacks/batch_1.catalog.tags.tsv\r\n"
       ]
      },
      {
       "output_type": "stream",
       "stream": "stdout",
       "text": [
        "  Parsing ../ustacks/batch_1.catalog.snps.tsv\r\n",
        "  Parsing ../ustacks/batch_1.catalog.alleles.tsv\r\n"
       ]
      },
      {
       "output_type": "stream",
       "stream": "stdout",
       "text": [
        "  Parsing ../ustacks/sample_ACCCCC.tags.tsv\r\n"
       ]
      },
      {
       "output_type": "stream",
       "stream": "stdout",
       "text": [
        "  Parsing ../ustacks/sample_ACCCCC.snps.tsv\r\n",
        "  Parsing ../ustacks/sample_ACCCCC.alleles.tsv\r\n"
       ]
      },
      {
       "output_type": "stream",
       "stream": "stdout",
       "text": [
        "Searching for sequence matches...\r\n"
       ]
      },
      {
       "output_type": "stream",
       "stream": "stdout",
       "text": [
        "10873 stacks compared against the catalog containing 28771 loci.\r\n",
        "  10873 matching loci, 318 contained no verified haplotypes.\r\n",
        "  318 loci matched more than one catalog locus and were excluded.\r\n",
        "  0 loci contained SNPs unaccounted for in the catalog and were excluded.\r\n",
        "  12278 total haplotypes examined from matching loci, 11617 verified.\r\n"
       ]
      },
      {
       "output_type": "stream",
       "stream": "stdout",
       "text": [
        "Outputing to file ../ustacks/sample_ACCCCC.matches.tsv\r\n"
       ]
      }
     ],
     "prompt_number": 31
    },
    {
     "cell_type": "code",
     "collapsed": false,
     "input": [
      "!sstacks -b 1 -c ../ustacks/batch_1 -s ../ustacks/sample_CAAAAA -o ../ustacks -p 15"
     ],
     "language": "python",
     "metadata": {},
     "outputs": [
      {
       "output_type": "stream",
       "stream": "stdout",
       "text": [
        "  Parsing ../ustacks/batch_1.catalog.tags.tsv\r\n"
       ]
      },
      {
       "output_type": "stream",
       "stream": "stdout",
       "text": [
        "  Parsing ../ustacks/batch_1.catalog.snps.tsv\r\n"
       ]
      },
      {
       "output_type": "stream",
       "stream": "stdout",
       "text": [
        "  Parsing ../ustacks/batch_1.catalog.alleles.tsv\r\n"
       ]
      },
      {
       "output_type": "stream",
       "stream": "stdout",
       "text": [
        "  Parsing ../ustacks/sample_CAAAAA.tags.tsv\r\n"
       ]
      },
      {
       "output_type": "stream",
       "stream": "stdout",
       "text": [
        "  Parsing ../ustacks/sample_CAAAAA.snps.tsv\r\n",
        "  Parsing ../ustacks/sample_CAAAAA.alleles.tsv\r\n",
        "Searching for sequence matches...\r\n"
       ]
      },
      {
       "output_type": "stream",
       "stream": "stdout",
       "text": [
        "5135 stacks compared against the catalog containing 28771 loci.\r\n",
        "  5135 matching loci, 94 contained no verified haplotypes.\r\n",
        "  94 loci matched more than one catalog locus and were excluded.\r\n",
        "  0 loci contained SNPs unaccounted for in the catalog and were excluded.\r\n",
        "  5575 total haplotypes examined from matching loci, 5383 verified.\r\n",
        "Outputing to file ../ustacks/sample_CAAAAA.matches.tsv\r\n"
       ]
      }
     ],
     "prompt_number": 32
    },
    {
     "cell_type": "code",
     "collapsed": false,
     "input": [
      "!sstacks -b 1 -c ../ustacks/batch_1 -s ../ustacks/sample_TACACA -o ../ustacks -p 15"
     ],
     "language": "python",
     "metadata": {},
     "outputs": [
      {
       "output_type": "stream",
       "stream": "stdout",
       "text": [
        "  Parsing ../ustacks/batch_1.catalog.tags.tsv\r\n"
       ]
      },
      {
       "output_type": "stream",
       "stream": "stdout",
       "text": [
        "  Parsing ../ustacks/batch_1.catalog.snps.tsv\r\n"
       ]
      },
      {
       "output_type": "stream",
       "stream": "stdout",
       "text": [
        "  Parsing ../ustacks/batch_1.catalog.alleles.tsv\r\n"
       ]
      },
      {
       "output_type": "stream",
       "stream": "stdout",
       "text": [
        "  Parsing ../ustacks/sample_TACACA.tags.tsv\r\n"
       ]
      },
      {
       "output_type": "stream",
       "stream": "stdout",
       "text": [
        "  Parsing ../ustacks/sample_TACACA.snps.tsv\r\n",
        "  Parsing ../ustacks/sample_TACACA.alleles.tsv\r\n",
        "Searching for sequence matches...\r\n"
       ]
      },
      {
       "output_type": "stream",
       "stream": "stdout",
       "text": [
        "821 stacks compared against the catalog containing 28771 loci.\r\n",
        "  821 matching loci, 11 contained no verified haplotypes.\r\n",
        "  11 loci matched more than one catalog locus and were excluded.\r\n",
        "  0 loci contained SNPs unaccounted for in the catalog and were excluded.\r\n",
        "  905 total haplotypes examined from matching loci, 882 verified.\r\n",
        "Outputing to file ../ustacks/sample_TACACA.matches.tsv\r\n"
       ]
      }
     ],
     "prompt_number": 33
    },
    {
     "cell_type": "code",
     "collapsed": false,
     "input": [
      "!sstacks -b 1 -c ../ustacks/batch_1 -s ../ustacks/sample_CAGGCA -o ../ustacks -p 15"
     ],
     "language": "python",
     "metadata": {},
     "outputs": [
      {
       "output_type": "stream",
       "stream": "stdout",
       "text": [
        "  Parsing ../ustacks/batch_1.catalog.tags.tsv\r\n"
       ]
      },
      {
       "output_type": "stream",
       "stream": "stdout",
       "text": [
        "  Parsing ../ustacks/batch_1.catalog.snps.tsv\r\n"
       ]
      },
      {
       "output_type": "stream",
       "stream": "stdout",
       "text": [
        "  Parsing ../ustacks/batch_1.catalog.alleles.tsv\r\n"
       ]
      },
      {
       "output_type": "stream",
       "stream": "stdout",
       "text": [
        "  Parsing ../ustacks/sample_CAGGCA.tags.tsv\r\n"
       ]
      },
      {
       "output_type": "stream",
       "stream": "stdout",
       "text": [
        "  Parsing ../ustacks/sample_CAGGCA.snps.tsv\r\n",
        "  Parsing ../ustacks/sample_CAGGCA.alleles.tsv\r\n",
        "Searching for sequence matches...\r\n"
       ]
      },
      {
       "output_type": "stream",
       "stream": "stdout",
       "text": [
        "7367 stacks compared against the catalog containing 28771 loci.\r\n",
        "  7367 matching loci, 165 contained no verified haplotypes.\r\n",
        "  165 loci matched more than one catalog locus and were excluded.\r\n",
        "  0 loci contained SNPs unaccounted for in the catalog and were excluded.\r\n",
        "  8170 total haplotypes examined from matching loci, 7830 verified.\r\n",
        "Outputing to file ../ustacks/sample_CAGGCA.matches.tsv\r\n"
       ]
      }
     ],
     "prompt_number": 34
    }
   ],
   "metadata": {}
  }
 ]
}