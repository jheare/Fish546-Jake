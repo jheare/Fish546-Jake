{
 "metadata": {
  "name": "",
  "signature": "sha256:bb8c1d0b7ab9cc6932d66964530818e016ad825462b17f13f5a7f9bff6c8c1a3"
 },
 "nbformat": 3,
 "nbformat_minor": 0,
 "worksheets": [
  {
   "cells": [
    {
     "cell_type": "heading",
     "level": 1,
     "metadata": {},
     "source": [
      "Processing RADtags"
     ]
    },
    {
     "cell_type": "markdown",
     "metadata": {},
     "source": [
      "Today I'm processing RAD tags using the program STACKS v1.?. First I need to access the gzipped RAD sequence files on Owl. Prior to this I mounted Owl in a new volume called srlabOwl. This volume should be accessible to anyone using the srlab account on Hummingbird. From there I need to change my directory to view the contained files in the O_lurida directory workspace."
     ]
    },
    {
     "cell_type": "heading",
     "level": 2,
     "metadata": {},
     "source": [
      "Accessing RADseq Files"
     ]
    },
    {
     "cell_type": "code",
     "collapsed": false,
     "input": [
      "cd /Volumes/srlabOwl/O_lurida"
     ],
     "language": "python",
     "metadata": {},
     "outputs": [
      {
       "output_type": "stream",
       "stream": "stdout",
       "text": [
        "/Volumes/srlabOwl/O_lurida\n"
       ]
      }
     ],
     "prompt_number": 2
    },
    {
     "cell_type": "markdown",
     "metadata": {},
     "source": [
      "After changing directories I then view the contents of the directory to see which files are the desired ones for process."
     ]
    },
    {
     "cell_type": "code",
     "collapsed": false,
     "input": [
      "ls"
     ],
     "language": "python",
     "metadata": {},
     "outputs": [
      {
       "output_type": "stream",
       "stream": "stdout",
       "text": [
        "\u001b[31mchecksums.md5\u001b[m\u001b[m*\r\n",
        "\u001b[31mfiltered_1000_GTGAAA_L004_R1.fastq.gz\u001b[m\u001b[m*\r\n",
        "\u001b[31mfiltered_106A_Female_Mix_GATCAG_L004_R1.fastq.gz\u001b[m\u001b[m*\r\n",
        "\u001b[31mfiltered_106A_Female_Mix_GATCAG_L004_R2.fastq.gz\u001b[m\u001b[m*\r\n",
        "\u001b[31mfiltered_106A_Female_Mix_GATCAG_L007_R1.fastq.gz\u001b[m\u001b[m*\r\n",
        "\u001b[31mfiltered_106A_Male_Mix_TAGCTT_L004_R1.fastq.gz\u001b[m\u001b[m*\r\n",
        "\u001b[31mfiltered_106A_Male_Mix_TAGCTT_L004_R2.fastq.gz\u001b[m\u001b[m*\r\n",
        "\u001b[31mfiltered_106A_Male_Mix_TAGCTT_L007_R1.fastq.gz\u001b[m\u001b[m*\r\n",
        "\u001b[31mfiltered_108A_Female_Mix_GGCTAC_L004_R1.fastq.gz\u001b[m\u001b[m*\r\n",
        "\u001b[31mfiltered_108A_Female_Mix_GGCTAC_L004_R2.fastq.gz\u001b[m\u001b[m*\r\n",
        "\u001b[31mfiltered_108A_Female_Mix_GGCTAC_L007_R1.fastq.gz\u001b[m\u001b[m*\r\n",
        "\u001b[31mfiltered_108A_Male_Mix_AGTCAA_L004_R1.fastq.gz\u001b[m\u001b[m*\r\n",
        "\u001b[31mfiltered_108A_Male_Mix_AGTCAA_L004_R2.fastq.gz\u001b[m\u001b[m*\r\n",
        "\u001b[31mfiltered_108A_Male_Mix_AGTCAA_L007_R1.fastq.gz\u001b[m\u001b[m*\r\n",
        "\u001b[31mfiltered_1600_GTGGCC_L004_R1.fastq.gz\u001b[m\u001b[m*\r\n",
        "\u001b[31mfiltered_2000_NoIndex_L007_R1.fastq.gz\u001b[m\u001b[m*\r\n",
        "\u001b[31mfiltered_2200_GTTTCG_L004_R1.fastq.gz\u001b[m\u001b[m*\r\n",
        "\u001b[31mfiltered_400_GTCCGC_L004_R1.fastq.gz\u001b[m\u001b[m*\r\n",
        "\u001b[31mfiltered_400_NoIndex_L006_R1.fastq.gz\u001b[m\u001b[m*\r\n",
        "lane1_NoIndex_L001_R1_001.fastq.gz\r\n",
        "lane1_NoIndex_L001_R1_002.fastq.gz\r\n",
        "lane1_NoIndex_L001_R1_003.fastq.gz\r\n",
        "lane1_NoIndex_L001_R1_004.fastq.gz\r\n",
        "lane1_NoIndex_L001_R1_005.fastq.gz\r\n",
        "lane1_NoIndex_L001_R1_006.fastq.gz\r\n",
        "lane1_NoIndex_L001_R1_007.fastq.gz\r\n",
        "lane1_NoIndex_L001_R1_008.fastq.gz\r\n",
        "lane1_NoIndex_L001_R1_009.fastq.gz\r\n",
        "lane1_NoIndex_L001_R1_010.fastq.gz\r\n",
        "lane1_NoIndex_L001_R1_011.fastq.gz\r\n",
        "lane1_NoIndex_L001_R1_012.fastq.gz\r\n",
        "lane1_NoIndex_L001_R1_013.fastq.gz\r\n",
        "lane1_NoIndex_L001_R1_014.fastq.gz\r\n",
        "\u001b[31mm130619_081336_42134_c100525122550000001823081109281326_s1_p0.bas.h5.gz\u001b[m\u001b[m*\r\n"
       ]
      }
     ],
     "prompt_number": 3
    },
    {
     "cell_type": "markdown",
     "metadata": {},
     "source": [
      "I must gunzip all the lane1 files. Owl is a read only directory so I have to gunzip the documents to a new directory for Lane1 rad seq reads in Hummingbird. Using the code below I have gunzipped the files into the appropriate directory. Warning this takes a few minutes so be patient. I need to learn a good loop for doing this as I tried one but it kept returning an ambiguous error."
     ]
    },
    {
     "cell_type": "code",
     "collapsed": false,
     "input": [
      "!gunzip -c lane1_NoIndex_L001_R1_001.fastq.gz > /Volumes/Hummingbird/Users/srlab/lane1rad/lane1_NoIndex_L001_R1_001.fastq"
     ],
     "language": "python",
     "metadata": {},
     "outputs": [],
     "prompt_number": 28
    },
    {
     "cell_type": "code",
     "collapsed": false,
     "input": [
      "!gunzip -c lane1_NoIndex_L001_R1_002.fastq.gz > /Volumes/Hummingbird/Users/srlab/lane1rad/lane1_NoIndex_L001_R1_002.fastq"
     ],
     "language": "python",
     "metadata": {},
     "outputs": [],
     "prompt_number": 29
    },
    {
     "cell_type": "code",
     "collapsed": false,
     "input": [
      "!gunzip -c lane1_NoIndex_L001_R1_003.fastq.gz > /Volumes/Hummingbird/Users/srlab/lane1rad/lane1_NoIndex_L001_R1_003.fastq"
     ],
     "language": "python",
     "metadata": {},
     "outputs": [],
     "prompt_number": 30
    },
    {
     "cell_type": "code",
     "collapsed": false,
     "input": [
      "!gunzip -c lane1_NoIndex_L001_R1_004.fastq.gz > /Volumes/Hummingbird/Users/srlab/lane1rad/lane1_NoIndex_L001_R1_004.fastq"
     ],
     "language": "python",
     "metadata": {},
     "outputs": [],
     "prompt_number": 31
    },
    {
     "cell_type": "code",
     "collapsed": false,
     "input": [
      "!gunzip -c lane1_NoIndex_L001_R1_005.fastq.gz > /Volumes/Hummingbird/Users/srlab/lane1rad/lane1_NoIndex_L001_R1_005.fastq"
     ],
     "language": "python",
     "metadata": {},
     "outputs": [],
     "prompt_number": 32
    },
    {
     "cell_type": "code",
     "collapsed": false,
     "input": [
      "!gunzip -c lane1_NoIndex_L001_R1_006.fastq.gz > /Volumes/Hummingbird/Users/srlab/lane1rad/lane1_NoIndex_L001_R1_006.fastq"
     ],
     "language": "python",
     "metadata": {},
     "outputs": [],
     "prompt_number": 33
    },
    {
     "cell_type": "code",
     "collapsed": false,
     "input": [
      "!gunzip -c lane1_NoIndex_L001_R1_007.fastq.gz > /Volumes/Hummingbird/Users/srlab/lane1rad/lane1_NoIndex_L001_R1_007.fastq"
     ],
     "language": "python",
     "metadata": {},
     "outputs": [],
     "prompt_number": 34
    },
    {
     "cell_type": "code",
     "collapsed": false,
     "input": [
      "!gunzip -c lane1_NoIndex_L001_R1_008.fastq.gz > /Volumes/Hummingbird/Users/srlab/lane1rad/lane1_NoIndex_L001_R1_008.fastq"
     ],
     "language": "python",
     "metadata": {},
     "outputs": [],
     "prompt_number": 35
    },
    {
     "cell_type": "code",
     "collapsed": false,
     "input": [
      "!gunzip -c lane1_NoIndex_L001_R1_009.fastq.gz > /Volumes/Hummingbird/Users/srlab/lane1rad/lane1_NoIndex_L001_R1_009.fastq"
     ],
     "language": "python",
     "metadata": {},
     "outputs": [],
     "prompt_number": 36
    },
    {
     "cell_type": "code",
     "collapsed": false,
     "input": [
      "!gunzip -c lane1_NoIndex_L001_R1_010.fastq.gz > /Volumes/Hummingbird/Users/srlab/lane1rad/lane1_NoIndex_L001_R1_010.fastq"
     ],
     "language": "python",
     "metadata": {},
     "outputs": [],
     "prompt_number": 4
    },
    {
     "cell_type": "code",
     "collapsed": false,
     "input": [
      "!gunzip -c lane1_NoIndex_L001_R1_011.fastq.gz > /Volumes/Hummingbird/Users/srlab/lane1rad/lane1_NoIndex_L001_R1_011.fastq"
     ],
     "language": "python",
     "metadata": {},
     "outputs": [],
     "prompt_number": 5
    },
    {
     "cell_type": "code",
     "collapsed": false,
     "input": [
      "!gunzip -c lane1_NoIndex_L001_R1_012.fastq.gz > /Volumes/Hummingbird/Users/srlab/lane1rad/lane1_NoIndex_L001_R1_012.fastq"
     ],
     "language": "python",
     "metadata": {},
     "outputs": [],
     "prompt_number": 6
    },
    {
     "cell_type": "code",
     "collapsed": false,
     "input": [
      "!gunzip -c lane1_NoIndex_L001_R1_013.fastq.gz > /Volumes/Hummingbird/Users/srlab/lane1rad/lane1_NoIndex_L001_R1_013.fastq"
     ],
     "language": "python",
     "metadata": {},
     "outputs": [],
     "prompt_number": 7
    },
    {
     "cell_type": "code",
     "collapsed": false,
     "input": [
      "!gunzip -c lane1_NoIndex_L001_R1_014.fastq.gz > /Volumes/Hummingbird/Users/srlab/lane1rad/lane1_NoIndex_L001_R1_014.fastq"
     ],
     "language": "python",
     "metadata": {},
     "outputs": [],
     "prompt_number": 8
    },
    {
     "cell_type": "markdown",
     "metadata": {},
     "source": [
      "Now I need to to check the directoy in Hummingbird to see if the file gunzipped correctly. I change directories again and then list all of the files within the directory to confirm."
     ]
    },
    {
     "cell_type": "code",
     "collapsed": false,
     "input": [
      "cd /Volumes/Hummingbird/Users/srlab/lane1rad"
     ],
     "language": "python",
     "metadata": {},
     "outputs": [
      {
       "output_type": "stream",
       "stream": "stdout",
       "text": [
        "/Users/srlab/lane1rad\n"
       ]
      }
     ],
     "prompt_number": 9
    },
    {
     "cell_type": "code",
     "collapsed": false,
     "input": [
      "ls"
     ],
     "language": "python",
     "metadata": {},
     "outputs": [
      {
       "output_type": "stream",
       "stream": "stdout",
       "text": [
        "lane1_NoIndex_L001_R1_001.fastq  lane1_NoIndex_L001_R1_008.fastq\r\n",
        "lane1_NoIndex_L001_R1_002.fastq  lane1_NoIndex_L001_R1_009.fastq\r\n",
        "lane1_NoIndex_L001_R1_003.fastq  lane1_NoIndex_L001_R1_010.fastq\r\n",
        "lane1_NoIndex_L001_R1_004.fastq  lane1_NoIndex_L001_R1_011.fastq\r\n",
        "lane1_NoIndex_L001_R1_005.fastq  lane1_NoIndex_L001_R1_012.fastq\r\n",
        "lane1_NoIndex_L001_R1_006.fastq  lane1_NoIndex_L001_R1_013.fastq\r\n",
        "lane1_NoIndex_L001_R1_007.fastq  lane1_NoIndex_L001_R1_014.fastq\r\n"
       ]
      }
     ],
     "prompt_number": 10
    },
    {
     "cell_type": "markdown",
     "metadata": {},
     "source": [
      "I change directories one more time to my repository workspace for the project. This is the directory where I will run any analysis for the project. It gives me a clear easy way to document where I put my files and a backup in case I screw something up. "
     ]
    },
    {
     "cell_type": "heading",
     "level": 2,
     "metadata": {},
     "source": [
      "process radtags Program"
     ]
    },
    {
     "cell_type": "code",
     "collapsed": false,
     "input": [
      "cd ../"
     ],
     "language": "python",
     "metadata": {},
     "outputs": [
      {
       "output_type": "stream",
       "stream": "stdout",
       "text": [
        "/Users/srlab/Fish546-Jake\n"
       ]
      }
     ],
     "prompt_number": 1
    },
    {
     "cell_type": "code",
     "collapsed": false,
     "input": [
      "!cat ./data/decradbarcodes1.txt | cut -c 2- > ./data/barcode_nospace.txt"
     ],
     "language": "python",
     "metadata": {},
     "outputs": [],
     "prompt_number": 3
    },
    {
     "cell_type": "code",
     "collapsed": false,
     "input": [
      "!head ./data/barcode_nospace.txt"
     ],
     "language": "python",
     "metadata": {},
     "outputs": [
      {
       "output_type": "stream",
       "stream": "stdout",
       "text": [
        "AACGG\tHL01\r\n",
        "ACGTT\tHL09\r\n",
        "ACTGA\tHL17\r\n",
        "AGACG\tHL25\r\n",
        "AGCTA\tNF01\r\n",
        "ATATC\tNF09\r\n",
        "ATGAG\tNF17\r\n",
        "CAAGA\tNF25\r\n",
        "CAGCG\tSN01\r\n",
        "CATAC\tSN09\r\n"
       ]
      }
     ],
     "prompt_number": 4
    },
    {
     "cell_type": "markdown",
     "metadata": {},
     "source": [
      "Finally after all that work, I can now run process_radtags. This program is a part of stacks used for demultiplexing rad sequence data using pre determined barcodes. These barcodes will identify which sequence came from which individual processed. \n",
      "\n",
      "Each part below has a specific use though I'm not 100% familiar what all of them do. !process_radtags starts the program. -p ../lane1rad tells which directory to read. -o ./samples/ tells where the output file should go. -b ./data/decradbarcodes1.csv tells the program which file contains the barcodes used and where its at. -e sbfI tells the program what restriction enzyme I used to chop up the DNA. -r rescues barcodes and RAD-tags, - c cleans the data removing any uncalled bases, -q discards reads with low quality scores, and -i tells the program what file type the data is in. "
     ]
    },
    {
     "cell_type": "code",
     "collapsed": false,
     "input": [
      "!process_radtags -p ../lane1rad -o ../samples/ -b ./data/barcodenew2.txt -e sbfI -r -c -q -i fastq"
     ],
     "language": "python",
     "metadata": {},
     "outputs": [
      {
       "output_type": "stream",
       "stream": "stdout",
       "text": [
        "Using Phred+33 encoding for quality scores.\r\n",
        "Found 14 input file(s).\r\n",
        "Searching for single-end, inlined barcodes.\r\n",
        "Invalid barcode: 'AAACGG'\r\n"
       ]
      }
     ],
     "prompt_number": 8
    },
    {
     "cell_type": "heading",
     "level": 2,
     "metadata": {},
     "source": [
      "Findings"
     ]
    },
    {
     "cell_type": "markdown",
     "metadata": {},
     "source": [
      "As you can see there were 222.1 million sequence reads but only about 15.3 million of them were high enough quality with unambiguous barcodes and RAD-tags. So only 6.89% of the total number of reads were any good from this run. I'm not familiar with the process to know if this is good or bad, though I've heard that on average 15-20% is expected.  "
     ]
    },
    {
     "cell_type": "code",
     "collapsed": false,
     "input": [
      "!head -10 ../samples/process_radtags.log"
     ],
     "language": "python",
     "metadata": {},
     "outputs": [
      {
       "output_type": "stream",
       "stream": "stdout",
       "text": [
        "process_radtags -p ../lane1rad -o ../samples/ -b ./data/decradbarcodes5.txt -e sbfI -r -c -q -i fastq\r\n",
        "process_radtags executed 2015-02-03 17:10:41\r\n",
        "\r\n",
        "File\tRetained Reads\tLow Quality\tAmbiguous Barcodes\tAmbiguous RAD-Tag\tTotal\r\n",
        "lane1_NoIndex_L001_R1_001.fastq\t1058753\t293307\t7909635\t6738305\t16000000\r\n",
        "lane1_NoIndex_L001_R1_002.fastq\t1087791\t269179\t7891081\t6751949\t16000000\r\n",
        "lane1_NoIndex_L001_R1_003.fastq\t1065960\t285280\t7912577\t6736183\t16000000\r\n",
        "lane1_NoIndex_L001_R1_004.fastq\t1088605\t263354\t7905417\t6742624\t16000000\r\n",
        "lane1_NoIndex_L001_R1_005.fastq\t1096018\t260183\t7900613\t6743186\t16000000\r\n",
        "lane1_NoIndex_L001_R1_006.fastq\t1103156\t250731\t7911241\t6734872\t16000000\r\n"
       ]
      }
     ],
     "prompt_number": 16
    },
    {
     "cell_type": "code",
     "collapsed": false,
     "input": [
      "#You can view the log for the process radtags log below\n",
      "from IPython.display import FileLink\n",
      "FileLink('./data/process_radtags.log')"
     ],
     "language": "python",
     "metadata": {},
     "outputs": [
      {
       "html": [
        "<a href='./data/process_radtags.log' target='_blank'>./data/process_radtags.log</a><br>"
       ],
       "metadata": {},
       "output_type": "pyout",
       "prompt_number": 4,
       "text": [
        "/Users/srlab/Fish546-Jake/data/process_radtags.log"
       ]
      }
     ],
     "prompt_number": 4
    },
    {
     "cell_type": "code",
     "collapsed": false,
     "input": [
      "cd ../samples"
     ],
     "language": "python",
     "metadata": {},
     "outputs": [
      {
       "output_type": "stream",
       "stream": "stdout",
       "text": [
        "/Users/srlab/samples\n"
       ]
      }
     ],
     "prompt_number": 17
    },
    {
     "cell_type": "code",
     "collapsed": false,
     "input": [
      "ls"
     ],
     "language": "python",
     "metadata": {},
     "outputs": [
      {
       "output_type": "stream",
       "stream": "stdout",
       "text": [
        "process_radtags.log  sample_CCCTAA.fq     sample_GGTTTG.fq\r\n",
        "sample_AAACGG.fq     sample_CCGAGG.fq     sample_GTAAGT.fq\r\n",
        "sample_AACGTT.fq     sample_CCGCAT.fq     sample_GTATCC.fq\r\n",
        "sample_AACTGA.fq     sample_CCTAAC.fq     sample_GTCATC.fq\r\n",
        "sample_AAGACG.fq     sample_CGAGGC.fq     sample_GTGCCT.fq\r\n",
        "sample_AAGCTA.fq     sample_CGCAGA.fq     sample_GTGTAA.fq\r\n",
        "sample_AATATC.fq     sample_CGCGTG.fq     sample_GTTGGA.fq\r\n",
        "sample_AATGAG.fq     sample_CGGTCC.fq     sample_TAAGCT.fq\r\n",
        "sample_ACAAGA.fq     sample_CGTCTA.fq     sample_TAATTC.fq\r\n",
        "sample_ACAGCG.fq     sample_CGTGAT.fq     sample_TACACA.fq\r\n",
        "sample_ACATAC.fq     sample_CTACAG.fq     sample_TACGGG.fq\r\n",
        "sample_ACCATG.fq     sample_CTCGCC.fq     sample_TAGTAT.fq\r\n",
        "sample_ACCCCC.fq     sample_CTGCGA.fq     sample_TATCAC.fq\r\n",
        "sample_ACTCTT.fq     sample_CTGGTT.fq     sample_TCAAAG.fq\r\n",
        "sample_ACTGGC.fq     sample_CTTATG.fq     sample_TCCTGC.fq\r\n",
        "sample_AGCCAT.fq     sample_CTTTGC.fq     sample_TCGATT.fq\r\n",
        "sample_AGCGCA.fq     sample_GAAATG.fq     sample_TCGCCA.fq\r\n",
        "sample_AGGGTC.fq     sample_GAACCA.fq     sample_TCGGAC.fq\r\n",
        "sample_AGGTGT.fq     sample_GACGAC.fq     sample_TCTCGG.fq\r\n",
        "sample_AGTAGG.fq     sample_GACTCT.fq     sample_TCTTCT.fq\r\n",
        "sample_AGTTAA.fq     sample_GAGAGA.fq     sample_TGAACC.fq\r\n",
        "sample_ATAGTA.fq     sample_GATCGT.fq     sample_TGACAA.fq\r\n",
        "sample_ATCAAA.fq     sample_GCAGAT.fq     sample_TGCCCG.fq\r\n",
        "sample_ATGCAC.fq     sample_GCATGG.fq     sample_TGCTTA.fq\r\n",
        "sample_ATGTTG.fq     sample_GCCGTA.fq     sample_TGGGGA.fq\r\n",
        "sample_ATTCCG.fq     sample_GCGACC.fq     sample_TTATGA.fq\r\n",
        "sample_CAAAAA.fq     sample_GCGCTG.fq     sample_TTCCGT.fq\r\n",
        "sample_CAATCG.fq     sample_GCTCAA.fq     sample_TTCTAG.fq\r\n",
        "sample_CACCTC.fq     sample_GGACTT.fq     sample_TTGAGC.fq\r\n",
        "sample_CAGGCA.fq     sample_GGCAAG.fq     sample_TTTAAT.fq\r\n",
        "sample_CATACT.fq     sample_GGGCGC.fq     sample_TTTGTC.fq\r\n",
        "sample_CCATTT.fq     sample_GGGGCG.fq\r\n",
        "sample_CCCGGT.fq     sample_GGTACA.fq\r\n"
       ]
      }
     ],
     "prompt_number": 18
    }
   ],
   "metadata": {}
  }
 ]
}
