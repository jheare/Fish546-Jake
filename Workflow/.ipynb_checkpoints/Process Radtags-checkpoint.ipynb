{
 "metadata": {
  "name": "",
  "signature": "sha256:b0c601bb27d5248ec5dbf5fe805036d25ca4ac93c39ab0ebcb2a4fa38c3304d0"
 },
 "nbformat": 3,
 "nbformat_minor": 0,
 "worksheets": [
  {
   "cells": [
    {
     "cell_type": "heading",
     "level": 1,
     "metadata": {},
     "source": [
      "Processing RADtags"
     ]
    },
    {
     "cell_type": "markdown",
     "metadata": {},
     "source": [
      "Today I'm processing RAD tags using the program STACKS v1.?. First I need to access the gzipped RAD sequence files on Owl. Prior to this I mounted Owl in a new volume called srlabOwl. This volume should be accessible to anyone using the srlab account on Hummingbird. From there I need to change my directory to view the contained files in the O_lurida directory workspace."
     ]
    },
    {
     "cell_type": "heading",
     "level": 2,
     "metadata": {},
     "source": [
      "Accessing RADseq Files"
     ]
    },
    {
     "cell_type": "code",
     "collapsed": false,
     "input": [
      "cd /Volumes/srlabOwl/O_lurida"
     ],
     "language": "python",
     "metadata": {},
     "outputs": [
      {
       "output_type": "stream",
       "stream": "stdout",
       "text": [
        "/Volumes/srlabOwl/O_lurida\n"
       ]
      }
     ],
     "prompt_number": 2
    },
    {
     "cell_type": "markdown",
     "metadata": {},
     "source": [
      "After changing directories I then view the contents of the directory to see which files are the desired ones for process."
     ]
    },
    {
     "cell_type": "markdown",
     "metadata": {},
     "source": [
      "I must gunzip all the lane1 files. Owl is a read only directory so I have to gunzip the documents to a new directory for Lane1 rad seq reads in Hummingbird. Using the code below I have gunzipped the files into the appropriate directory. Warning this takes a few minutes so be patient. I need to learn a good loop for doing this as I tried one but it kept returning an ambiguous error."
     ]
    },
    {
     "cell_type": "code",
     "collapsed": false,
     "input": [
      "!gunzip -c lane1_NoIndex_L001_R1_001.fastq.gz > /Volumes/Hummingbird/Users/srlab/lane1rad/lane1_NoIndex_L001_R1_001.fastq"
     ],
     "language": "python",
     "metadata": {},
     "outputs": [],
     "prompt_number": 28
    },
    {
     "cell_type": "code",
     "collapsed": false,
     "input": [
      "!gunzip -c lane1_NoIndex_L001_R1_002.fastq.gz > /Volumes/Hummingbird/Users/srlab/lane1rad/lane1_NoIndex_L001_R1_002.fastq"
     ],
     "language": "python",
     "metadata": {},
     "outputs": [],
     "prompt_number": 29
    },
    {
     "cell_type": "code",
     "collapsed": false,
     "input": [
      "!gunzip -c lane1_NoIndex_L001_R1_003.fastq.gz > /Volumes/Hummingbird/Users/srlab/lane1rad/lane1_NoIndex_L001_R1_003.fastq"
     ],
     "language": "python",
     "metadata": {},
     "outputs": [],
     "prompt_number": 30
    },
    {
     "cell_type": "code",
     "collapsed": false,
     "input": [
      "!gunzip -c lane1_NoIndex_L001_R1_004.fastq.gz > /Volumes/Hummingbird/Users/srlab/lane1rad/lane1_NoIndex_L001_R1_004.fastq"
     ],
     "language": "python",
     "metadata": {},
     "outputs": [],
     "prompt_number": 31
    },
    {
     "cell_type": "code",
     "collapsed": false,
     "input": [
      "!gunzip -c lane1_NoIndex_L001_R1_005.fastq.gz > /Volumes/Hummingbird/Users/srlab/lane1rad/lane1_NoIndex_L001_R1_005.fastq"
     ],
     "language": "python",
     "metadata": {},
     "outputs": [],
     "prompt_number": 32
    },
    {
     "cell_type": "code",
     "collapsed": false,
     "input": [
      "!gunzip -c lane1_NoIndex_L001_R1_006.fastq.gz > /Volumes/Hummingbird/Users/srlab/lane1rad/lane1_NoIndex_L001_R1_006.fastq"
     ],
     "language": "python",
     "metadata": {},
     "outputs": [],
     "prompt_number": 33
    },
    {
     "cell_type": "code",
     "collapsed": false,
     "input": [
      "!gunzip -c lane1_NoIndex_L001_R1_007.fastq.gz > /Volumes/Hummingbird/Users/srlab/lane1rad/lane1_NoIndex_L001_R1_007.fastq"
     ],
     "language": "python",
     "metadata": {},
     "outputs": [],
     "prompt_number": 34
    },
    {
     "cell_type": "code",
     "collapsed": false,
     "input": [
      "!gunzip -c lane1_NoIndex_L001_R1_008.fastq.gz > /Volumes/Hummingbird/Users/srlab/lane1rad/lane1_NoIndex_L001_R1_008.fastq"
     ],
     "language": "python",
     "metadata": {},
     "outputs": [],
     "prompt_number": 35
    },
    {
     "cell_type": "code",
     "collapsed": false,
     "input": [
      "!gunzip -c lane1_NoIndex_L001_R1_009.fastq.gz > /Volumes/Hummingbird/Users/srlab/lane1rad/lane1_NoIndex_L001_R1_009.fastq"
     ],
     "language": "python",
     "metadata": {},
     "outputs": [],
     "prompt_number": 36
    },
    {
     "cell_type": "code",
     "collapsed": false,
     "input": [
      "!gunzip -c lane1_NoIndex_L001_R1_010.fastq.gz > /Volumes/Hummingbird/Users/srlab/lane1rad/lane1_NoIndex_L001_R1_010.fastq"
     ],
     "language": "python",
     "metadata": {},
     "outputs": [],
     "prompt_number": 4
    },
    {
     "cell_type": "code",
     "collapsed": false,
     "input": [
      "!gunzip -c lane1_NoIndex_L001_R1_011.fastq.gz > /Volumes/Hummingbird/Users/srlab/lane1rad/lane1_NoIndex_L001_R1_011.fastq"
     ],
     "language": "python",
     "metadata": {},
     "outputs": [],
     "prompt_number": 5
    },
    {
     "cell_type": "code",
     "collapsed": false,
     "input": [
      "!gunzip -c lane1_NoIndex_L001_R1_012.fastq.gz > /Volumes/Hummingbird/Users/srlab/lane1rad/lane1_NoIndex_L001_R1_012.fastq"
     ],
     "language": "python",
     "metadata": {},
     "outputs": [],
     "prompt_number": 6
    },
    {
     "cell_type": "code",
     "collapsed": false,
     "input": [
      "!gunzip -c lane1_NoIndex_L001_R1_013.fastq.gz > /Volumes/Hummingbird/Users/srlab/lane1rad/lane1_NoIndex_L001_R1_013.fastq"
     ],
     "language": "python",
     "metadata": {},
     "outputs": [],
     "prompt_number": 7
    },
    {
     "cell_type": "code",
     "collapsed": false,
     "input": [
      "!gunzip -c lane1_NoIndex_L001_R1_014.fastq.gz > /Volumes/Hummingbird/Users/srlab/lane1rad/lane1_NoIndex_L001_R1_014.fastq"
     ],
     "language": "python",
     "metadata": {},
     "outputs": [],
     "prompt_number": 8
    },
    {
     "cell_type": "markdown",
     "metadata": {},
     "source": [
      "Now I need to to check the directoy in Hummingbird to see if the file gunzipped correctly. I change directories again and then list all of the files within the directory to confirm."
     ]
    },
    {
     "cell_type": "code",
     "collapsed": false,
     "input": [
      "cd /Volumes/Hummingbird/Users/srlab/lane1rad"
     ],
     "language": "python",
     "metadata": {},
     "outputs": [
      {
       "output_type": "stream",
       "stream": "stdout",
       "text": [
        "/Users/srlab/lane1rad\n"
       ]
      }
     ],
     "prompt_number": 9
    },
    {
     "cell_type": "markdown",
     "metadata": {},
     "source": [
      "I change directories one more time to my repository workspace for the project. This is the directory where I will run any analysis for the project. It gives me a clear easy way to document where I put my files and a backup in case I screw something up. "
     ]
    },
    {
     "cell_type": "heading",
     "level": 2,
     "metadata": {},
     "source": [
      "process radtags Program"
     ]
    },
    {
     "cell_type": "code",
     "collapsed": false,
     "input": [
      "cd ../"
     ],
     "language": "python",
     "metadata": {},
     "outputs": [
      {
       "output_type": "stream",
       "stream": "stdout",
       "text": [
        "/Users/srlab/Fish546-Jake\n"
       ]
      }
     ],
     "prompt_number": 5
    },
    {
     "cell_type": "markdown",
     "metadata": {},
     "source": [
      "Finally after all that work, I can now run process_radtags. This program is a part of stacks used for demultiplexing rad sequence data using pre determined barcodes. These barcodes will identify which sequence came from which individual processed. \n",
      "\n",
      "Each part below has a specific use though I'm not 100% familiar what all of them do. !process_radtags starts the program. -p ../lane1rad tells which directory to read. -o ./samples/ tells where the output file should go. -b ./data/decradbarcodes1.csv tells the program which file contains the barcodes used and where its at. -e sbfI tells the program what restriction enzyme I used to chop up the DNA. -r rescues barcodes and RAD-tags, - c cleans the data removing any uncalled bases, -q discards reads with low quality scores, and -i tells the program what file type the data is in. "
     ]
    },
    {
     "cell_type": "code",
     "collapsed": false,
     "input": [
      "!process_radtags -p /Volumes/Data/Jake/lane1rad -o ../samples/ -b ./data/decradbarcodes1.csv -e sbfI -r -c -q -i fastq"
     ],
     "language": "python",
     "metadata": {},
     "outputs": [
      {
       "output_type": "stream",
       "stream": "stdout",
       "text": [
        "Using Phred+33 encoding for quality scores.\r\n",
        "Found 9 input file(s).\r\n",
        "Searching for single-end, inlined barcodes.\r\n"
       ]
      },
      {
       "output_type": "stream",
       "stream": "stdout",
       "text": [
        "Loaded 96 barcodes (6bp).\r\n"
       ]
      },
      {
       "output_type": "stream",
       "stream": "stdout",
       "text": [
        "Processing file 1 of 9 [lane1_NoIndex_L001_R1_001.fastq]\r\n"
       ]
      },
      {
       "output_type": "stream",
       "stream": "stdout",
       "text": [
        "  Processing RAD-Tag 10000       \r"
       ]
      },
      {
       "output_type": "stream",
       "stream": "stdout",
       "text": [
        "  Processing RAD-Tag 20000       \r"
       ]
      },
      {
       "output_type": "stream",
       "stream": "stdout",
       "text": [
        "  Processing RAD-Tag 30000       \r"
       ]
      },
      {
       "output_type": "stream",
       "stream": "stdout",
       "text": [
        "  Processing RAD-Tag 40000       \r"
       ]
      },
      {
       "output_type": "stream",
       "stream": "stdout",
       "text": [
        "  Processing RAD-Tag 50000       \r"
       ]
      },
      {
       "output_type": "stream",
       "stream": "stdout",
       "text": [
        "  Processing RAD-Tag 60000       \r"
       ]
      },
      {
       "output_type": "stream",
       "stream": "stdout",
       "text": [
        "  Processing RAD-Tag 70000       \r"
       ]
      },
      {
       "output_type": "stream",
       "stream": "stdout",
       "text": [
        "  Processing RAD-Tag 80000       \r"
       ]
      },
      {
       "output_type": "stream",
       "stream": "stdout",
       "text": [
        "  Processing RAD-Tag 90000       \r"
       ]
      },
      {
       "output_type": "stream",
       "stream": "stdout",
       "text": [
        "  Processing RAD-Tag 100000       \r"
       ]
      },
      {
       "output_type": "stream",
       "stream": "stdout",
       "text": [
        "  Processing RAD-Tag 110000       \r"
       ]
      },
      {
       "output_type": "stream",
       "stream": "stdout",
       "text": [
        "  Processing RAD-Tag 120000       \r"
       ]
      },
      {
       "output_type": "stream",
       "stream": "stdout",
       "text": [
        "  Processing RAD-Tag 130000       \r"
       ]
      },
      {
       "output_type": "stream",
       "stream": "stdout",
       "text": [
        "  Processing RAD-Tag 140000       \r"
       ]
      },
      {
       "output_type": "stream",
       "stream": "stdout",
       "text": [
        "  Processing RAD-Tag 150000       \r"
       ]
      },
      {
       "output_type": "stream",
       "stream": "stdout",
       "text": [
        "  Processing RAD-Tag 160000       \r"
       ]
      },
      {
       "output_type": "stream",
       "stream": "stdout",
       "text": [
        "  Processing RAD-Tag 170000       \r"
       ]
      },
      {
       "output_type": "stream",
       "stream": "stdout",
       "text": [
        "  Processing RAD-Tag 180000       \r"
       ]
      },
      {
       "output_type": "stream",
       "stream": "stdout",
       "text": [
        "  Processing RAD-Tag 190000       \r"
       ]
      },
      {
       "output_type": "stream",
       "stream": "stdout",
       "text": [
        "  Processing RAD-Tag 200000       \r"
       ]
      },
      {
       "output_type": "stream",
       "stream": "stdout",
       "text": [
        "  Processing RAD-Tag 210000       \r"
       ]
      },
      {
       "output_type": "stream",
       "stream": "stdout",
       "text": [
        "  Processing RAD-Tag 220000       \r"
       ]
      },
      {
       "output_type": "stream",
       "stream": "stdout",
       "text": [
        "  Processing RAD-Tag 230000       \r"
       ]
      },
      {
       "output_type": "stream",
       "stream": "stdout",
       "text": [
        "  Processing RAD-Tag 240000       \r"
       ]
      },
      {
       "output_type": "stream",
       "stream": "stdout",
       "text": [
        "  Processing RAD-Tag 250000       \r"
       ]
      },
      {
       "output_type": "stream",
       "stream": "stdout",
       "text": [
        "  Processing RAD-Tag 260000       \r"
       ]
      },
      {
       "output_type": "stream",
       "stream": "stdout",
       "text": [
        "  Processing RAD-Tag 270000       \r"
       ]
      },
      {
       "output_type": "stream",
       "stream": "stdout",
       "text": [
        "  Processing RAD-Tag 280000       \r"
       ]
      },
      {
       "output_type": "stream",
       "stream": "stdout",
       "text": [
        "  Processing RAD-Tag 290000       \r"
       ]
      },
      {
       "output_type": "stream",
       "stream": "stdout",
       "text": [
        "  Processing RAD-Tag 300000       \r"
       ]
      },
      {
       "output_type": "stream",
       "stream": "stdout",
       "text": [
        "  Processing RAD-Tag 310000       \r"
       ]
      },
      {
       "output_type": "stream",
       "stream": "stdout",
       "text": [
        "  Processing RAD-Tag 320000       \r"
       ]
      },
      {
       "output_type": "stream",
       "stream": "stdout",
       "text": [
        "  Processing RAD-Tag 330000       \r"
       ]
      },
      {
       "output_type": "stream",
       "stream": "stdout",
       "text": [
        "  Processing RAD-Tag 340000       \r"
       ]
      },
      {
       "output_type": "stream",
       "stream": "stdout",
       "text": [
        "  Processing RAD-Tag 350000       \r"
       ]
      },
      {
       "output_type": "stream",
       "stream": "stdout",
       "text": [
        "  Processing RAD-Tag 360000       \r"
       ]
      },
      {
       "output_type": "stream",
       "stream": "stdout",
       "text": [
        "  Processing RAD-Tag 370000       \r"
       ]
      },
      {
       "output_type": "stream",
       "stream": "stdout",
       "text": [
        "  Processing RAD-Tag 380000       \r"
       ]
      },
      {
       "output_type": "stream",
       "stream": "stdout",
       "text": [
        "  Processing RAD-Tag 390000       \r"
       ]
      },
      {
       "output_type": "stream",
       "stream": "stdout",
       "text": [
        "  Processing RAD-Tag 400000       \r"
       ]
      },
      {
       "output_type": "stream",
       "stream": "stdout",
       "text": [
        "  Processing RAD-Tag 410000       \r"
       ]
      },
      {
       "output_type": "stream",
       "stream": "stdout",
       "text": [
        "  Processing RAD-Tag 420000       \r"
       ]
      },
      {
       "output_type": "stream",
       "stream": "stdout",
       "text": [
        "  Processing RAD-Tag 430000       \r"
       ]
      },
      {
       "output_type": "stream",
       "stream": "stdout",
       "text": [
        "  Processing RAD-Tag 440000       \r"
       ]
      },
      {
       "output_type": "stream",
       "stream": "stdout",
       "text": [
        "  Processing RAD-Tag 450000       \r"
       ]
      },
      {
       "output_type": "stream",
       "stream": "stdout",
       "text": [
        "  Processing RAD-Tag 460000       \r"
       ]
      },
      {
       "output_type": "stream",
       "stream": "stdout",
       "text": [
        "  Processing RAD-Tag 470000       \r"
       ]
      },
      {
       "output_type": "stream",
       "stream": "stdout",
       "text": [
        "  Processing RAD-Tag 480000       \r"
       ]
      },
      {
       "output_type": "stream",
       "stream": "stdout",
       "text": [
        "  Processing RAD-Tag 490000       \r"
       ]
      },
      {
       "output_type": "stream",
       "stream": "stdout",
       "text": [
        "  Processing RAD-Tag 500000       \r"
       ]
      },
      {
       "output_type": "stream",
       "stream": "stdout",
       "text": [
        "  Processing RAD-Tag 510000       \r"
       ]
      },
      {
       "output_type": "stream",
       "stream": "stdout",
       "text": [
        "  Processing RAD-Tag 520000       \r"
       ]
      },
      {
       "output_type": "stream",
       "stream": "stdout",
       "text": [
        "  Processing RAD-Tag 530000       \r"
       ]
      },
      {
       "output_type": "stream",
       "stream": "stdout",
       "text": [
        "  Processing RAD-Tag 540000       \r"
       ]
      },
      {
       "output_type": "stream",
       "stream": "stdout",
       "text": [
        "  Processing RAD-Tag 550000       \r"
       ]
      },
      {
       "output_type": "stream",
       "stream": "stdout",
       "text": [
        "  Processing RAD-Tag 560000       \r"
       ]
      },
      {
       "output_type": "stream",
       "stream": "stdout",
       "text": [
        "  Processing RAD-Tag 570000       \r"
       ]
      },
      {
       "output_type": "stream",
       "stream": "stdout",
       "text": [
        "  Processing RAD-Tag 580000       \r"
       ]
      },
      {
       "output_type": "stream",
       "stream": "stdout",
       "text": [
        "  Processing RAD-Tag 590000       \r"
       ]
      },
      {
       "output_type": "stream",
       "stream": "stdout",
       "text": [
        "  Processing RAD-Tag 600000       \r"
       ]
      },
      {
       "output_type": "stream",
       "stream": "stdout",
       "text": [
        "  Processing RAD-Tag 610000       \r"
       ]
      },
      {
       "output_type": "stream",
       "stream": "stdout",
       "text": [
        "  Processing RAD-Tag 620000       \r"
       ]
      },
      {
       "output_type": "stream",
       "stream": "stdout",
       "text": [
        "  Processing RAD-Tag 630000       \r"
       ]
      },
      {
       "output_type": "stream",
       "stream": "stdout",
       "text": [
        "  Processing RAD-Tag 640000       \r"
       ]
      },
      {
       "output_type": "stream",
       "stream": "stdout",
       "text": [
        "  Processing RAD-Tag 650000       \r"
       ]
      },
      {
       "output_type": "stream",
       "stream": "stdout",
       "text": [
        "  Processing RAD-Tag 660000       \r"
       ]
      },
      {
       "output_type": "stream",
       "stream": "stdout",
       "text": [
        "  Processing RAD-Tag 670000       \r"
       ]
      },
      {
       "output_type": "stream",
       "stream": "stdout",
       "text": [
        "  Processing RAD-Tag 680000       \r"
       ]
      },
      {
       "output_type": "stream",
       "stream": "stdout",
       "text": [
        "  Processing RAD-Tag 690000       \r"
       ]
      },
      {
       "output_type": "stream",
       "stream": "stdout",
       "text": [
        "  Processing RAD-Tag 700000       \r"
       ]
      },
      {
       "output_type": "stream",
       "stream": "stdout",
       "text": [
        "  Processing RAD-Tag 710000       \r"
       ]
      },
      {
       "output_type": "stream",
       "stream": "stdout",
       "text": [
        "  Processing RAD-Tag 720000       \r"
       ]
      },
      {
       "output_type": "stream",
       "stream": "stdout",
       "text": [
        "  Processing RAD-Tag 730000       \r"
       ]
      },
      {
       "output_type": "stream",
       "stream": "stdout",
       "text": [
        "  Processing RAD-Tag 740000       \r"
       ]
      },
      {
       "output_type": "stream",
       "stream": "stdout",
       "text": [
        "  Processing RAD-Tag 750000       \r"
       ]
      },
      {
       "output_type": "stream",
       "stream": "stdout",
       "text": [
        "  Processing RAD-Tag 760000       \r"
       ]
      },
      {
       "output_type": "stream",
       "stream": "stdout",
       "text": [
        "  Processing RAD-Tag 770000       \r"
       ]
      },
      {
       "output_type": "stream",
       "stream": "stdout",
       "text": [
        "  Processing RAD-Tag 780000       \r"
       ]
      },
      {
       "output_type": "stream",
       "stream": "stdout",
       "text": [
        "  Processing RAD-Tag 790000       \r"
       ]
      },
      {
       "output_type": "stream",
       "stream": "stdout",
       "text": [
        "  Processing RAD-Tag 800000       \r"
       ]
      },
      {
       "output_type": "stream",
       "stream": "stdout",
       "text": [
        "  Processing RAD-Tag 810000       \r"
       ]
      },
      {
       "output_type": "stream",
       "stream": "stdout",
       "text": [
        "  Processing RAD-Tag 820000       \r"
       ]
      },
      {
       "output_type": "stream",
       "stream": "stdout",
       "text": [
        "  Processing RAD-Tag 830000       \r"
       ]
      },
      {
       "output_type": "stream",
       "stream": "stdout",
       "text": [
        "  Processing RAD-Tag 840000       \r"
       ]
      },
      {
       "output_type": "stream",
       "stream": "stdout",
       "text": [
        "  Processing RAD-Tag 850000       \r"
       ]
      },
      {
       "output_type": "stream",
       "stream": "stdout",
       "text": [
        "  Processing RAD-Tag 860000       \r"
       ]
      },
      {
       "output_type": "stream",
       "stream": "stdout",
       "text": [
        "  Processing RAD-Tag 870000       \r"
       ]
      },
      {
       "output_type": "stream",
       "stream": "stdout",
       "text": [
        "  Processing RAD-Tag 880000       \r"
       ]
      },
      {
       "output_type": "stream",
       "stream": "stdout",
       "text": [
        "  Processing RAD-Tag 890000       \r"
       ]
      },
      {
       "output_type": "stream",
       "stream": "stdout",
       "text": [
        "  Processing RAD-Tag 900000       \r"
       ]
      },
      {
       "output_type": "stream",
       "stream": "stdout",
       "text": [
        "  Processing RAD-Tag 910000       \r"
       ]
      },
      {
       "output_type": "stream",
       "stream": "stdout",
       "text": [
        "  Processing RAD-Tag 920000       \r"
       ]
      },
      {
       "output_type": "stream",
       "stream": "stdout",
       "text": [
        "  Processing RAD-Tag 930000       \r"
       ]
      },
      {
       "output_type": "stream",
       "stream": "stdout",
       "text": [
        "  Processing RAD-Tag 940000       \r"
       ]
      },
      {
       "output_type": "stream",
       "stream": "stdout",
       "text": [
        "  Processing RAD-Tag 950000       \r"
       ]
      },
      {
       "output_type": "stream",
       "stream": "stdout",
       "text": [
        "  Processing RAD-Tag 960000       \r"
       ]
      },
      {
       "output_type": "stream",
       "stream": "stdout",
       "text": [
        "  Processing RAD-Tag 970000       \r"
       ]
      },
      {
       "output_type": "stream",
       "stream": "stdout",
       "text": [
        "  Processing RAD-Tag 980000       \r"
       ]
      },
      {
       "output_type": "stream",
       "stream": "stdout",
       "text": [
        "  Processing RAD-Tag 990000       \r"
       ]
      },
      {
       "output_type": "stream",
       "stream": "stdout",
       "text": [
        "  Processing RAD-Tag 1000000       \r"
       ]
      },
      {
       "output_type": "stream",
       "stream": "stdout",
       "text": [
        "  Processing RAD-Tag 1010000       \r"
       ]
      },
      {
       "output_type": "stream",
       "stream": "stdout",
       "text": [
        "  Processing RAD-Tag 1020000       \r"
       ]
      },
      {
       "output_type": "stream",
       "stream": "stdout",
       "text": [
        "  Processing RAD-Tag 1030000       \r"
       ]
      },
      {
       "output_type": "stream",
       "stream": "stdout",
       "text": [
        "  Processing RAD-Tag 1040000       \r"
       ]
      },
      {
       "output_type": "stream",
       "stream": "stdout",
       "text": [
        "  Processing RAD-Tag 1050000       \r"
       ]
      },
      {
       "output_type": "stream",
       "stream": "stdout",
       "text": [
        "  Processing RAD-Tag 1060000       \r"
       ]
      },
      {
       "output_type": "stream",
       "stream": "stdout",
       "text": [
        "  Processing RAD-Tag 1070000       \r"
       ]
      },
      {
       "output_type": "stream",
       "stream": "stdout",
       "text": [
        "  Processing RAD-Tag 1080000       \r"
       ]
      },
      {
       "output_type": "stream",
       "stream": "stdout",
       "text": [
        "  Processing RAD-Tag 1090000       \r"
       ]
      },
      {
       "output_type": "stream",
       "stream": "stdout",
       "text": [
        "  Processing RAD-Tag 1100000       \r"
       ]
      },
      {
       "output_type": "stream",
       "stream": "stdout",
       "text": [
        "  Processing RAD-Tag 1110000       \r"
       ]
      },
      {
       "output_type": "stream",
       "stream": "stdout",
       "text": [
        "  Processing RAD-Tag 1120000       \r"
       ]
      },
      {
       "output_type": "stream",
       "stream": "stdout",
       "text": [
        "  Processing RAD-Tag 1130000       \r"
       ]
      },
      {
       "output_type": "stream",
       "stream": "stdout",
       "text": [
        "  Processing RAD-Tag 1140000       \r"
       ]
      },
      {
       "output_type": "stream",
       "stream": "stdout",
       "text": [
        "  Processing RAD-Tag 1150000       \r"
       ]
      },
      {
       "output_type": "stream",
       "stream": "stdout",
       "text": [
        "  Processing RAD-Tag 1160000       \r"
       ]
      },
      {
       "output_type": "stream",
       "stream": "stdout",
       "text": [
        "  Processing RAD-Tag 1170000       \r"
       ]
      },
      {
       "output_type": "stream",
       "stream": "stdout",
       "text": [
        "  Processing RAD-Tag 1180000       \r"
       ]
      },
      {
       "output_type": "stream",
       "stream": "stdout",
       "text": [
        "  Processing RAD-Tag 1190000       \r"
       ]
      },
      {
       "output_type": "stream",
       "stream": "stdout",
       "text": [
        "  Processing RAD-Tag 1200000       \r"
       ]
      },
      {
       "output_type": "stream",
       "stream": "stdout",
       "text": [
        "  Processing RAD-Tag 1210000       \r"
       ]
      },
      {
       "output_type": "stream",
       "stream": "stdout",
       "text": [
        "  Processing RAD-Tag 1220000       \r"
       ]
      },
      {
       "output_type": "stream",
       "stream": "stdout",
       "text": [
        "  Processing RAD-Tag 1230000       \r"
       ]
      },
      {
       "output_type": "stream",
       "stream": "stdout",
       "text": [
        "  Processing RAD-Tag 1240000       \r"
       ]
      },
      {
       "output_type": "stream",
       "stream": "stdout",
       "text": [
        "  Processing RAD-Tag 1250000       \r"
       ]
      },
      {
       "output_type": "stream",
       "stream": "stdout",
       "text": [
        "  Processing RAD-Tag 1260000       \r"
       ]
      },
      {
       "output_type": "stream",
       "stream": "stdout",
       "text": [
        "  Processing RAD-Tag 1270000       \r"
       ]
      },
      {
       "output_type": "stream",
       "stream": "stdout",
       "text": [
        "  Processing RAD-Tag 1280000       \r"
       ]
      },
      {
       "output_type": "stream",
       "stream": "stdout",
       "text": [
        "  Processing RAD-Tag 1290000       \r"
       ]
      },
      {
       "output_type": "stream",
       "stream": "stdout",
       "text": [
        "  Processing RAD-Tag 1300000       \r"
       ]
      },
      {
       "output_type": "stream",
       "stream": "stdout",
       "text": [
        "  Processing RAD-Tag 1310000       \r"
       ]
      },
      {
       "output_type": "stream",
       "stream": "stdout",
       "text": [
        "  Processing RAD-Tag 1320000       \r"
       ]
      },
      {
       "output_type": "stream",
       "stream": "stdout",
       "text": [
        "  Processing RAD-Tag 1330000       \r"
       ]
      },
      {
       "output_type": "stream",
       "stream": "stdout",
       "text": [
        "  Processing RAD-Tag 1340000       \r"
       ]
      },
      {
       "output_type": "stream",
       "stream": "stdout",
       "text": [
        "  Processing RAD-Tag 1350000       \r"
       ]
      },
      {
       "output_type": "stream",
       "stream": "stdout",
       "text": [
        "  Processing RAD-Tag 1360000       \r"
       ]
      },
      {
       "output_type": "stream",
       "stream": "stdout",
       "text": [
        "  Processing RAD-Tag 1370000       \r"
       ]
      },
      {
       "output_type": "stream",
       "stream": "stdout",
       "text": [
        "  Processing RAD-Tag 1380000       \r"
       ]
      },
      {
       "output_type": "stream",
       "stream": "stdout",
       "text": [
        "  Processing RAD-Tag 1390000       \r"
       ]
      },
      {
       "output_type": "stream",
       "stream": "stdout",
       "text": [
        "  Processing RAD-Tag 1400000       \r"
       ]
      },
      {
       "output_type": "stream",
       "stream": "stdout",
       "text": [
        "  Processing RAD-Tag 1410000       \r"
       ]
      },
      {
       "output_type": "stream",
       "stream": "stdout",
       "text": [
        "  Processing RAD-Tag 1420000       \r"
       ]
      },
      {
       "output_type": "stream",
       "stream": "stdout",
       "text": [
        "  Processing RAD-Tag 1430000       \r"
       ]
      },
      {
       "output_type": "stream",
       "stream": "stdout",
       "text": [
        "  Processing RAD-Tag 1440000       \r"
       ]
      },
      {
       "output_type": "stream",
       "stream": "stdout",
       "text": [
        "  Processing RAD-Tag 1450000       \r"
       ]
      },
      {
       "output_type": "stream",
       "stream": "stdout",
       "text": [
        "  Processing RAD-Tag 1460000       \r"
       ]
      },
      {
       "output_type": "stream",
       "stream": "stdout",
       "text": [
        "  Processing RAD-Tag 1470000       \r"
       ]
      },
      {
       "output_type": "stream",
       "stream": "stdout",
       "text": [
        "  Processing RAD-Tag 1480000       \r"
       ]
      },
      {
       "output_type": "stream",
       "stream": "stdout",
       "text": [
        "  Processing RAD-Tag 1490000       \r"
       ]
      },
      {
       "output_type": "stream",
       "stream": "stdout",
       "text": [
        "  Processing RAD-Tag 1500000       \r"
       ]
      },
      {
       "output_type": "stream",
       "stream": "stdout",
       "text": [
        "  Processing RAD-Tag 1510000       \r"
       ]
      },
      {
       "output_type": "stream",
       "stream": "stdout",
       "text": [
        "  Processing RAD-Tag 1520000       \r"
       ]
      },
      {
       "output_type": "stream",
       "stream": "stdout",
       "text": [
        "  Processing RAD-Tag 1530000       \r"
       ]
      },
      {
       "output_type": "stream",
       "stream": "stdout",
       "text": [
        "  Processing RAD-Tag 1540000       \r"
       ]
      },
      {
       "output_type": "stream",
       "stream": "stdout",
       "text": [
        "  Processing RAD-Tag 1550000       \r"
       ]
      },
      {
       "output_type": "stream",
       "stream": "stdout",
       "text": [
        "  Processing RAD-Tag 1560000       \r"
       ]
      },
      {
       "output_type": "stream",
       "stream": "stdout",
       "text": [
        "  Processing RAD-Tag 1570000       \r"
       ]
      },
      {
       "output_type": "stream",
       "stream": "stdout",
       "text": [
        "  Processing RAD-Tag 1580000       \r"
       ]
      },
      {
       "output_type": "stream",
       "stream": "stdout",
       "text": [
        "  Processing RAD-Tag 1590000       \r"
       ]
      },
      {
       "output_type": "stream",
       "stream": "stdout",
       "text": [
        "  Processing RAD-Tag 1600000       \r"
       ]
      },
      {
       "output_type": "stream",
       "stream": "stdout",
       "text": [
        "  Processing RAD-Tag 1610000       \r"
       ]
      },
      {
       "output_type": "stream",
       "stream": "stdout",
       "text": [
        "  Processing RAD-Tag 1620000       \r"
       ]
      },
      {
       "output_type": "stream",
       "stream": "stdout",
       "text": [
        "  Processing RAD-Tag 1630000       \r"
       ]
      },
      {
       "output_type": "stream",
       "stream": "stdout",
       "text": [
        "  Processing RAD-Tag 1640000       \r"
       ]
      },
      {
       "output_type": "stream",
       "stream": "stdout",
       "text": [
        "  Processing RAD-Tag 1650000       \r"
       ]
      },
      {
       "output_type": "stream",
       "stream": "stdout",
       "text": [
        "  Processing RAD-Tag 1660000       \r"
       ]
      },
      {
       "output_type": "stream",
       "stream": "stdout",
       "text": [
        "  Processing RAD-Tag 1670000       \r"
       ]
      },
      {
       "output_type": "stream",
       "stream": "stdout",
       "text": [
        "  Processing RAD-Tag 1680000       \r"
       ]
      },
      {
       "output_type": "stream",
       "stream": "stdout",
       "text": [
        "  Processing RAD-Tag 1690000       \r"
       ]
      },
      {
       "output_type": "stream",
       "stream": "stdout",
       "text": [
        "  Processing RAD-Tag 1700000       \r"
       ]
      },
      {
       "output_type": "stream",
       "stream": "stdout",
       "text": [
        "  Processing RAD-Tag 1710000       \r"
       ]
      },
      {
       "output_type": "stream",
       "stream": "stdout",
       "text": [
        "  Processing RAD-Tag 1720000       \r"
       ]
      },
      {
       "output_type": "stream",
       "stream": "stdout",
       "text": [
        "  Processing RAD-Tag 1730000       \r"
       ]
      },
      {
       "output_type": "stream",
       "stream": "stdout",
       "text": [
        "  Processing RAD-Tag 1740000       \r"
       ]
      },
      {
       "output_type": "stream",
       "stream": "stdout",
       "text": [
        "  Processing RAD-Tag 1750000       \r"
       ]
      },
      {
       "output_type": "stream",
       "stream": "stdout",
       "text": [
        "  Processing RAD-Tag 1760000       \r"
       ]
      },
      {
       "output_type": "stream",
       "stream": "stdout",
       "text": [
        "  Processing RAD-Tag 1770000       \r"
       ]
      },
      {
       "output_type": "stream",
       "stream": "stdout",
       "text": [
        "  Processing RAD-Tag 1780000       \r"
       ]
      },
      {
       "output_type": "stream",
       "stream": "stdout",
       "text": [
        "  Processing RAD-Tag 1790000       \r"
       ]
      },
      {
       "output_type": "stream",
       "stream": "stdout",
       "text": [
        "  Processing RAD-Tag 1800000       \r"
       ]
      },
      {
       "output_type": "stream",
       "stream": "stdout",
       "text": [
        "  Processing RAD-Tag 1810000       \r"
       ]
      },
      {
       "output_type": "stream",
       "stream": "stdout",
       "text": [
        "  Processing RAD-Tag 1820000       \r"
       ]
      },
      {
       "output_type": "stream",
       "stream": "stdout",
       "text": [
        "  Processing RAD-Tag 1830000       \r"
       ]
      },
      {
       "output_type": "stream",
       "stream": "stdout",
       "text": [
        "  Processing RAD-Tag 1840000       \r"
       ]
      },
      {
       "output_type": "stream",
       "stream": "stdout",
       "text": [
        "  Processing RAD-Tag 1850000       \r"
       ]
      },
      {
       "output_type": "stream",
       "stream": "stdout",
       "text": [
        "  Processing RAD-Tag 1860000       \r"
       ]
      },
      {
       "output_type": "stream",
       "stream": "stdout",
       "text": [
        "  Processing RAD-Tag 1870000       \r"
       ]
      },
      {
       "output_type": "stream",
       "stream": "stdout",
       "text": [
        "  Processing RAD-Tag 1880000       \r"
       ]
      },
      {
       "output_type": "stream",
       "stream": "stdout",
       "text": [
        "  Processing RAD-Tag 1890000       \r"
       ]
      },
      {
       "output_type": "stream",
       "stream": "stdout",
       "text": [
        "  Processing RAD-Tag 1900000       \r"
       ]
      },
      {
       "output_type": "stream",
       "stream": "stdout",
       "text": [
        "  Processing RAD-Tag 1910000       \r"
       ]
      },
      {
       "output_type": "stream",
       "stream": "stdout",
       "text": [
        "  Processing RAD-Tag 1920000       \r"
       ]
      },
      {
       "output_type": "stream",
       "stream": "stdout",
       "text": [
        "  Processing RAD-Tag 1930000       \r"
       ]
      },
      {
       "output_type": "stream",
       "stream": "stdout",
       "text": [
        "  Processing RAD-Tag 1940000       \r"
       ]
      },
      {
       "output_type": "stream",
       "stream": "stdout",
       "text": [
        "  Processing RAD-Tag 1950000       \r"
       ]
      },
      {
       "output_type": "stream",
       "stream": "stdout",
       "text": [
        "  Processing RAD-Tag 1960000       \r"
       ]
      },
      {
       "output_type": "stream",
       "stream": "stdout",
       "text": [
        "  Processing RAD-Tag 1970000       \r"
       ]
      },
      {
       "output_type": "stream",
       "stream": "stdout",
       "text": [
        "  Processing RAD-Tag 1980000       \r"
       ]
      },
      {
       "output_type": "stream",
       "stream": "stdout",
       "text": [
        "  Processing RAD-Tag 1990000       \r"
       ]
      },
      {
       "output_type": "stream",
       "stream": "stdout",
       "text": [
        "  Processing RAD-Tag 2000000       \r"
       ]
      },
      {
       "output_type": "stream",
       "stream": "stdout",
       "text": [
        "  Processing RAD-Tag 2010000       \r"
       ]
      },
      {
       "output_type": "stream",
       "stream": "stdout",
       "text": [
        "  Processing RAD-Tag 2020000       \r"
       ]
      },
      {
       "output_type": "stream",
       "stream": "stdout",
       "text": [
        "  Processing RAD-Tag 2030000       \r"
       ]
      },
      {
       "output_type": "stream",
       "stream": "stdout",
       "text": [
        "  Processing RAD-Tag 2040000       \r"
       ]
      },
      {
       "output_type": "stream",
       "stream": "stdout",
       "text": [
        "  Processing RAD-Tag 2050000       \r"
       ]
      },
      {
       "output_type": "stream",
       "stream": "stdout",
       "text": [
        "  Processing RAD-Tag 2060000       \r"
       ]
      },
      {
       "output_type": "stream",
       "stream": "stdout",
       "text": [
        "  Processing RAD-Tag 2070000       \r"
       ]
      },
      {
       "output_type": "stream",
       "stream": "stdout",
       "text": [
        "  Processing RAD-Tag 2080000       \r"
       ]
      },
      {
       "output_type": "stream",
       "stream": "stdout",
       "text": [
        "  Processing RAD-Tag 2090000       \r"
       ]
      },
      {
       "output_type": "stream",
       "stream": "stdout",
       "text": [
        "  Processing RAD-Tag 2100000       \r"
       ]
      },
      {
       "output_type": "stream",
       "stream": "stdout",
       "text": [
        "  Processing RAD-Tag 2110000       \r"
       ]
      },
      {
       "output_type": "stream",
       "stream": "stdout",
       "text": [
        "  Processing RAD-Tag 2120000       \r"
       ]
      },
      {
       "output_type": "stream",
       "stream": "stdout",
       "text": [
        "  Processing RAD-Tag 2130000       \r"
       ]
      },
      {
       "output_type": "stream",
       "stream": "stdout",
       "text": [
        "  Processing RAD-Tag 2140000       \r"
       ]
      },
      {
       "output_type": "stream",
       "stream": "stdout",
       "text": [
        "  Processing RAD-Tag 2150000       \r"
       ]
      },
      {
       "output_type": "stream",
       "stream": "stdout",
       "text": [
        "  Processing RAD-Tag 2160000       \r"
       ]
      },
      {
       "output_type": "stream",
       "stream": "stdout",
       "text": [
        "  Processing RAD-Tag 2170000       \r"
       ]
      },
      {
       "output_type": "stream",
       "stream": "stdout",
       "text": [
        "  Processing RAD-Tag 2180000       \r"
       ]
      },
      {
       "output_type": "stream",
       "stream": "stdout",
       "text": [
        "  Processing RAD-Tag 2190000       \r"
       ]
      },
      {
       "output_type": "stream",
       "stream": "stdout",
       "text": [
        "  Processing RAD-Tag 2200000       \r"
       ]
      },
      {
       "output_type": "stream",
       "stream": "stdout",
       "text": [
        "  Processing RAD-Tag 2210000       \r"
       ]
      },
      {
       "output_type": "stream",
       "stream": "stdout",
       "text": [
        "  Processing RAD-Tag 2220000       \r"
       ]
      },
      {
       "output_type": "stream",
       "stream": "stdout",
       "text": [
        "  Processing RAD-Tag 2230000       \r"
       ]
      },
      {
       "output_type": "stream",
       "stream": "stdout",
       "text": [
        "  Processing RAD-Tag 2240000       \r"
       ]
      },
      {
       "output_type": "stream",
       "stream": "stdout",
       "text": [
        "  Processing RAD-Tag 2250000       \r"
       ]
      },
      {
       "output_type": "stream",
       "stream": "stdout",
       "text": [
        "  Processing RAD-Tag 2260000       \r"
       ]
      },
      {
       "output_type": "stream",
       "stream": "stdout",
       "text": [
        "  Processing RAD-Tag 2270000       \r"
       ]
      },
      {
       "output_type": "stream",
       "stream": "stdout",
       "text": [
        "  Processing RAD-Tag 2280000       \r"
       ]
      },
      {
       "output_type": "stream",
       "stream": "stdout",
       "text": [
        "  Processing RAD-Tag 2290000       \r"
       ]
      },
      {
       "output_type": "stream",
       "stream": "stdout",
       "text": [
        "  Processing RAD-Tag 2300000       \r"
       ]
      },
      {
       "output_type": "stream",
       "stream": "stdout",
       "text": [
        "  Processing RAD-Tag 2310000       \r"
       ]
      },
      {
       "output_type": "stream",
       "stream": "stdout",
       "text": [
        "  Processing RAD-Tag 2320000       \r"
       ]
      },
      {
       "output_type": "stream",
       "stream": "stdout",
       "text": [
        "  Processing RAD-Tag 2330000       \r"
       ]
      },
      {
       "output_type": "stream",
       "stream": "stdout",
       "text": [
        "  Processing RAD-Tag 2340000       \r"
       ]
      },
      {
       "output_type": "stream",
       "stream": "stdout",
       "text": [
        "  Processing RAD-Tag 2350000       \r"
       ]
      },
      {
       "output_type": "stream",
       "stream": "stdout",
       "text": [
        "  Processing RAD-Tag 2360000       \r"
       ]
      },
      {
       "output_type": "stream",
       "stream": "stdout",
       "text": [
        "  Processing RAD-Tag 2370000       \r"
       ]
      },
      {
       "output_type": "stream",
       "stream": "stdout",
       "text": [
        "  Processing RAD-Tag 2380000       \r"
       ]
      },
      {
       "output_type": "stream",
       "stream": "stdout",
       "text": [
        "  Processing RAD-Tag 2390000       \r"
       ]
      },
      {
       "output_type": "stream",
       "stream": "stdout",
       "text": [
        "  Processing RAD-Tag 2400000       \r"
       ]
      },
      {
       "output_type": "stream",
       "stream": "stdout",
       "text": [
        "  Processing RAD-Tag 2410000       \r"
       ]
      },
      {
       "output_type": "stream",
       "stream": "stdout",
       "text": [
        "  Processing RAD-Tag 2420000       \r"
       ]
      },
      {
       "output_type": "stream",
       "stream": "stdout",
       "text": [
        "  Processing RAD-Tag 2430000       \r"
       ]
      },
      {
       "output_type": "stream",
       "stream": "stdout",
       "text": [
        "  Processing RAD-Tag 2440000       \r"
       ]
      },
      {
       "output_type": "stream",
       "stream": "stdout",
       "text": [
        "  Processing RAD-Tag 2450000       \r"
       ]
      },
      {
       "output_type": "stream",
       "stream": "stdout",
       "text": [
        "  Processing RAD-Tag 2460000       \r"
       ]
      },
      {
       "output_type": "stream",
       "stream": "stdout",
       "text": [
        "  Processing RAD-Tag 2470000       \r"
       ]
      },
      {
       "output_type": "stream",
       "stream": "stdout",
       "text": [
        "  Processing RAD-Tag 2480000       \r"
       ]
      },
      {
       "output_type": "stream",
       "stream": "stdout",
       "text": [
        "  Processing RAD-Tag 2490000       \r"
       ]
      },
      {
       "output_type": "stream",
       "stream": "stdout",
       "text": [
        "  Processing RAD-Tag 2500000       \r"
       ]
      },
      {
       "output_type": "stream",
       "stream": "stdout",
       "text": [
        "  Processing RAD-Tag 2510000       \r"
       ]
      },
      {
       "output_type": "stream",
       "stream": "stdout",
       "text": [
        "  Processing RAD-Tag 2520000       \r"
       ]
      },
      {
       "output_type": "stream",
       "stream": "stdout",
       "text": [
        "  Processing RAD-Tag 2530000       \r"
       ]
      },
      {
       "output_type": "stream",
       "stream": "stdout",
       "text": [
        "  Processing RAD-Tag 2540000       \r"
       ]
      },
      {
       "output_type": "stream",
       "stream": "stdout",
       "text": [
        "  Processing RAD-Tag 2550000       \r"
       ]
      },
      {
       "output_type": "stream",
       "stream": "stdout",
       "text": [
        "  Processing RAD-Tag 2560000       \r"
       ]
      },
      {
       "output_type": "stream",
       "stream": "stdout",
       "text": [
        "  Processing RAD-Tag 2570000       \r"
       ]
      },
      {
       "output_type": "stream",
       "stream": "stdout",
       "text": [
        "  Processing RAD-Tag 2580000       \r"
       ]
      },
      {
       "output_type": "stream",
       "stream": "stdout",
       "text": [
        "  Processing RAD-Tag 2590000       \r"
       ]
      },
      {
       "output_type": "stream",
       "stream": "stdout",
       "text": [
        "  Processing RAD-Tag 2600000       \r"
       ]
      },
      {
       "output_type": "stream",
       "stream": "stdout",
       "text": [
        "  Processing RAD-Tag 2610000       \r"
       ]
      },
      {
       "output_type": "stream",
       "stream": "stdout",
       "text": [
        "  Processing RAD-Tag 2620000       \r"
       ]
      },
      {
       "output_type": "stream",
       "stream": "stdout",
       "text": [
        "  Processing RAD-Tag 2630000       \r"
       ]
      },
      {
       "output_type": "stream",
       "stream": "stdout",
       "text": [
        "  Processing RAD-Tag 2640000       \r"
       ]
      },
      {
       "output_type": "stream",
       "stream": "stdout",
       "text": [
        "  Processing RAD-Tag 2650000       \r"
       ]
      },
      {
       "output_type": "stream",
       "stream": "stdout",
       "text": [
        "  Processing RAD-Tag 2660000       \r"
       ]
      },
      {
       "output_type": "stream",
       "stream": "stdout",
       "text": [
        "  Processing RAD-Tag 2670000       \r"
       ]
      },
      {
       "output_type": "stream",
       "stream": "stdout",
       "text": [
        "  Processing RAD-Tag 2680000       \r"
       ]
      },
      {
       "output_type": "stream",
       "stream": "stdout",
       "text": [
        "  Processing RAD-Tag 2690000       \r"
       ]
      },
      {
       "output_type": "stream",
       "stream": "stdout",
       "text": [
        "  Processing RAD-Tag 2700000       \r"
       ]
      },
      {
       "output_type": "stream",
       "stream": "stdout",
       "text": [
        "  Processing RAD-Tag 2710000       \r"
       ]
      },
      {
       "output_type": "stream",
       "stream": "stdout",
       "text": [
        "  Processing RAD-Tag 2720000       \r"
       ]
      },
      {
       "output_type": "stream",
       "stream": "stdout",
       "text": [
        "  Processing RAD-Tag 2730000       \r"
       ]
      },
      {
       "output_type": "stream",
       "stream": "stdout",
       "text": [
        "  Processing RAD-Tag 2740000       \r"
       ]
      },
      {
       "output_type": "stream",
       "stream": "stdout",
       "text": [
        "  Processing RAD-Tag 2750000       \r"
       ]
      },
      {
       "output_type": "stream",
       "stream": "stdout",
       "text": [
        "  Processing RAD-Tag 2760000       \r"
       ]
      },
      {
       "output_type": "stream",
       "stream": "stdout",
       "text": [
        "  Processing RAD-Tag 2770000       \r"
       ]
      },
      {
       "output_type": "stream",
       "stream": "stdout",
       "text": [
        "  Processing RAD-Tag 2780000       \r"
       ]
      },
      {
       "output_type": "stream",
       "stream": "stdout",
       "text": [
        "  Processing RAD-Tag 2790000       \r"
       ]
      },
      {
       "output_type": "stream",
       "stream": "stdout",
       "text": [
        "  Processing RAD-Tag 2800000       \r"
       ]
      },
      {
       "output_type": "stream",
       "stream": "stdout",
       "text": [
        "  Processing RAD-Tag 2810000       \r"
       ]
      },
      {
       "output_type": "stream",
       "stream": "stdout",
       "text": [
        "  Processing RAD-Tag 2820000       \r"
       ]
      },
      {
       "output_type": "stream",
       "stream": "stdout",
       "text": [
        "  Processing RAD-Tag 2830000       \r"
       ]
      },
      {
       "output_type": "stream",
       "stream": "stdout",
       "text": [
        "  Processing RAD-Tag 2840000       \r"
       ]
      },
      {
       "output_type": "stream",
       "stream": "stdout",
       "text": [
        "  Processing RAD-Tag 2850000       \r"
       ]
      },
      {
       "output_type": "stream",
       "stream": "stdout",
       "text": [
        "  Processing RAD-Tag 2860000       \r"
       ]
      },
      {
       "output_type": "stream",
       "stream": "stdout",
       "text": [
        "  Processing RAD-Tag 2870000       \r"
       ]
      },
      {
       "output_type": "stream",
       "stream": "stdout",
       "text": [
        "  Processing RAD-Tag 2880000       \r"
       ]
      },
      {
       "output_type": "stream",
       "stream": "stdout",
       "text": [
        "  Processing RAD-Tag 2890000       \r"
       ]
      },
      {
       "output_type": "stream",
       "stream": "stdout",
       "text": [
        "  Processing RAD-Tag 2900000       \r"
       ]
      },
      {
       "output_type": "stream",
       "stream": "stdout",
       "text": [
        "  Processing RAD-Tag 2910000       \r"
       ]
      },
      {
       "output_type": "stream",
       "stream": "stdout",
       "text": [
        "  Processing RAD-Tag 2920000       \r"
       ]
      },
      {
       "output_type": "stream",
       "stream": "stdout",
       "text": [
        "  Processing RAD-Tag 2930000       \r"
       ]
      },
      {
       "output_type": "stream",
       "stream": "stdout",
       "text": [
        "  Processing RAD-Tag 2940000       \r"
       ]
      },
      {
       "output_type": "stream",
       "stream": "stdout",
       "text": [
        "  Processing RAD-Tag 2950000       \r"
       ]
      },
      {
       "output_type": "stream",
       "stream": "stdout",
       "text": [
        "  Processing RAD-Tag 2960000       \r"
       ]
      },
      {
       "output_type": "stream",
       "stream": "stdout",
       "text": [
        "  Processing RAD-Tag 2970000       \r"
       ]
      },
      {
       "output_type": "stream",
       "stream": "stdout",
       "text": [
        "  Processing RAD-Tag 2980000       \r"
       ]
      },
      {
       "output_type": "stream",
       "stream": "stdout",
       "text": [
        "  Processing RAD-Tag 2990000       \r"
       ]
      },
      {
       "output_type": "stream",
       "stream": "stdout",
       "text": [
        "  Processing RAD-Tag 3000000       \r"
       ]
      },
      {
       "output_type": "stream",
       "stream": "stdout",
       "text": [
        "  Processing RAD-Tag 3010000       \r"
       ]
      },
      {
       "output_type": "stream",
       "stream": "stdout",
       "text": [
        "  Processing RAD-Tag 3020000       \r"
       ]
      },
      {
       "output_type": "stream",
       "stream": "stdout",
       "text": [
        "  Processing RAD-Tag 3030000       \r"
       ]
      },
      {
       "output_type": "stream",
       "stream": "stdout",
       "text": [
        "  Processing RAD-Tag 3040000       \r"
       ]
      },
      {
       "output_type": "stream",
       "stream": "stdout",
       "text": [
        "  Processing RAD-Tag 3050000       \r"
       ]
      },
      {
       "output_type": "stream",
       "stream": "stdout",
       "text": [
        "  Processing RAD-Tag 3060000       \r"
       ]
      },
      {
       "output_type": "stream",
       "stream": "stdout",
       "text": [
        "  Processing RAD-Tag 3070000       \r"
       ]
      },
      {
       "output_type": "stream",
       "stream": "stdout",
       "text": [
        "  Processing RAD-Tag 3080000       \r"
       ]
      },
      {
       "output_type": "stream",
       "stream": "stdout",
       "text": [
        "  Processing RAD-Tag 3090000       \r"
       ]
      },
      {
       "output_type": "stream",
       "stream": "stdout",
       "text": [
        "  Processing RAD-Tag 3100000       \r"
       ]
      },
      {
       "output_type": "stream",
       "stream": "stdout",
       "text": [
        "  Processing RAD-Tag 3110000       \r"
       ]
      },
      {
       "output_type": "stream",
       "stream": "stdout",
       "text": [
        "  Processing RAD-Tag 3120000       \r"
       ]
      },
      {
       "output_type": "stream",
       "stream": "stdout",
       "text": [
        "  Processing RAD-Tag 3130000       \r"
       ]
      },
      {
       "output_type": "stream",
       "stream": "stdout",
       "text": [
        "  Processing RAD-Tag 3140000       \r"
       ]
      },
      {
       "output_type": "stream",
       "stream": "stdout",
       "text": [
        "  Processing RAD-Tag 3150000       \r"
       ]
      },
      {
       "output_type": "stream",
       "stream": "stdout",
       "text": [
        "  Processing RAD-Tag 3160000       \r"
       ]
      },
      {
       "output_type": "stream",
       "stream": "stdout",
       "text": [
        "  Processing RAD-Tag 3170000       \r"
       ]
      },
      {
       "output_type": "stream",
       "stream": "stdout",
       "text": [
        "  Processing RAD-Tag 3180000       \r"
       ]
      },
      {
       "output_type": "stream",
       "stream": "stdout",
       "text": [
        "  Processing RAD-Tag 3190000       \r"
       ]
      },
      {
       "output_type": "stream",
       "stream": "stdout",
       "text": [
        "  Processing RAD-Tag 3200000       \r"
       ]
      },
      {
       "output_type": "stream",
       "stream": "stdout",
       "text": [
        "  Processing RAD-Tag 3210000       \r"
       ]
      },
      {
       "output_type": "stream",
       "stream": "stdout",
       "text": [
        "  Processing RAD-Tag 3220000       \r"
       ]
      },
      {
       "output_type": "stream",
       "stream": "stdout",
       "text": [
        "  Processing RAD-Tag 3230000       \r"
       ]
      },
      {
       "output_type": "stream",
       "stream": "stdout",
       "text": [
        "  Processing RAD-Tag 3240000       \r"
       ]
      },
      {
       "output_type": "stream",
       "stream": "stdout",
       "text": [
        "  Processing RAD-Tag 3250000       \r"
       ]
      },
      {
       "output_type": "stream",
       "stream": "stdout",
       "text": [
        "  Processing RAD-Tag 3260000       \r"
       ]
      },
      {
       "output_type": "stream",
       "stream": "stdout",
       "text": [
        "  Processing RAD-Tag 3270000       \r"
       ]
      },
      {
       "output_type": "stream",
       "stream": "stdout",
       "text": [
        "  Processing RAD-Tag 3280000       \r"
       ]
      },
      {
       "output_type": "stream",
       "stream": "stdout",
       "text": [
        "  Processing RAD-Tag 3290000       \r"
       ]
      },
      {
       "output_type": "stream",
       "stream": "stdout",
       "text": [
        "  Processing RAD-Tag 3300000       \r"
       ]
      },
      {
       "output_type": "stream",
       "stream": "stdout",
       "text": [
        "  Processing RAD-Tag 3310000       \r"
       ]
      },
      {
       "output_type": "stream",
       "stream": "stdout",
       "text": [
        "  Processing RAD-Tag 3320000       \r"
       ]
      },
      {
       "output_type": "stream",
       "stream": "stdout",
       "text": [
        "  Processing RAD-Tag 3330000       \r"
       ]
      },
      {
       "output_type": "stream",
       "stream": "stdout",
       "text": [
        "  Processing RAD-Tag 3340000       \r"
       ]
      },
      {
       "output_type": "stream",
       "stream": "stdout",
       "text": [
        "  Processing RAD-Tag 3350000       \r"
       ]
      },
      {
       "output_type": "stream",
       "stream": "stdout",
       "text": [
        "  Processing RAD-Tag 3360000       \r"
       ]
      },
      {
       "output_type": "stream",
       "stream": "stdout",
       "text": [
        "  Processing RAD-Tag 3370000       \r"
       ]
      },
      {
       "output_type": "stream",
       "stream": "stdout",
       "text": [
        "  Processing RAD-Tag 3380000       \r"
       ]
      },
      {
       "output_type": "stream",
       "stream": "stdout",
       "text": [
        "  Processing RAD-Tag 3390000       \r"
       ]
      },
      {
       "output_type": "stream",
       "stream": "stdout",
       "text": [
        "  Processing RAD-Tag 3400000       \r"
       ]
      },
      {
       "output_type": "stream",
       "stream": "stdout",
       "text": [
        "  Processing RAD-Tag 3410000       \r"
       ]
      },
      {
       "output_type": "stream",
       "stream": "stdout",
       "text": [
        "  Processing RAD-Tag 3420000       \r"
       ]
      },
      {
       "output_type": "stream",
       "stream": "stdout",
       "text": [
        "  Processing RAD-Tag 3430000       \r"
       ]
      },
      {
       "output_type": "stream",
       "stream": "stdout",
       "text": [
        "  Processing RAD-Tag 3440000       \r"
       ]
      },
      {
       "output_type": "stream",
       "stream": "stdout",
       "text": [
        "  Processing RAD-Tag 3450000       \r"
       ]
      },
      {
       "output_type": "stream",
       "stream": "stdout",
       "text": [
        "  Processing RAD-Tag 3460000       \r"
       ]
      },
      {
       "output_type": "stream",
       "stream": "stdout",
       "text": [
        "  Processing RAD-Tag 3470000       \r"
       ]
      },
      {
       "output_type": "stream",
       "stream": "stdout",
       "text": [
        "  Processing RAD-Tag 3480000       \r"
       ]
      },
      {
       "output_type": "stream",
       "stream": "stdout",
       "text": [
        "  Processing RAD-Tag 3490000       \r"
       ]
      },
      {
       "output_type": "stream",
       "stream": "stdout",
       "text": [
        "  Processing RAD-Tag 3500000       \r"
       ]
      },
      {
       "output_type": "stream",
       "stream": "stdout",
       "text": [
        "  Processing RAD-Tag 3510000       \r"
       ]
      },
      {
       "output_type": "stream",
       "stream": "stdout",
       "text": [
        "  Processing RAD-Tag 3520000       \r"
       ]
      },
      {
       "output_type": "stream",
       "stream": "stdout",
       "text": [
        "  Processing RAD-Tag 3530000       \r"
       ]
      },
      {
       "output_type": "stream",
       "stream": "stdout",
       "text": [
        "  Processing RAD-Tag 3540000       \r"
       ]
      },
      {
       "output_type": "stream",
       "stream": "stdout",
       "text": [
        "  Processing RAD-Tag 3550000       \r"
       ]
      },
      {
       "output_type": "stream",
       "stream": "stdout",
       "text": [
        "  Processing RAD-Tag 3560000       \r"
       ]
      },
      {
       "output_type": "stream",
       "stream": "stdout",
       "text": [
        "  Processing RAD-Tag 3570000       \r"
       ]
      },
      {
       "output_type": "stream",
       "stream": "stdout",
       "text": [
        "  Processing RAD-Tag 3580000       \r"
       ]
      },
      {
       "output_type": "stream",
       "stream": "stdout",
       "text": [
        "  Processing RAD-Tag 3590000       \r"
       ]
      },
      {
       "output_type": "stream",
       "stream": "stdout",
       "text": [
        "  Processing RAD-Tag 3600000       \r"
       ]
      },
      {
       "output_type": "stream",
       "stream": "stdout",
       "text": [
        "  Processing RAD-Tag 3610000       \r"
       ]
      },
      {
       "output_type": "stream",
       "stream": "stdout",
       "text": [
        "  Processing RAD-Tag 3620000       \r"
       ]
      },
      {
       "output_type": "stream",
       "stream": "stdout",
       "text": [
        "  Processing RAD-Tag 3630000       \r"
       ]
      },
      {
       "output_type": "stream",
       "stream": "stdout",
       "text": [
        "  Processing RAD-Tag 3640000       \r"
       ]
      },
      {
       "output_type": "stream",
       "stream": "stdout",
       "text": [
        "  Processing RAD-Tag 3650000       \r"
       ]
      },
      {
       "output_type": "stream",
       "stream": "stdout",
       "text": [
        "  Processing RAD-Tag 3660000       \r"
       ]
      },
      {
       "output_type": "stream",
       "stream": "stdout",
       "text": [
        "  Processing RAD-Tag 3670000       \r"
       ]
      },
      {
       "output_type": "stream",
       "stream": "stdout",
       "text": [
        "  Processing RAD-Tag 3680000       \r"
       ]
      },
      {
       "output_type": "stream",
       "stream": "stdout",
       "text": [
        "  Processing RAD-Tag 3690000       \r"
       ]
      },
      {
       "output_type": "stream",
       "stream": "stdout",
       "text": [
        "  Processing RAD-Tag 3700000       \r"
       ]
      },
      {
       "output_type": "stream",
       "stream": "stdout",
       "text": [
        "  Processing RAD-Tag 3710000       \r"
       ]
      },
      {
       "output_type": "stream",
       "stream": "stdout",
       "text": [
        "  Processing RAD-Tag 3720000       \r"
       ]
      },
      {
       "output_type": "stream",
       "stream": "stdout",
       "text": [
        "  Processing RAD-Tag 3730000       \r"
       ]
      },
      {
       "output_type": "stream",
       "stream": "stdout",
       "text": [
        "  Processing RAD-Tag 3740000       \r"
       ]
      },
      {
       "output_type": "stream",
       "stream": "stdout",
       "text": [
        "  Processing RAD-Tag 3750000       \r"
       ]
      },
      {
       "output_type": "stream",
       "stream": "stdout",
       "text": [
        "  Processing RAD-Tag 3760000       \r"
       ]
      },
      {
       "output_type": "stream",
       "stream": "stdout",
       "text": [
        "  Processing RAD-Tag 3770000       \r"
       ]
      },
      {
       "output_type": "stream",
       "stream": "stdout",
       "text": [
        "  Processing RAD-Tag 3780000       \r"
       ]
      },
      {
       "output_type": "stream",
       "stream": "stdout",
       "text": [
        "  Processing RAD-Tag 3790000       \r"
       ]
      },
      {
       "output_type": "stream",
       "stream": "stdout",
       "text": [
        "  Processing RAD-Tag 3800000       \r"
       ]
      },
      {
       "output_type": "stream",
       "stream": "stdout",
       "text": [
        "  Processing RAD-Tag 3810000       \r"
       ]
      },
      {
       "output_type": "stream",
       "stream": "stdout",
       "text": [
        "  Processing RAD-Tag 3820000       \r"
       ]
      },
      {
       "output_type": "stream",
       "stream": "stdout",
       "text": [
        "  Processing RAD-Tag 3830000       \r"
       ]
      },
      {
       "output_type": "stream",
       "stream": "stdout",
       "text": [
        "  Processing RAD-Tag 3840000       \r"
       ]
      },
      {
       "output_type": "stream",
       "stream": "stdout",
       "text": [
        "  Processing RAD-Tag 3850000       \r"
       ]
      },
      {
       "output_type": "stream",
       "stream": "stdout",
       "text": [
        "  Processing RAD-Tag 3860000       \r"
       ]
      },
      {
       "output_type": "stream",
       "stream": "stdout",
       "text": [
        "  Processing RAD-Tag 3870000       \r"
       ]
      },
      {
       "output_type": "stream",
       "stream": "stdout",
       "text": [
        "  Processing RAD-Tag 3880000       \r"
       ]
      },
      {
       "output_type": "stream",
       "stream": "stdout",
       "text": [
        "  Processing RAD-Tag 3890000       \r"
       ]
      },
      {
       "output_type": "stream",
       "stream": "stdout",
       "text": [
        "  Processing RAD-Tag 3900000       \r"
       ]
      },
      {
       "output_type": "stream",
       "stream": "stdout",
       "text": [
        "  Processing RAD-Tag 3910000       \r"
       ]
      },
      {
       "output_type": "stream",
       "stream": "stdout",
       "text": [
        "  Processing RAD-Tag 3920000       \r"
       ]
      },
      {
       "output_type": "stream",
       "stream": "stdout",
       "text": [
        "  Processing RAD-Tag 3930000       \r"
       ]
      },
      {
       "output_type": "stream",
       "stream": "stdout",
       "text": [
        "  Processing RAD-Tag 3940000       \r"
       ]
      },
      {
       "output_type": "stream",
       "stream": "stdout",
       "text": [
        "  Processing RAD-Tag 3950000       \r"
       ]
      },
      {
       "output_type": "stream",
       "stream": "stdout",
       "text": [
        "  Processing RAD-Tag 3960000       \r"
       ]
      },
      {
       "output_type": "stream",
       "stream": "stdout",
       "text": [
        "  Processing RAD-Tag 3970000       \r"
       ]
      },
      {
       "output_type": "stream",
       "stream": "stdout",
       "text": [
        "  Processing RAD-Tag 3980000       \r"
       ]
      },
      {
       "output_type": "stream",
       "stream": "stdout",
       "text": [
        "  Processing RAD-Tag 3990000       \r"
       ]
      },
      {
       "output_type": "stream",
       "stream": "stdout",
       "text": [
        "  Processing RAD-Tag 4000000       \r"
       ]
      },
      {
       "output_type": "stream",
       "stream": "stdout",
       "text": [
        "  Processing RAD-Tag 4010000       \r"
       ]
      },
      {
       "output_type": "stream",
       "stream": "stdout",
       "text": [
        "  Processing RAD-Tag 4020000       \r"
       ]
      },
      {
       "output_type": "stream",
       "stream": "stdout",
       "text": [
        "  Processing RAD-Tag 4030000       \r"
       ]
      },
      {
       "output_type": "stream",
       "stream": "stdout",
       "text": [
        "  Processing RAD-Tag 4040000       \r"
       ]
      },
      {
       "output_type": "stream",
       "stream": "stdout",
       "text": [
        "  Processing RAD-Tag 4050000       \r"
       ]
      },
      {
       "output_type": "stream",
       "stream": "stdout",
       "text": [
        "  Processing RAD-Tag 4060000       \r"
       ]
      },
      {
       "output_type": "stream",
       "stream": "stdout",
       "text": [
        "  Processing RAD-Tag 4070000       \r"
       ]
      },
      {
       "output_type": "stream",
       "stream": "stdout",
       "text": [
        "  Processing RAD-Tag 4080000       \r"
       ]
      },
      {
       "output_type": "stream",
       "stream": "stdout",
       "text": [
        "  Processing RAD-Tag 4090000       \r"
       ]
      },
      {
       "output_type": "stream",
       "stream": "stdout",
       "text": [
        "  Processing RAD-Tag 4100000       \r"
       ]
      },
      {
       "output_type": "stream",
       "stream": "stdout",
       "text": [
        "  Processing RAD-Tag 4110000       \r"
       ]
      },
      {
       "output_type": "stream",
       "stream": "stdout",
       "text": [
        "  Processing RAD-Tag 4120000       \r"
       ]
      },
      {
       "output_type": "stream",
       "stream": "stdout",
       "text": [
        "  Processing RAD-Tag 4130000       \r"
       ]
      },
      {
       "output_type": "stream",
       "stream": "stdout",
       "text": [
        "  Processing RAD-Tag 4140000       \r"
       ]
      },
      {
       "output_type": "stream",
       "stream": "stdout",
       "text": [
        "  Processing RAD-Tag 4150000       \r"
       ]
      },
      {
       "output_type": "stream",
       "stream": "stdout",
       "text": [
        "  Processing RAD-Tag 4160000       \r"
       ]
      },
      {
       "output_type": "stream",
       "stream": "stdout",
       "text": [
        "  Processing RAD-Tag 4170000       \r"
       ]
      },
      {
       "output_type": "stream",
       "stream": "stdout",
       "text": [
        "  Processing RAD-Tag 4180000       \r"
       ]
      },
      {
       "output_type": "stream",
       "stream": "stdout",
       "text": [
        "  Processing RAD-Tag 4190000       \r"
       ]
      },
      {
       "output_type": "stream",
       "stream": "stdout",
       "text": [
        "  Processing RAD-Tag 4200000       \r"
       ]
      },
      {
       "output_type": "stream",
       "stream": "stdout",
       "text": [
        "  Processing RAD-Tag 4210000       \r"
       ]
      },
      {
       "output_type": "stream",
       "stream": "stdout",
       "text": [
        "  Processing RAD-Tag 4220000       \r"
       ]
      },
      {
       "output_type": "stream",
       "stream": "stdout",
       "text": [
        "  Processing RAD-Tag 4230000       \r"
       ]
      },
      {
       "output_type": "stream",
       "stream": "stdout",
       "text": [
        "  Processing RAD-Tag 4240000       \r"
       ]
      },
      {
       "output_type": "stream",
       "stream": "stdout",
       "text": [
        "  Processing RAD-Tag 4250000       \r"
       ]
      },
      {
       "output_type": "stream",
       "stream": "stdout",
       "text": [
        "  Processing RAD-Tag 4260000       \r"
       ]
      },
      {
       "output_type": "stream",
       "stream": "stdout",
       "text": [
        "  Processing RAD-Tag 4270000       \r"
       ]
      },
      {
       "output_type": "stream",
       "stream": "stdout",
       "text": [
        "  Processing RAD-Tag 4280000       \r"
       ]
      },
      {
       "output_type": "stream",
       "stream": "stdout",
       "text": [
        "  Processing RAD-Tag 4290000       \r"
       ]
      },
      {
       "output_type": "stream",
       "stream": "stdout",
       "text": [
        "  Processing RAD-Tag 4300000       \r"
       ]
      },
      {
       "output_type": "stream",
       "stream": "stdout",
       "text": [
        "  Processing RAD-Tag 4310000       \r"
       ]
      },
      {
       "output_type": "stream",
       "stream": "stdout",
       "text": [
        "  Processing RAD-Tag 4320000       \r"
       ]
      },
      {
       "output_type": "stream",
       "stream": "stdout",
       "text": [
        "  Processing RAD-Tag 4330000       \r"
       ]
      },
      {
       "output_type": "stream",
       "stream": "stdout",
       "text": [
        "  Processing RAD-Tag 4340000       \r"
       ]
      },
      {
       "output_type": "stream",
       "stream": "stdout",
       "text": [
        "  Processing RAD-Tag 4350000       \r"
       ]
      },
      {
       "output_type": "stream",
       "stream": "stdout",
       "text": [
        "  Processing RAD-Tag 4360000       \r"
       ]
      },
      {
       "output_type": "stream",
       "stream": "stdout",
       "text": [
        "  Processing RAD-Tag 4370000       \r"
       ]
      },
      {
       "output_type": "stream",
       "stream": "stdout",
       "text": [
        "  Processing RAD-Tag 4380000       \r"
       ]
      },
      {
       "output_type": "stream",
       "stream": "stdout",
       "text": [
        "  Processing RAD-Tag 4390000       \r"
       ]
      },
      {
       "output_type": "stream",
       "stream": "stdout",
       "text": [
        "  Processing RAD-Tag 4400000       \r"
       ]
      },
      {
       "output_type": "stream",
       "stream": "stdout",
       "text": [
        "  Processing RAD-Tag 4410000       \r"
       ]
      },
      {
       "output_type": "stream",
       "stream": "stdout",
       "text": [
        "  Processing RAD-Tag 4420000       \r"
       ]
      },
      {
       "output_type": "stream",
       "stream": "stdout",
       "text": [
        "  Processing RAD-Tag 4430000       \r"
       ]
      },
      {
       "output_type": "stream",
       "stream": "stdout",
       "text": [
        "  Processing RAD-Tag 4440000       \r"
       ]
      },
      {
       "output_type": "stream",
       "stream": "stdout",
       "text": [
        "  Processing RAD-Tag 4450000       \r"
       ]
      },
      {
       "output_type": "stream",
       "stream": "stdout",
       "text": [
        "  Processing RAD-Tag 4460000       \r"
       ]
      },
      {
       "output_type": "stream",
       "stream": "stdout",
       "text": [
        "  Processing RAD-Tag 4470000       \r"
       ]
      },
      {
       "output_type": "stream",
       "stream": "stdout",
       "text": [
        "  Processing RAD-Tag 4480000       \r"
       ]
      },
      {
       "output_type": "stream",
       "stream": "stdout",
       "text": [
        "  Processing RAD-Tag 4490000       \r"
       ]
      },
      {
       "output_type": "stream",
       "stream": "stdout",
       "text": [
        "  Processing RAD-Tag 4500000       \r"
       ]
      },
      {
       "output_type": "stream",
       "stream": "stdout",
       "text": [
        "  Processing RAD-Tag 4510000       \r"
       ]
      },
      {
       "output_type": "stream",
       "stream": "stdout",
       "text": [
        "  Processing RAD-Tag 4520000       \r"
       ]
      },
      {
       "output_type": "stream",
       "stream": "stdout",
       "text": [
        "  Processing RAD-Tag 4530000       \r"
       ]
      },
      {
       "output_type": "stream",
       "stream": "stdout",
       "text": [
        "  Processing RAD-Tag 4540000       \r"
       ]
      },
      {
       "output_type": "stream",
       "stream": "stdout",
       "text": [
        "  Processing RAD-Tag 4550000       \r"
       ]
      },
      {
       "output_type": "stream",
       "stream": "stdout",
       "text": [
        "  Processing RAD-Tag 4560000       \r"
       ]
      },
      {
       "output_type": "stream",
       "stream": "stdout",
       "text": [
        "  Processing RAD-Tag 4570000       \r"
       ]
      },
      {
       "output_type": "stream",
       "stream": "stdout",
       "text": [
        "  Processing RAD-Tag 4580000       \r"
       ]
      },
      {
       "output_type": "stream",
       "stream": "stdout",
       "text": [
        "  Processing RAD-Tag 4590000       \r"
       ]
      },
      {
       "output_type": "stream",
       "stream": "stdout",
       "text": [
        "  Processing RAD-Tag 4600000       \r"
       ]
      },
      {
       "output_type": "stream",
       "stream": "stdout",
       "text": [
        "  Processing RAD-Tag 4610000       \r"
       ]
      },
      {
       "output_type": "stream",
       "stream": "stdout",
       "text": [
        "  Processing RAD-Tag 4620000       \r"
       ]
      },
      {
       "output_type": "stream",
       "stream": "stdout",
       "text": [
        "  Processing RAD-Tag 4630000       \r"
       ]
      },
      {
       "output_type": "stream",
       "stream": "stdout",
       "text": [
        "  Processing RAD-Tag 4640000       \r"
       ]
      },
      {
       "output_type": "stream",
       "stream": "stdout",
       "text": [
        "  Processing RAD-Tag 4650000       \r"
       ]
      },
      {
       "output_type": "stream",
       "stream": "stdout",
       "text": [
        "  Processing RAD-Tag 4660000       \r"
       ]
      },
      {
       "output_type": "stream",
       "stream": "stdout",
       "text": [
        "  Processing RAD-Tag 4670000       \r"
       ]
      },
      {
       "output_type": "stream",
       "stream": "stdout",
       "text": [
        "  Processing RAD-Tag 4680000       \r"
       ]
      },
      {
       "output_type": "stream",
       "stream": "stdout",
       "text": [
        "  Processing RAD-Tag 4690000       \r"
       ]
      },
      {
       "output_type": "stream",
       "stream": "stdout",
       "text": [
        "  Processing RAD-Tag 4700000       \r"
       ]
      },
      {
       "output_type": "stream",
       "stream": "stdout",
       "text": [
        "  Processing RAD-Tag 4710000       \r"
       ]
      },
      {
       "output_type": "stream",
       "stream": "stdout",
       "text": [
        "  Processing RAD-Tag 4720000       \r"
       ]
      },
      {
       "output_type": "stream",
       "stream": "stdout",
       "text": [
        "  Processing RAD-Tag 4730000       \r"
       ]
      },
      {
       "output_type": "stream",
       "stream": "stdout",
       "text": [
        "  Processing RAD-Tag 4740000       \r"
       ]
      },
      {
       "output_type": "stream",
       "stream": "stdout",
       "text": [
        "  Processing RAD-Tag 4750000       \r"
       ]
      },
      {
       "output_type": "stream",
       "stream": "stdout",
       "text": [
        "  Processing RAD-Tag 4760000       \r"
       ]
      },
      {
       "output_type": "stream",
       "stream": "stdout",
       "text": [
        "  Processing RAD-Tag 4770000       \r"
       ]
      },
      {
       "output_type": "stream",
       "stream": "stdout",
       "text": [
        "  Processing RAD-Tag 4780000       \r"
       ]
      },
      {
       "output_type": "stream",
       "stream": "stdout",
       "text": [
        "  Processing RAD-Tag 4790000       \r"
       ]
      },
      {
       "output_type": "stream",
       "stream": "stdout",
       "text": [
        "  Processing RAD-Tag 4800000       \r"
       ]
      },
      {
       "output_type": "stream",
       "stream": "stdout",
       "text": [
        "  Processing RAD-Tag 4810000       \r"
       ]
      },
      {
       "output_type": "stream",
       "stream": "stdout",
       "text": [
        "  Processing RAD-Tag 4820000       \r"
       ]
      },
      {
       "output_type": "stream",
       "stream": "stdout",
       "text": [
        "  Processing RAD-Tag 4830000       \r"
       ]
      },
      {
       "output_type": "stream",
       "stream": "stdout",
       "text": [
        "  Processing RAD-Tag 4840000       \r"
       ]
      },
      {
       "output_type": "stream",
       "stream": "stdout",
       "text": [
        "  Processing RAD-Tag 4850000       \r"
       ]
      },
      {
       "output_type": "stream",
       "stream": "stdout",
       "text": [
        "  Processing RAD-Tag 4860000       \r"
       ]
      },
      {
       "output_type": "stream",
       "stream": "stdout",
       "text": [
        "  Processing RAD-Tag 4870000       \r"
       ]
      },
      {
       "output_type": "stream",
       "stream": "stdout",
       "text": [
        "  Processing RAD-Tag 4880000       \r"
       ]
      },
      {
       "output_type": "stream",
       "stream": "stdout",
       "text": [
        "  Processing RAD-Tag 4890000       \r"
       ]
      },
      {
       "output_type": "stream",
       "stream": "stdout",
       "text": [
        "  Processing RAD-Tag 4900000       \r"
       ]
      },
      {
       "output_type": "stream",
       "stream": "stdout",
       "text": [
        "  Processing RAD-Tag 4910000       \r"
       ]
      },
      {
       "output_type": "stream",
       "stream": "stdout",
       "text": [
        "  Processing RAD-Tag 4920000       \r"
       ]
      },
      {
       "output_type": "stream",
       "stream": "stdout",
       "text": [
        "  Processing RAD-Tag 4930000       \r"
       ]
      },
      {
       "output_type": "stream",
       "stream": "stdout",
       "text": [
        "  Processing RAD-Tag 4940000       \r"
       ]
      },
      {
       "output_type": "stream",
       "stream": "stdout",
       "text": [
        "  Processing RAD-Tag 4950000       \r"
       ]
      },
      {
       "output_type": "stream",
       "stream": "stdout",
       "text": [
        "  Processing RAD-Tag 4960000       \r"
       ]
      },
      {
       "output_type": "stream",
       "stream": "stdout",
       "text": [
        "  Processing RAD-Tag 4970000       \r"
       ]
      },
      {
       "output_type": "stream",
       "stream": "stdout",
       "text": [
        "  Processing RAD-Tag 4980000       \r"
       ]
      },
      {
       "output_type": "stream",
       "stream": "stdout",
       "text": [
        "  Processing RAD-Tag 4990000       \r"
       ]
      },
      {
       "output_type": "stream",
       "stream": "stdout",
       "text": [
        "  Processing RAD-Tag 5000000       \r"
       ]
      },
      {
       "output_type": "stream",
       "stream": "stdout",
       "text": [
        "  Processing RAD-Tag 5010000       \r"
       ]
      },
      {
       "output_type": "stream",
       "stream": "stdout",
       "text": [
        "  Processing RAD-Tag 5020000       \r"
       ]
      },
      {
       "output_type": "stream",
       "stream": "stdout",
       "text": [
        "  Processing RAD-Tag 5030000       \r"
       ]
      },
      {
       "output_type": "stream",
       "stream": "stdout",
       "text": [
        "  Processing RAD-Tag 5040000       \r"
       ]
      },
      {
       "output_type": "stream",
       "stream": "stdout",
       "text": [
        "  Processing RAD-Tag 5050000       \r"
       ]
      },
      {
       "output_type": "stream",
       "stream": "stdout",
       "text": [
        "  Processing RAD-Tag 5060000       \r"
       ]
      },
      {
       "output_type": "stream",
       "stream": "stdout",
       "text": [
        "  Processing RAD-Tag 5070000       \r"
       ]
      },
      {
       "output_type": "stream",
       "stream": "stdout",
       "text": [
        "  Processing RAD-Tag 5080000       \r"
       ]
      },
      {
       "output_type": "stream",
       "stream": "stdout",
       "text": [
        "  Processing RAD-Tag 5090000       \r"
       ]
      },
      {
       "output_type": "stream",
       "stream": "stdout",
       "text": [
        "  Processing RAD-Tag 5100000       \r"
       ]
      },
      {
       "output_type": "stream",
       "stream": "stdout",
       "text": [
        "  Processing RAD-Tag 5110000       \r"
       ]
      },
      {
       "output_type": "stream",
       "stream": "stdout",
       "text": [
        "  Processing RAD-Tag 5120000       \r"
       ]
      },
      {
       "output_type": "stream",
       "stream": "stdout",
       "text": [
        "  Processing RAD-Tag 5130000       \r"
       ]
      },
      {
       "output_type": "stream",
       "stream": "stdout",
       "text": [
        "  Processing RAD-Tag 5140000       \r"
       ]
      },
      {
       "output_type": "stream",
       "stream": "stdout",
       "text": [
        "  Processing RAD-Tag 5150000       \r"
       ]
      },
      {
       "output_type": "stream",
       "stream": "stdout",
       "text": [
        "  Processing RAD-Tag 5160000       \r"
       ]
      },
      {
       "output_type": "stream",
       "stream": "stdout",
       "text": [
        "  Processing RAD-Tag 5170000       \r"
       ]
      },
      {
       "output_type": "stream",
       "stream": "stdout",
       "text": [
        "  Processing RAD-Tag 5180000       \r"
       ]
      },
      {
       "output_type": "stream",
       "stream": "stdout",
       "text": [
        "  Processing RAD-Tag 5190000       \r"
       ]
      },
      {
       "output_type": "stream",
       "stream": "stdout",
       "text": [
        "  Processing RAD-Tag 5200000       \r"
       ]
      },
      {
       "output_type": "stream",
       "stream": "stdout",
       "text": [
        "  Processing RAD-Tag 5210000       \r"
       ]
      },
      {
       "output_type": "stream",
       "stream": "stdout",
       "text": [
        "  Processing RAD-Tag 5220000       \r"
       ]
      },
      {
       "output_type": "stream",
       "stream": "stdout",
       "text": [
        "  Processing RAD-Tag 5230000       \r"
       ]
      },
      {
       "output_type": "stream",
       "stream": "stdout",
       "text": [
        "  Processing RAD-Tag 5240000       \r"
       ]
      },
      {
       "output_type": "stream",
       "stream": "stdout",
       "text": [
        "  Processing RAD-Tag 5250000       \r"
       ]
      },
      {
       "output_type": "stream",
       "stream": "stdout",
       "text": [
        "  Processing RAD-Tag 5260000       \r"
       ]
      },
      {
       "output_type": "stream",
       "stream": "stdout",
       "text": [
        "  Processing RAD-Tag 5270000       \r"
       ]
      },
      {
       "output_type": "stream",
       "stream": "stdout",
       "text": [
        "  Processing RAD-Tag 5280000       \r"
       ]
      },
      {
       "output_type": "stream",
       "stream": "stdout",
       "text": [
        "  Processing RAD-Tag 5290000       \r"
       ]
      },
      {
       "output_type": "stream",
       "stream": "stdout",
       "text": [
        "  Processing RAD-Tag 5300000       \r"
       ]
      },
      {
       "output_type": "stream",
       "stream": "stdout",
       "text": [
        "  Processing RAD-Tag 5310000       \r"
       ]
      },
      {
       "output_type": "stream",
       "stream": "stdout",
       "text": [
        "  Processing RAD-Tag 5320000       \r"
       ]
      },
      {
       "output_type": "stream",
       "stream": "stdout",
       "text": [
        "  Processing RAD-Tag 5330000       \r"
       ]
      },
      {
       "output_type": "stream",
       "stream": "stdout",
       "text": [
        "  Processing RAD-Tag 5340000       \r"
       ]
      },
      {
       "output_type": "stream",
       "stream": "stdout",
       "text": [
        "  Processing RAD-Tag 5350000       \r"
       ]
      },
      {
       "output_type": "stream",
       "stream": "stdout",
       "text": [
        "  Processing RAD-Tag 5360000       \r"
       ]
      },
      {
       "output_type": "stream",
       "stream": "stdout",
       "text": [
        "  Processing RAD-Tag 5370000       \r"
       ]
      },
      {
       "output_type": "stream",
       "stream": "stdout",
       "text": [
        "  Processing RAD-Tag 5380000       \r"
       ]
      },
      {
       "output_type": "stream",
       "stream": "stdout",
       "text": [
        "  Processing RAD-Tag 5390000       \r"
       ]
      },
      {
       "output_type": "stream",
       "stream": "stdout",
       "text": [
        "  Processing RAD-Tag 5400000       \r"
       ]
      },
      {
       "output_type": "stream",
       "stream": "stdout",
       "text": [
        "  Processing RAD-Tag 5410000       \r"
       ]
      },
      {
       "output_type": "stream",
       "stream": "stdout",
       "text": [
        "  Processing RAD-Tag 5420000       \r"
       ]
      },
      {
       "output_type": "stream",
       "stream": "stdout",
       "text": [
        "  Processing RAD-Tag 5430000       \r"
       ]
      },
      {
       "output_type": "stream",
       "stream": "stdout",
       "text": [
        "  Processing RAD-Tag 5440000       \r"
       ]
      },
      {
       "output_type": "stream",
       "stream": "stdout",
       "text": [
        "  Processing RAD-Tag 5450000       \r"
       ]
      },
      {
       "output_type": "stream",
       "stream": "stdout",
       "text": [
        "  Processing RAD-Tag 5460000       \r"
       ]
      },
      {
       "output_type": "stream",
       "stream": "stdout",
       "text": [
        "  Processing RAD-Tag 5470000       \r"
       ]
      },
      {
       "output_type": "stream",
       "stream": "stdout",
       "text": [
        "  Processing RAD-Tag 5480000       \r"
       ]
      },
      {
       "output_type": "stream",
       "stream": "stdout",
       "text": [
        "  Processing RAD-Tag 5490000       \r"
       ]
      },
      {
       "output_type": "stream",
       "stream": "stdout",
       "text": [
        "  Processing RAD-Tag 5500000       \r"
       ]
      },
      {
       "output_type": "stream",
       "stream": "stdout",
       "text": [
        "  Processing RAD-Tag 5510000       \r"
       ]
      },
      {
       "output_type": "stream",
       "stream": "stdout",
       "text": [
        "  Processing RAD-Tag 5520000       \r"
       ]
      },
      {
       "output_type": "stream",
       "stream": "stdout",
       "text": [
        "  Processing RAD-Tag 5530000       \r"
       ]
      },
      {
       "output_type": "stream",
       "stream": "stdout",
       "text": [
        "  Processing RAD-Tag 5540000       \r"
       ]
      },
      {
       "output_type": "stream",
       "stream": "stdout",
       "text": [
        "  Processing RAD-Tag 5550000       \r"
       ]
      },
      {
       "output_type": "stream",
       "stream": "stdout",
       "text": [
        "  Processing RAD-Tag 5560000       \r"
       ]
      },
      {
       "output_type": "stream",
       "stream": "stdout",
       "text": [
        "  Processing RAD-Tag 5570000       \r"
       ]
      },
      {
       "output_type": "stream",
       "stream": "stdout",
       "text": [
        "  Processing RAD-Tag 5580000       \r"
       ]
      },
      {
       "output_type": "stream",
       "stream": "stdout",
       "text": [
        "  Processing RAD-Tag 5590000       \r"
       ]
      },
      {
       "output_type": "stream",
       "stream": "stdout",
       "text": [
        "  Processing RAD-Tag 5600000       \r"
       ]
      },
      {
       "output_type": "stream",
       "stream": "stdout",
       "text": [
        "  Processing RAD-Tag 5610000       \r"
       ]
      },
      {
       "output_type": "stream",
       "stream": "stdout",
       "text": [
        "  Processing RAD-Tag 5620000       \r"
       ]
      },
      {
       "output_type": "stream",
       "stream": "stdout",
       "text": [
        "  Processing RAD-Tag 5630000       \r"
       ]
      },
      {
       "output_type": "stream",
       "stream": "stdout",
       "text": [
        "  Processing RAD-Tag 5640000       \r"
       ]
      },
      {
       "output_type": "stream",
       "stream": "stdout",
       "text": [
        "  Processing RAD-Tag 5650000       \r"
       ]
      },
      {
       "output_type": "stream",
       "stream": "stdout",
       "text": [
        "  Processing RAD-Tag 5660000       \r"
       ]
      },
      {
       "output_type": "stream",
       "stream": "stdout",
       "text": [
        "  Processing RAD-Tag 5670000       \r"
       ]
      },
      {
       "output_type": "stream",
       "stream": "stdout",
       "text": [
        "  Processing RAD-Tag 5680000       \r"
       ]
      },
      {
       "output_type": "stream",
       "stream": "stdout",
       "text": [
        "  Processing RAD-Tag 5690000       \r"
       ]
      },
      {
       "output_type": "stream",
       "stream": "stdout",
       "text": [
        "  Processing RAD-Tag 5700000       \r"
       ]
      },
      {
       "output_type": "stream",
       "stream": "stdout",
       "text": [
        "  Processing RAD-Tag 5710000       \r"
       ]
      },
      {
       "output_type": "stream",
       "stream": "stdout",
       "text": [
        "  Processing RAD-Tag 5720000       \r"
       ]
      },
      {
       "output_type": "stream",
       "stream": "stdout",
       "text": [
        "  Processing RAD-Tag 5730000       \r"
       ]
      },
      {
       "output_type": "stream",
       "stream": "stdout",
       "text": [
        "  Processing RAD-Tag 5740000       \r"
       ]
      },
      {
       "output_type": "stream",
       "stream": "stdout",
       "text": [
        "  Processing RAD-Tag 5750000       \r"
       ]
      },
      {
       "output_type": "stream",
       "stream": "stdout",
       "text": [
        "  Processing RAD-Tag 5760000       \r"
       ]
      },
      {
       "output_type": "stream",
       "stream": "stdout",
       "text": [
        "  Processing RAD-Tag 5770000       \r"
       ]
      },
      {
       "output_type": "stream",
       "stream": "stdout",
       "text": [
        "  Processing RAD-Tag 5780000       \r"
       ]
      },
      {
       "output_type": "stream",
       "stream": "stdout",
       "text": [
        "  Processing RAD-Tag 5790000       \r"
       ]
      },
      {
       "output_type": "stream",
       "stream": "stdout",
       "text": [
        "  Processing RAD-Tag 5800000       \r"
       ]
      },
      {
       "output_type": "stream",
       "stream": "stdout",
       "text": [
        "  Processing RAD-Tag 5810000       \r"
       ]
      },
      {
       "output_type": "stream",
       "stream": "stdout",
       "text": [
        "  Processing RAD-Tag 5820000       \r"
       ]
      },
      {
       "output_type": "stream",
       "stream": "stdout",
       "text": [
        "  Processing RAD-Tag 5830000       \r"
       ]
      },
      {
       "output_type": "stream",
       "stream": "stdout",
       "text": [
        "  Processing RAD-Tag 5840000       \r"
       ]
      },
      {
       "output_type": "stream",
       "stream": "stdout",
       "text": [
        "  Processing RAD-Tag 5850000       \r"
       ]
      },
      {
       "output_type": "stream",
       "stream": "stdout",
       "text": [
        "  Processing RAD-Tag 5860000       \r"
       ]
      },
      {
       "output_type": "stream",
       "stream": "stdout",
       "text": [
        "  Processing RAD-Tag 5870000       \r"
       ]
      },
      {
       "output_type": "stream",
       "stream": "stdout",
       "text": [
        "  Processing RAD-Tag 5880000       \r"
       ]
      },
      {
       "output_type": "stream",
       "stream": "stdout",
       "text": [
        "  Processing RAD-Tag 5890000       \r"
       ]
      },
      {
       "output_type": "stream",
       "stream": "stdout",
       "text": [
        "  Processing RAD-Tag 5900000       \r"
       ]
      },
      {
       "output_type": "stream",
       "stream": "stdout",
       "text": [
        "  Processing RAD-Tag 5910000       \r"
       ]
      },
      {
       "output_type": "stream",
       "stream": "stdout",
       "text": [
        "  Processing RAD-Tag 5920000       \r"
       ]
      },
      {
       "output_type": "stream",
       "stream": "stdout",
       "text": [
        "  Processing RAD-Tag 5930000       \r"
       ]
      },
      {
       "output_type": "stream",
       "stream": "stdout",
       "text": [
        "  Processing RAD-Tag 5940000       \r"
       ]
      },
      {
       "output_type": "stream",
       "stream": "stdout",
       "text": [
        "  Processing RAD-Tag 5950000       \r"
       ]
      },
      {
       "output_type": "stream",
       "stream": "stdout",
       "text": [
        "  Processing RAD-Tag 5960000       \r"
       ]
      },
      {
       "output_type": "stream",
       "stream": "stdout",
       "text": [
        "  Processing RAD-Tag 5970000       \r"
       ]
      },
      {
       "output_type": "stream",
       "stream": "stdout",
       "text": [
        "  Processing RAD-Tag 5980000       \r"
       ]
      },
      {
       "output_type": "stream",
       "stream": "stdout",
       "text": [
        "  Processing RAD-Tag 5990000       \r"
       ]
      },
      {
       "output_type": "stream",
       "stream": "stdout",
       "text": [
        "  Processing RAD-Tag 6000000       \r"
       ]
      },
      {
       "output_type": "stream",
       "stream": "stdout",
       "text": [
        "  Processing RAD-Tag 6010000       \r"
       ]
      },
      {
       "output_type": "stream",
       "stream": "stdout",
       "text": [
        "  Processing RAD-Tag 6020000       \r"
       ]
      },
      {
       "output_type": "stream",
       "stream": "stdout",
       "text": [
        "  Processing RAD-Tag 6030000       \r"
       ]
      },
      {
       "output_type": "stream",
       "stream": "stdout",
       "text": [
        "  Processing RAD-Tag 6040000       \r"
       ]
      },
      {
       "output_type": "stream",
       "stream": "stdout",
       "text": [
        "  Processing RAD-Tag 6050000       \r"
       ]
      },
      {
       "output_type": "stream",
       "stream": "stdout",
       "text": [
        "  Processing RAD-Tag 6060000       \r"
       ]
      },
      {
       "output_type": "stream",
       "stream": "stdout",
       "text": [
        "  Processing RAD-Tag 6070000       \r"
       ]
      },
      {
       "output_type": "stream",
       "stream": "stdout",
       "text": [
        "  Processing RAD-Tag 6080000       \r"
       ]
      },
      {
       "output_type": "stream",
       "stream": "stdout",
       "text": [
        "  Processing RAD-Tag 6090000       \r"
       ]
      },
      {
       "output_type": "stream",
       "stream": "stdout",
       "text": [
        "  Processing RAD-Tag 6100000       \r"
       ]
      },
      {
       "output_type": "stream",
       "stream": "stdout",
       "text": [
        "  Processing RAD-Tag 6110000       \r"
       ]
      },
      {
       "output_type": "stream",
       "stream": "stdout",
       "text": [
        "  Processing RAD-Tag 6120000       \r"
       ]
      },
      {
       "output_type": "stream",
       "stream": "stdout",
       "text": [
        "  Processing RAD-Tag 6130000       \r"
       ]
      },
      {
       "output_type": "stream",
       "stream": "stdout",
       "text": [
        "  Processing RAD-Tag 6140000       \r"
       ]
      },
      {
       "output_type": "stream",
       "stream": "stdout",
       "text": [
        "  Processing RAD-Tag 6150000       \r"
       ]
      },
      {
       "output_type": "stream",
       "stream": "stdout",
       "text": [
        "  Processing RAD-Tag 6160000       \r"
       ]
      },
      {
       "output_type": "stream",
       "stream": "stdout",
       "text": [
        "  Processing RAD-Tag 6170000       \r"
       ]
      },
      {
       "output_type": "stream",
       "stream": "stdout",
       "text": [
        "  Processing RAD-Tag 6180000       \r"
       ]
      },
      {
       "output_type": "stream",
       "stream": "stdout",
       "text": [
        "  Processing RAD-Tag 6190000       \r"
       ]
      },
      {
       "output_type": "stream",
       "stream": "stdout",
       "text": [
        "  Processing RAD-Tag 6200000       \r"
       ]
      },
      {
       "output_type": "stream",
       "stream": "stdout",
       "text": [
        "  Processing RAD-Tag 6210000       \r"
       ]
      },
      {
       "output_type": "stream",
       "stream": "stdout",
       "text": [
        "  Processing RAD-Tag 6220000       \r"
       ]
      },
      {
       "output_type": "stream",
       "stream": "stdout",
       "text": [
        "  Processing RAD-Tag 6230000       \r"
       ]
      },
      {
       "output_type": "stream",
       "stream": "stdout",
       "text": [
        "  Processing RAD-Tag 6240000       \r"
       ]
      },
      {
       "output_type": "stream",
       "stream": "stdout",
       "text": [
        "  Processing RAD-Tag 6250000       \r"
       ]
      },
      {
       "output_type": "stream",
       "stream": "stdout",
       "text": [
        "  Processing RAD-Tag 6260000       \r"
       ]
      },
      {
       "output_type": "stream",
       "stream": "stdout",
       "text": [
        "  Processing RAD-Tag 6270000       \r"
       ]
      },
      {
       "output_type": "stream",
       "stream": "stdout",
       "text": [
        "  Processing RAD-Tag 6280000       \r"
       ]
      },
      {
       "output_type": "stream",
       "stream": "stdout",
       "text": [
        "  Processing RAD-Tag 6290000       \r"
       ]
      },
      {
       "output_type": "stream",
       "stream": "stdout",
       "text": [
        "  Processing RAD-Tag 6300000       \r"
       ]
      },
      {
       "output_type": "stream",
       "stream": "stdout",
       "text": [
        "  Processing RAD-Tag 6310000       \r"
       ]
      },
      {
       "output_type": "stream",
       "stream": "stdout",
       "text": [
        "  Processing RAD-Tag 6320000       \r"
       ]
      },
      {
       "output_type": "stream",
       "stream": "stdout",
       "text": [
        "  Processing RAD-Tag 6330000       \r"
       ]
      },
      {
       "output_type": "stream",
       "stream": "stdout",
       "text": [
        "  Processing RAD-Tag 6340000       \r"
       ]
      },
      {
       "output_type": "stream",
       "stream": "stdout",
       "text": [
        "  Processing RAD-Tag 6350000       \r"
       ]
      },
      {
       "output_type": "stream",
       "stream": "stdout",
       "text": [
        "  Processing RAD-Tag 6360000       \r"
       ]
      },
      {
       "output_type": "stream",
       "stream": "stdout",
       "text": [
        "  Processing RAD-Tag 6370000       \r"
       ]
      },
      {
       "output_type": "stream",
       "stream": "stdout",
       "text": [
        "  Processing RAD-Tag 6380000       \r"
       ]
      },
      {
       "output_type": "stream",
       "stream": "stdout",
       "text": [
        "  Processing RAD-Tag 6390000       \r"
       ]
      },
      {
       "output_type": "stream",
       "stream": "stdout",
       "text": [
        "  Processing RAD-Tag 6400000       \r"
       ]
      },
      {
       "output_type": "stream",
       "stream": "stdout",
       "text": [
        "  Processing RAD-Tag 6410000       \r"
       ]
      },
      {
       "output_type": "stream",
       "stream": "stdout",
       "text": [
        "  Processing RAD-Tag 6420000       \r"
       ]
      },
      {
       "output_type": "stream",
       "stream": "stdout",
       "text": [
        "  Processing RAD-Tag 6430000       \r"
       ]
      },
      {
       "output_type": "stream",
       "stream": "stdout",
       "text": [
        "  Processing RAD-Tag 6440000       \r"
       ]
      },
      {
       "output_type": "stream",
       "stream": "stdout",
       "text": [
        "  Processing RAD-Tag 6450000       \r"
       ]
      },
      {
       "output_type": "stream",
       "stream": "stdout",
       "text": [
        "  Processing RAD-Tag 6460000       \r"
       ]
      },
      {
       "output_type": "stream",
       "stream": "stdout",
       "text": [
        "  Processing RAD-Tag 6470000       \r"
       ]
      },
      {
       "output_type": "stream",
       "stream": "stdout",
       "text": [
        "  Processing RAD-Tag 6480000       \r"
       ]
      },
      {
       "output_type": "stream",
       "stream": "stdout",
       "text": [
        "  Processing RAD-Tag 6490000       \r"
       ]
      },
      {
       "output_type": "stream",
       "stream": "stdout",
       "text": [
        "  Processing RAD-Tag 6500000       \r"
       ]
      },
      {
       "output_type": "stream",
       "stream": "stdout",
       "text": [
        "  Processing RAD-Tag 6510000       \r"
       ]
      },
      {
       "output_type": "stream",
       "stream": "stdout",
       "text": [
        "  Processing RAD-Tag 6520000       \r"
       ]
      },
      {
       "output_type": "stream",
       "stream": "stdout",
       "text": [
        "  Processing RAD-Tag 6530000       \r"
       ]
      },
      {
       "output_type": "stream",
       "stream": "stdout",
       "text": [
        "^C\r\n"
       ]
      }
     ],
     "prompt_number": 6
    },
    {
     "cell_type": "heading",
     "level": 2,
     "metadata": {},
     "source": [
      "Findings"
     ]
    },
    {
     "cell_type": "markdown",
     "metadata": {},
     "source": [
      "As you can see there were 222.1 million sequence reads but only about 15.3 million of them were high enough quality with unambiguous barcodes and RAD-tags. So only 6.89% of the total number of reads were any good from this run. I'm not familiar with the process to know if this is good or bad, though I've heard that on average 15-20% is expected.  "
     ]
    },
    {
     "cell_type": "code",
     "collapsed": false,
     "input": [
      "!head -10 ../samples/process_radtags.log"
     ],
     "language": "python",
     "metadata": {},
     "outputs": [
      {
       "output_type": "stream",
       "stream": "stdout",
       "text": [
        "process_radtags -p ../lane1rad -o ../samples/ -b ./data/decradbarcodes5.txt -e sbfI -r -c -q -i fastq\r\n",
        "process_radtags executed 2015-02-03 17:10:41\r\n",
        "\r\n",
        "File\tRetained Reads\tLow Quality\tAmbiguous Barcodes\tAmbiguous RAD-Tag\tTotal\r\n",
        "lane1_NoIndex_L001_R1_001.fastq\t1058753\t293307\t7909635\t6738305\t16000000\r\n",
        "lane1_NoIndex_L001_R1_002.fastq\t1087791\t269179\t7891081\t6751949\t16000000\r\n",
        "lane1_NoIndex_L001_R1_003.fastq\t1065960\t285280\t7912577\t6736183\t16000000\r\n",
        "lane1_NoIndex_L001_R1_004.fastq\t1088605\t263354\t7905417\t6742624\t16000000\r\n",
        "lane1_NoIndex_L001_R1_005.fastq\t1096018\t260183\t7900613\t6743186\t16000000\r\n",
        "lane1_NoIndex_L001_R1_006.fastq\t1103156\t250731\t7911241\t6734872\t16000000\r\n"
       ]
      }
     ],
     "prompt_number": 16
    },
    {
     "cell_type": "code",
     "collapsed": false,
     "input": [
      "cd ../samples"
     ],
     "language": "python",
     "metadata": {},
     "outputs": [
      {
       "output_type": "stream",
       "stream": "stdout",
       "text": [
        "/Users/srlab/samples\n"
       ]
      }
     ],
     "prompt_number": 17
    },
    {
     "cell_type": "code",
     "collapsed": false,
     "input": [
      "ls"
     ],
     "language": "python",
     "metadata": {},
     "outputs": [
      {
       "output_type": "stream",
       "stream": "stdout",
       "text": [
        "process_radtags.log  sample_CCCTAA.fq     sample_GGTTTG.fq\r\n",
        "sample_AAACGG.fq     sample_CCGAGG.fq     sample_GTAAGT.fq\r\n",
        "sample_AACGTT.fq     sample_CCGCAT.fq     sample_GTATCC.fq\r\n",
        "sample_AACTGA.fq     sample_CCTAAC.fq     sample_GTCATC.fq\r\n",
        "sample_AAGACG.fq     sample_CGAGGC.fq     sample_GTGCCT.fq\r\n",
        "sample_AAGCTA.fq     sample_CGCAGA.fq     sample_GTGTAA.fq\r\n",
        "sample_AATATC.fq     sample_CGCGTG.fq     sample_GTTGGA.fq\r\n",
        "sample_AATGAG.fq     sample_CGGTCC.fq     sample_TAAGCT.fq\r\n",
        "sample_ACAAGA.fq     sample_CGTCTA.fq     sample_TAATTC.fq\r\n",
        "sample_ACAGCG.fq     sample_CGTGAT.fq     sample_TACACA.fq\r\n",
        "sample_ACATAC.fq     sample_CTACAG.fq     sample_TACGGG.fq\r\n",
        "sample_ACCATG.fq     sample_CTCGCC.fq     sample_TAGTAT.fq\r\n",
        "sample_ACCCCC.fq     sample_CTGCGA.fq     sample_TATCAC.fq\r\n",
        "sample_ACTCTT.fq     sample_CTGGTT.fq     sample_TCAAAG.fq\r\n",
        "sample_ACTGGC.fq     sample_CTTATG.fq     sample_TCCTGC.fq\r\n",
        "sample_AGCCAT.fq     sample_CTTTGC.fq     sample_TCGATT.fq\r\n",
        "sample_AGCGCA.fq     sample_GAAATG.fq     sample_TCGCCA.fq\r\n",
        "sample_AGGGTC.fq     sample_GAACCA.fq     sample_TCGGAC.fq\r\n",
        "sample_AGGTGT.fq     sample_GACGAC.fq     sample_TCTCGG.fq\r\n",
        "sample_AGTAGG.fq     sample_GACTCT.fq     sample_TCTTCT.fq\r\n",
        "sample_AGTTAA.fq     sample_GAGAGA.fq     sample_TGAACC.fq\r\n",
        "sample_ATAGTA.fq     sample_GATCGT.fq     sample_TGACAA.fq\r\n",
        "sample_ATCAAA.fq     sample_GCAGAT.fq     sample_TGCCCG.fq\r\n",
        "sample_ATGCAC.fq     sample_GCATGG.fq     sample_TGCTTA.fq\r\n",
        "sample_ATGTTG.fq     sample_GCCGTA.fq     sample_TGGGGA.fq\r\n",
        "sample_ATTCCG.fq     sample_GCGACC.fq     sample_TTATGA.fq\r\n",
        "sample_CAAAAA.fq     sample_GCGCTG.fq     sample_TTCCGT.fq\r\n",
        "sample_CAATCG.fq     sample_GCTCAA.fq     sample_TTCTAG.fq\r\n",
        "sample_CACCTC.fq     sample_GGACTT.fq     sample_TTGAGC.fq\r\n",
        "sample_CAGGCA.fq     sample_GGCAAG.fq     sample_TTTAAT.fq\r\n",
        "sample_CATACT.fq     sample_GGGCGC.fq     sample_TTTGTC.fq\r\n",
        "sample_CCATTT.fq     sample_GGGGCG.fq\r\n",
        "sample_CCCGGT.fq     sample_GGTACA.fq\r\n"
       ]
      }
     ],
     "prompt_number": 18
    }
   ],
   "metadata": {}
  }
 ]
}