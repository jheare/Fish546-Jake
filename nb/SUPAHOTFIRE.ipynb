{
 "metadata": {
  "name": "",
  "signature": "sha256:3cd086889c01e6bf8b1efdbdea2ed6f9fbafc3730a01ba88a73fc0434e90aa19"
 },
 "nbformat": 3,
 "nbformat_minor": 0,
 "worksheets": [
  {
   "cells": [
    {
     "cell_type": "code",
     "collapsed": false,
     "input": [
      "pwd"
     ],
     "language": "python",
     "metadata": {},
     "outputs": [
      {
       "metadata": {},
       "output_type": "pyout",
       "prompt_number": 10,
       "text": [
        "u'/Users/srlab/samples'"
       ]
      }
     ],
     "prompt_number": 10
    },
    {
     "cell_type": "code",
     "collapsed": false,
     "input": [
      "cd ../ustacks"
     ],
     "language": "python",
     "metadata": {},
     "outputs": [
      {
       "output_type": "stream",
       "stream": "stdout",
       "text": [
        "/Users/srlab/ustacks\n"
       ]
      }
     ],
     "prompt_number": 11
    },
    {
     "cell_type": "code",
     "collapsed": false,
     "input": [
      "ls"
     ],
     "language": "python",
     "metadata": {},
     "outputs": [
      {
       "output_type": "stream",
       "stream": "stdout",
       "text": [
        "batch_1.catalog.alleles.tsv  sample_CACCTC.tags.tsv\r\n",
        "batch_1.catalog.snps.tsv     sample_CAGGCA.alleles.tsv\r\n",
        "batch_1.catalog.tags.tsv     sample_CAGGCA.snps.tsv\r\n",
        "sample_ACATAC.alleles.tsv    sample_CAGGCA.tags.tsv\r\n",
        "sample_ACATAC.snps.tsv       sample_CCCTAA.alleles.tsv\r\n",
        "sample_ACATAC.tags.tsv       sample_CCCTAA.snps.tsv\r\n",
        "sample_ACCATG.alleles.tsv    sample_CCCTAA.tags.tsv\r\n",
        "sample_ACCATG.snps.tsv       sample_GCTCAA.alleles.tsv\r\n",
        "sample_ACCATG.tags.tsv       sample_GCTCAA.snps.tsv\r\n",
        "sample_ACCCCC.alleles.tsv    sample_GCTCAA.tags.tsv\r\n",
        "sample_ACCCCC.snps.tsv       sample_GTGTAA.alleles.tsv\r\n",
        "sample_ACCCCC.tags.tsv       sample_GTGTAA.snps.tsv\r\n",
        "sample_CAAAAA.alleles.tsv    sample_GTGTAA.tags.tsv\r\n",
        "sample_CAAAAA.snps.tsv       sample_TACACA.alleles.tsv\r\n",
        "sample_CAAAAA.tags.tsv       sample_TACACA.snps.tsv\r\n",
        "sample_CACCTC.alleles.tsv    sample_TACACA.tags.tsv\r\n",
        "sample_CACCTC.snps.tsv\r\n"
       ]
      }
     ],
     "prompt_number": 17
    },
    {
     "cell_type": "code",
     "collapsed": false,
     "input": [
      "rm sample_AAACGG.tags.tsv"
     ],
     "language": "python",
     "metadata": {},
     "outputs": [],
     "prompt_number": 15
    }
   ],
   "metadata": {}
  }
 ]
}