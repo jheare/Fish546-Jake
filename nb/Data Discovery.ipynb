{
 "metadata": {
  "name": "",
  "signature": "sha256:a5034f437ee78ab04e5dad8f58945dafb6f51ed813cc787288ef904613382e91"
 },
 "nbformat": 3,
 "nbformat_minor": 0,
 "worksheets": [
  {
   "cells": [
    {
     "cell_type": "code",
     "collapsed": false,
     "input": [
      "pwd"
     ],
     "language": "python",
     "metadata": {},
     "outputs": [
      {
       "metadata": {},
       "output_type": "pyout",
       "prompt_number": 1,
       "text": [
        "u'/Users/srlab/Fish546-Jake/nb'"
       ]
      }
     ],
     "prompt_number": 1
    },
    {
     "cell_type": "code",
     "collapsed": false,
     "input": [
      "cd ../"
     ],
     "language": "python",
     "metadata": {},
     "outputs": [
      {
       "output_type": "stream",
       "stream": "stdout",
       "text": [
        "/Users/srlab/Fish546-Jake\n"
       ]
      }
     ],
     "prompt_number": 2
    },
    {
     "cell_type": "code",
     "collapsed": false,
     "input": [
      "cd ../ustacks"
     ],
     "language": "python",
     "metadata": {},
     "outputs": [
      {
       "output_type": "stream",
       "stream": "stdout",
       "text": [
        "/Users/srlab/ustacks\n"
       ]
      }
     ],
     "prompt_number": 3
    },
    {
     "cell_type": "code",
     "collapsed": false,
     "input": [
      "ls"
     ],
     "language": "python",
     "metadata": {},
     "outputs": [
      {
       "output_type": "stream",
       "stream": "stdout",
       "text": [
        "batch_1.catalog.alleles.tsv   sample_CAAAAA.tags.tsv\r\n",
        "batch_1.catalog.snps.tsv      sample_CACCTC.alleles.tsv\r\n",
        "batch_1.catalog.tags.tsv      sample_CACCTC.matches.tsv\r\n",
        "batch_1.haplotypes.tsv        sample_CACCTC.snps.tsv\r\n",
        "batch_1.hapstats.tsv          sample_CACCTC.tags.tsv\r\n",
        "batch_1.markers.tsv           sample_CAGGCA.alleles.tsv\r\n",
        "batch_1.phistats.tsv          sample_CAGGCA.matches.tsv\r\n",
        "batch_1.populations.log       sample_CAGGCA.snps.tsv\r\n",
        "batch_1.sumstats.tsv          sample_CAGGCA.tags.tsv\r\n",
        "batch_1.sumstats_summary.tsv  sample_CCCTAA.alleles.tsv\r\n",
        "batch_1.vcf                   sample_CCCTAA.matches.tsv\r\n",
        "sample_ACATAC.alleles.tsv     sample_CCCTAA.snps.tsv\r\n",
        "sample_ACATAC.matches.tsv     sample_CCCTAA.tags.tsv\r\n",
        "sample_ACATAC.snps.tsv        sample_GCTCAA.alleles.tsv\r\n",
        "sample_ACATAC.tags.tsv        sample_GCTCAA.matches.tsv\r\n",
        "sample_ACCATG.alleles.tsv     sample_GCTCAA.snps.tsv\r\n",
        "sample_ACCATG.matches.tsv     sample_GCTCAA.tags.tsv\r\n",
        "sample_ACCATG.snps.tsv        sample_GTGTAA.alleles.tsv\r\n",
        "sample_ACCATG.tags.tsv        sample_GTGTAA.matches.tsv\r\n",
        "sample_ACCCCC.alleles.tsv     sample_GTGTAA.snps.tsv\r\n",
        "sample_ACCCCC.matches.tsv     sample_GTGTAA.tags.tsv\r\n",
        "sample_ACCCCC.snps.tsv        sample_TACACA.alleles.tsv\r\n",
        "sample_ACCCCC.tags.tsv        sample_TACACA.matches.tsv\r\n",
        "sample_CAAAAA.alleles.tsv     sample_TACACA.snps.tsv\r\n",
        "sample_CAAAAA.matches.tsv     sample_TACACA.tags.tsv\r\n",
        "sample_CAAAAA.snps.tsv\r\n"
       ]
      }
     ],
     "prompt_number": 4
    },
    {
     "cell_type": "code",
     "collapsed": false,
     "input": [
      "!head ../ustacks/sample_ACATAC.snps.tsv"
     ],
     "language": "python",
     "metadata": {},
     "outputs": [
      {
       "output_type": "stream",
       "stream": "stdout",
       "text": [
        "0\t5\t5\t22\t-60.2326\tG\tA\t\t\r\n",
        "0\t5\t18\t54\t-13.1833\tC\tT\t\t\r\n",
        "0\t5\t18\t89\t-10.6512\tT\tC\t\t\r\n",
        "0\t5\t74\t78\t-6.08633\tG\tA\t\t\r\n",
        "0\t5\t161\t25\t-158.032\tG\tC\t\t\r\n",
        "0\t5\t161\t93\t-158.032\tA\tT\t\t\r\n",
        "0\t5\t171\t65\t-10.6512\tT\tG\t\t\r\n",
        "0\t5\t171\t67\t-10.6512\tA\tG\t\t\r\n",
        "0\t5\t184\t12\t-6.44833\tT\tC\t\t\r\n",
        "0\t5\t232\t7\t-5.61622\tA\tG\t\t\r\n"
       ]
      }
     ],
     "prompt_number": 7
    },
    {
     "cell_type": "code",
     "collapsed": false,
     "input": [
      "!head batch_1.sumstats_summary.tsv"
     ],
     "language": "python",
     "metadata": {},
     "outputs": [
      {
       "output_type": "stream",
       "stream": "stdout",
       "text": [
        "# Variant positions\r\n",
        "# Pop ID\tPrivate\tNum Indv\tVar\tStdErr\tP\tVar\tStdErr\tObs Het\tVar\tStdErr\tObs Hom\tVar\tStdErr\tExp Het\tVar\tStdErr\tExp Hom\tVar\tStdErr\tPi\tVar\tStdErr\tFis\tVar\tStdErr\r\n",
        "1\t0\t4.95672\t8.1289\t0.0354457\t0.729945\t0.0263226\t0.00201703\t0.465817\t0.0976917\t0.00388577\t0.534183\t0.0976917\t0.00388577\t0.341613\t0.0196629\t0.0017433\t0.658387\t0.0196629\t0.0017433\t0.46556\t0.0816128\t0.00355162\t0.000102554\t0.0570581\t0.0354457\r\n",
        "# All positions (variant and fixed)\r\n",
        "# Pop ID\tPrivate\tSites\tVariant Sites\tPolymorphic Sites\t% Polymorphic Loci\tNum Indv\tVar\tStdErr\tP\tVar\tStdErr\tObs Het\tVar\tStdErr\tObs Hom\tVar\tStdErr\tExp Het\tVar\tStdErr\tExp Hom\tVar\tStdErr\tPi\tVar\tStdErr\tFis\tVar\tStdErr\r\n",
        "1\t0\t2727934\t6470\t6470\t0.237176\t2.94799\t6.62517\t0.00155841\t0.999359\t0.000234982\t9.28112e-06\t0.0011048\t0.000745081\t1.65267e-05\t0.998895\t0.000745081\t1.65267e-05\t0.000810224\t0.000322756\t1.08773e-05\t0.99919\t0.000322756\t1.08773e-05\t0.0011042\t0.000706386\t1.60918e-05\t2.43234e-07\t0.000135307\t0.00155841\r\n"
       ]
      }
     ],
     "prompt_number": 10
    },
    {
     "cell_type": "code",
     "collapsed": false,
     "input": [
      "!wc -l ../ustacks/sample_ACATAC.snps.tsv"
     ],
     "language": "python",
     "metadata": {},
     "outputs": [
      {
       "output_type": "stream",
       "stream": "stdout",
       "text": [
        "    2166 ../ustacks/sample_ACATAC.snps.tsv\r\n"
       ]
      }
     ],
     "prompt_number": 11
    },
    {
     "cell_type": "code",
     "collapsed": false,
     "input": [
      "!export_sql.pl -D ustacks -b 1 -f ./data/sample_ACATAC_snps.tsv -o tsv "
     ],
     "language": "python",
     "metadata": {},
     "outputs": [
      {
       "output_type": "stream",
       "stream": "stdout",
       "text": [
        "Can't locate Spreadsheet/WriteExcel.pm in @INC (@INC contains: /Library/Perl/5.16/darwin-thread-multi-2level /Library/Perl/5.16 /Network/Library/Perl/5.16/darwin-thread-multi-2level /Network/Library/Perl/5.16 /Library/Perl/Updates/5.16.2 /System/Library/Perl/5.16/darwin-thread-multi-2level /System/Library/Perl/5.16 /System/Library/Perl/Extras/5.16/darwin-thread-multi-2level /System/Library/Perl/Extras/5.16 .) at /usr/local/bioinformatics/stacks/bin/export_sql.pl line 31.\r\n",
        "BEGIN failed--compilation aborted at /usr/local/bioinformatics/stacks/bin/export_sql.pl line 31.\r\n"
       ]
      }
     ],
     "prompt_number": 10
    }
   ],
   "metadata": {}
  }
 ]
}