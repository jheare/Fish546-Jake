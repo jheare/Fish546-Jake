{
 "metadata": {
  "name": "",
  "signature": "sha256:a55df10136ca0d1c3ee29da8907b534539d46d7851099d9d46b8c85ccc29e3df"
 },
 "nbformat": 3,
 "nbformat_minor": 0,
 "worksheets": [
  {
   "cells": [
    {
     "cell_type": "code",
     "collapsed": false,
     "input": [
      "pwd"
     ],
     "language": "python",
     "metadata": {},
     "outputs": [
      {
       "metadata": {},
       "output_type": "pyout",
       "prompt_number": 1,
       "text": [
        "u'/Users/srlab/Fish546-Jake/nb'"
       ]
      }
     ],
     "prompt_number": 1
    },
    {
     "cell_type": "code",
     "collapsed": false,
     "input": [
      "cd ../"
     ],
     "language": "python",
     "metadata": {},
     "outputs": [
      {
       "output_type": "stream",
       "stream": "stdout",
       "text": [
        "/Users/srlab/Fish546-Jake\n"
       ]
      }
     ],
     "prompt_number": 2
    },
    {
     "cell_type": "code",
     "collapsed": false,
     "input": [
      "cd ../ustacks"
     ],
     "language": "python",
     "metadata": {},
     "outputs": [
      {
       "output_type": "stream",
       "stream": "stdout",
       "text": [
        "/Users/srlab/ustacks\n"
       ]
      }
     ],
     "prompt_number": 3
    },
    {
     "cell_type": "code",
     "collapsed": false,
     "input": [
      "ls"
     ],
     "language": "python",
     "metadata": {},
     "outputs": [
      {
       "output_type": "stream",
       "stream": "stdout",
       "text": [
        "batch_1.catalog.alleles.tsv   sample_CAAAAA.tags.tsv\r\n",
        "batch_1.catalog.snps.tsv      sample_CACCTC.alleles.tsv\r\n",
        "batch_1.catalog.tags.tsv      sample_CACCTC.matches.tsv\r\n",
        "batch_1.haplotypes.tsv        sample_CACCTC.snps.tsv\r\n",
        "batch_1.hapstats.tsv          sample_CACCTC.tags.tsv\r\n",
        "batch_1.markers.tsv           sample_CAGGCA.alleles.tsv\r\n",
        "batch_1.phistats.tsv          sample_CAGGCA.matches.tsv\r\n",
        "batch_1.populations.log       sample_CAGGCA.snps.tsv\r\n",
        "batch_1.sumstats.tsv          sample_CAGGCA.tags.tsv\r\n",
        "batch_1.sumstats_summary.tsv  sample_CCCTAA.alleles.tsv\r\n",
        "batch_1.vcf                   sample_CCCTAA.matches.tsv\r\n",
        "sample_ACATAC.alleles.tsv     sample_CCCTAA.snps.tsv\r\n",
        "sample_ACATAC.matches.tsv     sample_CCCTAA.tags.tsv\r\n",
        "sample_ACATAC.snps.tsv        sample_GCTCAA.alleles.tsv\r\n",
        "sample_ACATAC.tags.tsv        sample_GCTCAA.matches.tsv\r\n",
        "sample_ACCATG.alleles.tsv     sample_GCTCAA.snps.tsv\r\n",
        "sample_ACCATG.matches.tsv     sample_GCTCAA.tags.tsv\r\n",
        "sample_ACCATG.snps.tsv        sample_GTGTAA.alleles.tsv\r\n",
        "sample_ACCATG.tags.tsv        sample_GTGTAA.matches.tsv\r\n",
        "sample_ACCCCC.alleles.tsv     sample_GTGTAA.snps.tsv\r\n",
        "sample_ACCCCC.matches.tsv     sample_GTGTAA.tags.tsv\r\n",
        "sample_ACCCCC.snps.tsv        sample_TACACA.alleles.tsv\r\n",
        "sample_ACCCCC.tags.tsv        sample_TACACA.matches.tsv\r\n",
        "sample_CAAAAA.alleles.tsv     sample_TACACA.snps.tsv\r\n",
        "sample_CAAAAA.matches.tsv     sample_TACACA.tags.tsv\r\n",
        "sample_CAAAAA.snps.tsv\r\n"
       ]
      }
     ],
     "prompt_number": 4
    },
    {
     "cell_type": "code",
     "collapsed": false,
     "input": [
      "!head sample_ACATAC.matches.tsv"
     ],
     "language": "python",
     "metadata": {},
     "outputs": [
      {
       "output_type": "stream",
       "stream": "stdout",
       "text": [
        "0\t1\t6208\t5\t1\tconsensus\t27\r\n",
        "0\t1\t8754\t5\t2\tCT\t24\r\n",
        "0\t1\t9201\t5\t3\tconsensus\t58\r\n",
        "0\t1\t16461\t5\t4\tconsensus\t29\r\n",
        "0\t1\t5430\t5\t5\tA\t29\r\n",
        "0\t1\t5430\t5\t5\tG\t45\r\n",
        "0\t1\t2759\t5\t6\tconsensus\t78\r\n",
        "0\t1\t3773\t5\t7\tconsensus\t97\r\n",
        "0\t1\t3099\t5\t8\tconsensus\t24\r\n",
        "0\t1\t19840\t5\t9\tconsensus\t3\r\n"
       ]
      }
     ],
     "prompt_number": 8
    },
    {
     "cell_type": "code",
     "collapsed": false,
     "input": [
      "!head batch_1.sumstats_summary.tsv"
     ],
     "language": "python",
     "metadata": {},
     "outputs": [
      {
       "output_type": "stream",
       "stream": "stdout",
       "text": [
        "# Variant positions\r\n",
        "# Pop ID\tPrivate\tNum Indv\tVar\tStdErr\tP\tVar\tStdErr\tObs Het\tVar\tStdErr\tObs Hom\tVar\tStdErr\tExp Het\tVar\tStdErr\tExp Hom\tVar\tStdErr\tPi\tVar\tStdErr\tFis\tVar\tStdErr\r\n",
        "1\t0\t4.95672\t8.1289\t0.0354457\t0.729945\t0.0263226\t0.00201703\t0.465817\t0.0976917\t0.00388577\t0.534183\t0.0976917\t0.00388577\t0.341613\t0.0196629\t0.0017433\t0.658387\t0.0196629\t0.0017433\t0.46556\t0.0816128\t0.00355162\t0.000102554\t0.0570581\t0.0354457\r\n",
        "# All positions (variant and fixed)\r\n",
        "# Pop ID\tPrivate\tSites\tVariant Sites\tPolymorphic Sites\t% Polymorphic Loci\tNum Indv\tVar\tStdErr\tP\tVar\tStdErr\tObs Het\tVar\tStdErr\tObs Hom\tVar\tStdErr\tExp Het\tVar\tStdErr\tExp Hom\tVar\tStdErr\tPi\tVar\tStdErr\tFis\tVar\tStdErr\r\n",
        "1\t0\t2727934\t6470\t6470\t0.237176\t2.94799\t6.62517\t0.00155841\t0.999359\t0.000234982\t9.28112e-06\t0.0011048\t0.000745081\t1.65267e-05\t0.998895\t0.000745081\t1.65267e-05\t0.000810224\t0.000322756\t1.08773e-05\t0.99919\t0.000322756\t1.08773e-05\t0.0011042\t0.000706386\t1.60918e-05\t2.43234e-07\t0.000135307\t0.00155841\r\n"
       ]
      }
     ],
     "prompt_number": 10
    },
    {
     "cell_type": "code",
     "collapsed": false,
     "input": [
      "cd ../"
     ],
     "language": "python",
     "metadata": {},
     "outputs": [
      {
       "output_type": "stream",
       "stream": "stdout",
       "text": [
        "/Users/srlab\n"
       ]
      }
     ],
     "prompt_number": 11
    },
    {
     "cell_type": "code",
     "collapsed": false,
     "input": [
      "!scp -r ~/ustacks JHeareLaptop:~/Documents/GitHub/Raddata"
     ],
     "language": "python",
     "metadata": {},
     "outputs": [
      {
       "output_type": "stream",
       "stream": "stdout",
       "text": [
        "ssh: Could not resolve hostname JHeareLaptop: nodename nor servname provided, or not known\r",
        "\r\n",
        "lost connection\r\n"
       ]
      }
     ],
     "prompt_number": 14
    }
   ],
   "metadata": {}
  }
 ]
}