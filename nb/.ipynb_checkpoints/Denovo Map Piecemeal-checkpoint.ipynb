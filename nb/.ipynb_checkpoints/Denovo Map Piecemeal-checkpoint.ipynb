{
 "metadata": {
  "name": "",
  "signature": "sha256:252bacd9c132f6df8e2019a11ab767a4e87f3a0d6e02fed63ff661e17884b411"
 },
 "nbformat": 3,
 "nbformat_minor": 0,
 "worksheets": [
  {
   "cells": [
    {
     "cell_type": "code",
     "collapsed": false,
     "input": [
      "pwd"
     ],
     "language": "python",
     "metadata": {},
     "outputs": [
      {
       "metadata": {},
       "output_type": "pyout",
       "prompt_number": 2,
       "text": [
        "u'/Users/srlab/Fish546-Jake/nb'"
       ]
      }
     ],
     "prompt_number": 2
    },
    {
     "cell_type": "code",
     "collapsed": false,
     "input": [
      "cd ../"
     ],
     "language": "python",
     "metadata": {},
     "outputs": [
      {
       "output_type": "stream",
       "stream": "stdout",
       "text": [
        "/Users/srlab/Fish546-Jake\n"
       ]
      }
     ],
     "prompt_number": 6
    },
    {
     "cell_type": "code",
     "collapsed": false,
     "input": [
      "mkdir ../ustacks"
     ],
     "language": "python",
     "metadata": {},
     "outputs": [],
     "prompt_number": 7
    },
    {
     "cell_type": "code",
     "collapsed": false,
     "input": [
      "mv ../samples/process_radtags.log ./data/"
     ],
     "language": "python",
     "metadata": {},
     "outputs": [],
     "prompt_number": 10
    },
    {
     "cell_type": "code",
     "collapsed": false,
     "input": [
      "!for f in ../samples/*.fastq;do ustacks -t fastq -f ../samples/* -o ../ustacks -i 1 -d -r -m 3 -p 15 $f; done"
     ],
     "language": "python",
     "metadata": {},
     "outputs": [
      {
       "output_type": "stream",
       "stream": "stdout",
       "text": [
        "Min depth of coverage to create a stack: 3\r\n",
        "Max distance allowed between stacks: 2\r\n",
        "Max distance allowed to align secondary reads: 4\r\n",
        "Max number of stacks allowed per de novo locus: 3\r\n",
        "Deleveraging algorithm: enabled\r\n",
        "Removal algorithm: enabled\r\n",
        "Model type: SNP\r\n",
        "Alpha significance level for model: 0.05\r\n",
        "Parsing ../samples/sample_AAACGG.fq\r\n",
        "  Loading RAD-Tag 0       \r",
        "Loaded 4597 RAD-Tags; inserted 3747 elements into the RAD-Tags hash map.\r\n",
        "  0 reads contained uncalled nucleotides that were modified.\r\n",
        "  Mean coverage depth is 4; Std Dev: 3.12529 Max: 33\r\n",
        "Coverage mean: 4; stdev: 3.12529\r\n",
        "Deleveraging trigger: 7; Removal trigger: 10\r\n",
        "Calculating distance for removing repetitive stacks.\r\n",
        "  Distance allowed between stacks: 1\r\n",
        "  Using a k-mer length of 47\r\n",
        "  Number of kmers per sequence: 49\r\n",
        "  Miniumum number of k-mers to define a match: 2\r\n",
        "Removing repetitive stacks.\r\n",
        "  Removed 9 stacks.\r\n",
        "  124 stacks remain for merging.\r\n",
        "Calculating distance between stacks...\r\n",
        "  Distance allowed between stacks: 2\r\n",
        "  Using a k-mer length of 31\r\n",
        "  Number of kmers per sequence: 65\r\n",
        "  Miniumum number of k-mers to define a match: 3\r\n",
        "Merging stacks, maximum allowed distance: 2 nucleotide(s)\r\n",
        "  124 stacks merged into 115 stacks; deleveraged 0 stacks; removed 0 stacks.\r\n",
        "  Mean merged coverage depth is 4.50435; Std Dev: 6.23005; Max: 63\r\n",
        "Merging remainder radtags\r\n",
        "  4079 remainder sequences left to merge.\r\n",
        "  Distance allowed between stacks: 4\r\n",
        "  Using a k-mer length of 19\r\n",
        "  Number of kmers per sequence: 77\r\n",
        "  Miniumum number of k-mers to define a match: 1\r\n"
       ]
      },
      {
       "output_type": "stream",
       "stream": "stdout",
       "text": [
        "  Matched 310 remainder reads; unable to match 3769 remainder reads.\r\n",
        "Number of utilized reads: 828\r\n",
        "Writing results\r\n",
        "  Refetching sequencing IDs from ../samples/sample_AAACGG.fq... read 4597 sequence IDs.\r\n"
       ]
      }
     ],
     "prompt_number": 17
    }
   ],
   "metadata": {}
  }
 ]
}