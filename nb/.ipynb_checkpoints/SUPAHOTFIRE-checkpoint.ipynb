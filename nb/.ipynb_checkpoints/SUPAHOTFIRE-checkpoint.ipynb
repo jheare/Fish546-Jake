{
 "metadata": {
  "name": "",
  "signature": "sha256:01566a6742d90a0c17314980a13b4fe318a815628e7b810007e8e858782aa263"
 },
 "nbformat": 3,
 "nbformat_minor": 0,
 "worksheets": [
  {
   "cells": [
    {
     "cell_type": "code",
     "collapsed": false,
     "input": [
      "pwd"
     ],
     "language": "python",
     "metadata": {},
     "outputs": [
      {
       "metadata": {},
       "output_type": "pyout",
       "prompt_number": 1,
       "text": [
        "u'/Users/srlab/Fish546-Jake/nb'"
       ]
      }
     ],
     "prompt_number": 1
    },
    {
     "cell_type": "code",
     "collapsed": false,
     "input": [
      "cd ../data"
     ],
     "language": "python",
     "metadata": {},
     "outputs": [
      {
       "output_type": "stream",
       "stream": "stdout",
       "text": [
        "/Users/srlab/Fish546-Jake/data\n"
       ]
      }
     ],
     "prompt_number": 4
    },
    {
     "cell_type": "code",
     "collapsed": false,
     "input": [
      "ls"
     ],
     "language": "python",
     "metadata": {},
     "outputs": [
      {
       "output_type": "stream",
       "stream": "stdout",
       "text": [
        "96_SbfI_RAD_adapter_sequences - By Row.csv\r\n",
        "Untitled0.ipynb\r\n",
        "barcode_nospace\r\n",
        "barcode_nospace.txt\r\n",
        "barcodesnew.txt\r\n",
        "codeid.txt\r\n",
        "decradbarcodes1.TSV\r\n",
        "decradbarcodes1.csv\r\n",
        "decradbarcodes1.tab\r\n",
        "decradbarcodes1.txt\r\n",
        "decradbarcodes2.txt\r\n",
        "decradbarcodes3.txt\r\n",
        "decradbarcodes5.txt\r\n",
        "decradbarcodes6.txt\r\n",
        "id\r\n",
        "jhtest.txt\r\n",
        "process_radtags.log\r\n",
        "srtest\r\n"
       ]
      }
     ],
     "prompt_number": 28
    },
    {
     "cell_type": "code",
     "collapsed": false,
     "input": [
      "!awk '{print $1}' decradbarcodes1.txt > barcode"
     ],
     "language": "python",
     "metadata": {},
     "outputs": [],
     "prompt_number": 46
    },
    {
     "cell_type": "code",
     "collapsed": false,
     "input": [
      "!head barcode"
     ],
     "language": "python",
     "metadata": {},
     "outputs": [
      {
       "output_type": "stream",
       "stream": "stdout",
       "text": [
        "AAACGG\r\n",
        "AACGTT\r\n",
        "AACTGA\r\n",
        "AAGACG\r\n",
        "AAGCTA\r\n",
        "AATATC\r\n",
        "AATGAG\r\n",
        "ACAAGA\r\n",
        "ACAGCG\r\n",
        "ACATAC\r\n"
       ]
      }
     ],
     "prompt_number": 47
    },
    {
     "cell_type": "code",
     "collapsed": false,
     "input": [
      "!cat barcode | cut -c 1- > barcode_nospace"
     ],
     "language": "python",
     "metadata": {},
     "outputs": [],
     "prompt_number": 59
    },
    {
     "cell_type": "code",
     "collapsed": false,
     "input": [
      "!awk '{print $2}' decradbarcodes1.txt > id"
     ],
     "language": "python",
     "metadata": {},
     "outputs": [],
     "prompt_number": 48
    },
    {
     "cell_type": "code",
     "collapsed": false,
     "input": [
      "!head id"
     ],
     "language": "python",
     "metadata": {},
     "outputs": [
      {
       "output_type": "stream",
       "stream": "stdout",
       "text": [
        "HL01\r\n",
        "HL09\r\n",
        "HL17\r\n",
        "HL25\r\n",
        "NF01\r\n",
        "NF09\r\n",
        "NF17\r\n",
        "NF25\r\n",
        "SN01\r\n",
        "SN09\r\n"
       ]
      }
     ],
     "prompt_number": 49
    },
    {
     "cell_type": "code",
     "collapsed": false,
     "input": [
      "!cat id | cut -c 1- > id_nospace"
     ],
     "language": "python",
     "metadata": {},
     "outputs": [],
     "prompt_number": 56
    },
    {
     "cell_type": "code",
     "collapsed": false,
     "input": [
      "!paste barcode_nospace id_nospace > barcodenew2.txt"
     ],
     "language": "python",
     "metadata": {},
     "outputs": [],
     "prompt_number": 60
    },
    {
     "cell_type": "code",
     "collapsed": false,
     "input": [
      "!head barcodenew2.txt"
     ],
     "language": "python",
     "metadata": {},
     "outputs": [
      {
       "output_type": "stream",
       "stream": "stdout",
       "text": [
        "AAACGG\tHL01\r\n",
        "AACGTT\tHL09\r\n",
        "AACTGA\tHL17\r\n",
        "AAGACG\tHL25\r\n",
        "AAGCTA\tNF01\r\n",
        "AATATC\tNF09\r\n",
        "AATGAG\tNF17\r\n",
        "ACAAGA\tNF25\r\n",
        "ACAGCG\tSN01\r\n",
        "ACATAC\tSN09\r\n"
       ]
      }
     ],
     "prompt_number": 61
    },
    {
     "cell_type": "code",
     "collapsed": false,
     "input": [
      "cd ../"
     ],
     "language": "python",
     "metadata": {},
     "outputs": [
      {
       "output_type": "stream",
       "stream": "stdout",
       "text": [
        "/Users/srlab/Fish546-Jake\n"
       ]
      }
     ],
     "prompt_number": 64
    },
    {
     "cell_type": "code",
     "collapsed": false,
     "input": [
      "!process_radtags -p ../lane1rad -o ../samples/ -b ./data/barcodenew2.txt -e sbfI -r -c -q -i fastq"
     ],
     "language": "python",
     "metadata": {},
     "outputs": [
      {
       "output_type": "stream",
       "stream": "stdout",
       "text": [
        "Using Phred+33 encoding for quality scores.\r\n",
        "Found 14 input file(s).\r\n",
        "Searching for single-end, inlined barcodes.\r\n",
        "Invalid barcode: 'AAACGG'\r\n"
       ]
      }
     ],
     "prompt_number": 65
    }
   ],
   "metadata": {}
  }
 ]
}