{
 "metadata": {
  "name": "",
  "signature": "sha256:a035a659e02a10dac63f28b1a140053de6b3cfaf497591bb07d94b76637805f3"
 },
 "nbformat": 3,
 "nbformat_minor": 0,
 "worksheets": [
  {
   "cells": [
    {
     "cell_type": "markdown",
     "metadata": {},
     "source": [
      "After getting data back from Sequencing we need to process the RAD tags. I will be using iplant Discovery Environment to handle this. \n"
     ]
    },
    {
     "cell_type": "markdown",
     "metadata": {},
     "source": [
      "First I need to import my data from its host URL. I'm using the [olyo-rad-01.fastq](http://eagle.fish.washington.edu/trilobite/Crassostrea_gigas_HTSdata/batterbox/RADoly_01/olyo-rad-01.fastq) file from Eagle."
     ]
    },
    {
     "cell_type": "markdown",
     "metadata": {},
     "source": [
      "In the iplant Discovery Environment, navigate to the data button, click upload in the top right corner of the pop up and import from the URL provided. "
     ]
    },
    {
     "cell_type": "code",
     "collapsed": false,
     "input": [
      "ls data"
     ],
     "language": "python",
     "metadata": {},
     "outputs": [
      {
       "output_type": "stream",
       "stream": "stdout",
       "text": [
        "96_SbfI_RAD_adapter_sequences - By Row.csv\r\n",
        "decradbarcodes1.csv\r\n"
       ]
      }
     ],
     "prompt_number": 6
    },
    {
     "cell_type": "code",
     "collapsed": false,
     "input": [
      "!process_radtags -f http://owl.fish.washington.edu/nightingales/O_lurida/lane1_NoIndex_L001_R1_001.fastq.gz -o ./samples/ -b ./data/decradbarcodes1.csv -e sbfI -r -c -q -i fastq"
     ],
     "language": "python",
     "metadata": {},
     "outputs": [
      {
       "output_type": "stream",
       "stream": "stdout",
       "text": [
        "Using Phred+33 encoding for quality scores.\r\n",
        "Found 1 input file(s).\r\n",
        "Searching for single-end, inlined barcodes.\r\n",
        "Invalid barcode: '% more barcodes_lane1'\r\n"
       ]
      }
     ],
     "prompt_number": 10
    }
   ],
   "metadata": {}
  }
 ]
}