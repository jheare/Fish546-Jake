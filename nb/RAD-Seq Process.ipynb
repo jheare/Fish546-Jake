{
 "metadata": {
  "name": ""
 },
 "nbformat": 3,
 "nbformat_minor": 0,
 "worksheets": [
  {
   "cells": [
    {
     "cell_type": "markdown",
     "metadata": {},
     "source": [
      "After getting data back from Sequencing we need to process the RAD tags. I will be using iplant Discovery Environment to handle this. \n"
     ]
    },
    {
     "cell_type": "markdown",
     "metadata": {},
     "source": [
      "First I need to import my data from its host URL. I'm using the [olyo-rad-01.fastq](http://eagle.fish.washington.edu/trilobite/Crassostrea_gigas_HTSdata/batterbox/RADoly_01/olyo-rad-01.fastq) file from Eagle."
     ]
    },
    {
     "cell_type": "markdown",
     "metadata": {},
     "source": [
      "In the iplant Discovery Environment, navigate to the data button, click upload in the top right corner of the pop up and import from the URL provided. "
     ]
    },
    {
     "cell_type": "code",
     "collapsed": false,
     "input": [],
     "language": "python",
     "metadata": {},
     "outputs": []
    }
   ],
   "metadata": {}
  }
 ]
}