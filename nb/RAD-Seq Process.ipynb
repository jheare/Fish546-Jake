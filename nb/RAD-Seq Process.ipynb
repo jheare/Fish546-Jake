{
 "metadata": {
  "name": "",
  "signature": "sha256:c07faaf97bb55c6e8eff9f86e37657b93d0a0baa2a9cd555e5f86b9a31d6d02b"
 },
 "nbformat": 3,
 "nbformat_minor": 0,
 "worksheets": [
  {
   "cells": [
    {
     "cell_type": "markdown",
     "metadata": {},
     "source": [
      "After getting data back from Sequencing we need to process the RAD tags. I will be using iplant Discovery Environment to handle this. \n"
     ]
    },
    {
     "cell_type": "markdown",
     "metadata": {},
     "source": [
      "First I need to import my data from its host URL. I'm using the [olyo-rad-01.fastq](http://eagle.fish.washington.edu/trilobite/Crassostrea_gigas_HTSdata/batterbox/RADoly_01/olyo-rad-01.fastq) file from Eagle."
     ]
    },
    {
     "cell_type": "markdown",
     "metadata": {},
     "source": [
      "In the iplant Discovery Environment, navigate to the data button, click upload in the top right corner of the pop up and import from the URL provided. "
     ]
    },
    {
     "cell_type": "code",
     "collapsed": false,
     "input": [
      "cd ../"
     ],
     "language": "python",
     "metadata": {},
     "outputs": [
      {
       "output_type": "stream",
       "stream": "stdout",
       "text": [
        "/Users/srlab/Fish546-Jake\n"
       ]
      }
     ],
     "prompt_number": 2
    },
    {
     "cell_type": "code",
     "collapsed": false,
     "input": [
      "cd data"
     ],
     "language": "python",
     "metadata": {},
     "outputs": [
      {
       "output_type": "stream",
       "stream": "stdout",
       "text": [
        "/Users/srlab/Fish546-Jake/data\n"
       ]
      }
     ],
     "prompt_number": 5
    },
    {
     "cell_type": "code",
     "collapsed": false,
     "input": [
      "wget http://owl.fish.washington.edu/nightingales/O_lurida/lane1_NoIndex_L001_R1_001.fastq.gz"
     ],
     "language": "python",
     "metadata": {},
     "outputs": [
      {
       "ename": "SyntaxError",
       "evalue": "invalid syntax (<ipython-input-7-e82a87f9b941>, line 1)",
       "output_type": "pyerr",
       "traceback": [
        "\u001b[0;36m  File \u001b[0;32m\"<ipython-input-7-e82a87f9b941>\"\u001b[0;36m, line \u001b[0;32m1\u001b[0m\n\u001b[0;31m    wget http://owl.fish.washington.edu/nightingales/O_lurida/lane1_NoIndex_L001_R1_001.fastq.gz\u001b[0m\n\u001b[0m            ^\u001b[0m\n\u001b[0;31mSyntaxError\u001b[0m\u001b[0;31m:\u001b[0m invalid syntax\n"
       ]
      }
     ],
     "prompt_number": 7
    },
    {
     "cell_type": "code",
     "collapsed": false,
     "input": [
      "!process_radtags -f http://owl.fish.washington.edu/nightingales/O_lurida/lane1_NoIndex_L001_R1_001.fastq.gz -o ./samples/ -b ./data/decradbarcodes1.csv -e sbfI -r -c -q -i fastq"
     ],
     "language": "python",
     "metadata": {},
     "outputs": [
      {
       "output_type": "stream",
       "stream": "stdout",
       "text": [
        "Using Phred+33 encoding for quality scores.\r\n",
        "Found 1 input file(s).\r\n",
        "Searching for single-end, inlined barcodes.\r\n",
        "Loaded 96 barcodes (6bp).\r\n",
        "Processing file 1 of 1 [lane1_NoIndex_L001_R1_001.fastq.gz]\r\n",
        "Error opening input file 'http://owl.fish.washington.edu/nightingales/O_lurida/lane1_NoIndex_L001_R1_001.fastq.gz'\r\n",
        "Attempting to read first input record, unable to allocate Seq object (Was the correct input type specified?).\r\n"
       ]
      }
     ],
     "prompt_number": 4
    }
   ],
   "metadata": {}
  }
 ]
}